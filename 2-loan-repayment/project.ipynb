{
 "cells": [
  {
   "cell_type": "markdown",
   "id": "4f11de00",
   "metadata": {
    "deletable": false,
    "editable": false,
    "id": "4f11de00"
   },
   "source": [
    "# Исследование надежности заемщиков"
   ]
  },
  {
   "cell_type": "markdown",
   "id": "f09d6878",
   "metadata": {
    "deletable": false,
    "editable": false,
    "id": "f09d6878"
   },
   "source": [
    "Это первая часть проекта, она будет проверена автоматически. Вторую часть проверит ревьюер. "
   ]
  },
  {
   "cell_type": "markdown",
   "id": "516620ee",
   "metadata": {
    "deletable": false,
    "editable": false,
    "id": "516620ee"
   },
   "source": [
    "## Откройте таблицу и изучите общую информацию о данных"
   ]
  },
  {
   "cell_type": "markdown",
   "id": "76a8a9ce",
   "metadata": {
    "deletable": false,
    "editable": false,
    "id": "76a8a9ce",
    "tags": [
     "start_task"
    ]
   },
   "source": [
    "**Задание 1. Импортируйте библиотеку pandas. Считайте данные из csv-файла в датафрейм и сохраните в переменную `data`. Путь к файлу:**\n",
    "\n",
    "`/datasets/data.csv`"
   ]
  },
  {
   "cell_type": "code",
   "id": "fab207d0",
   "metadata": {
    "id": "fab207d0",
    "ExecuteTime": {
     "end_time": "2024-09-26T01:14:37.620442Z",
     "start_time": "2024-09-26T01:14:37.612922Z"
    }
   },
   "source": [
    "import pandas as pd"
   ],
   "outputs": [],
   "execution_count": 4
  },
  {
   "cell_type": "code",
   "id": "6c82b607",
   "metadata": {
    "id": "6c82b607",
    "ExecuteTime": {
     "end_time": "2024-09-26T01:14:37.793941Z",
     "start_time": "2024-09-26T01:14:37.648513Z"
    }
   },
   "source": "data = pd.read_csv('./data.csv')",
   "outputs": [],
   "execution_count": 5
  },
  {
   "cell_type": "markdown",
   "id": "08bbb5b3",
   "metadata": {
    "deletable": false,
    "editable": false,
    "id": "08bbb5b3",
    "tags": [
     "start_task"
    ]
   },
   "source": [
    "**Задание 2. Выведите первые 20 строчек датафрейма `data` на экран.**"
   ]
  },
  {
   "cell_type": "code",
   "id": "4ff33b36",
   "metadata": {
    "id": "4ff33b36",
    "ExecuteTime": {
     "end_time": "2024-09-26T01:14:37.871901Z",
     "start_time": "2024-09-26T01:14:37.842992Z"
    }
   },
   "source": [
    "data.head(20)"
   ],
   "outputs": [
    {
     "data": {
      "text/plain": [
       "    children  days_employed  dob_years            education  education_id  \\\n",
       "0          1   -8437.673028         42               высшее             0   \n",
       "1          1   -4024.803754         36              среднее             1   \n",
       "2          0   -5623.422610         33              Среднее             1   \n",
       "3          3   -4124.747207         32              среднее             1   \n",
       "4          0  340266.072047         53              среднее             1   \n",
       "5          0    -926.185831         27               высшее             0   \n",
       "6          0   -2879.202052         43               высшее             0   \n",
       "7          0    -152.779569         50              СРЕДНЕЕ             1   \n",
       "8          2   -6929.865299         35               ВЫСШЕЕ             0   \n",
       "9          0   -2188.756445         41              среднее             1   \n",
       "10         2   -4171.483647         36               высшее             0   \n",
       "11         0    -792.701887         40              среднее             1   \n",
       "12         0            NaN         65              среднее             1   \n",
       "13         0   -1846.641941         54  неоконченное высшее             2   \n",
       "14         0   -1844.956182         56               высшее             0   \n",
       "15         1    -972.364419         26              среднее             1   \n",
       "16         0   -1719.934226         35              среднее             1   \n",
       "17         0   -2369.999720         33               высшее             0   \n",
       "18         0  400281.136913         53              среднее             1   \n",
       "19         0  -10038.818549         48              СРЕДНЕЕ             1   \n",
       "\n",
       "       family_status  family_status_id gender income_type  debt  \\\n",
       "0    женат / замужем                 0      F   сотрудник     0   \n",
       "1    женат / замужем                 0      F   сотрудник     0   \n",
       "2    женат / замужем                 0      M   сотрудник     0   \n",
       "3    женат / замужем                 0      M   сотрудник     0   \n",
       "4   гражданский брак                 1      F   пенсионер     0   \n",
       "5   гражданский брак                 1      M   компаньон     0   \n",
       "6    женат / замужем                 0      F   компаньон     0   \n",
       "7    женат / замужем                 0      M   сотрудник     0   \n",
       "8   гражданский брак                 1      F   сотрудник     0   \n",
       "9    женат / замужем                 0      M   сотрудник     0   \n",
       "10   женат / замужем                 0      M   компаньон     0   \n",
       "11   женат / замужем                 0      F   сотрудник     0   \n",
       "12  гражданский брак                 1      M   пенсионер     0   \n",
       "13   женат / замужем                 0      F   сотрудник     0   \n",
       "14  гражданский брак                 1      F   компаньон     1   \n",
       "15   женат / замужем                 0      F   сотрудник     0   \n",
       "16   женат / замужем                 0      F   сотрудник     0   \n",
       "17  гражданский брак                 1      M   сотрудник     0   \n",
       "18    вдовец / вдова                 2      F   пенсионер     0   \n",
       "19         в разводе                 3      F   сотрудник     0   \n",
       "\n",
       "     total_income                                 purpose  \n",
       "0   253875.639453                           покупка жилья  \n",
       "1   112080.014102                 приобретение автомобиля  \n",
       "2   145885.952297                           покупка жилья  \n",
       "3   267628.550329              дополнительное образование  \n",
       "4   158616.077870                         сыграть свадьбу  \n",
       "5   255763.565419                           покупка жилья  \n",
       "6   240525.971920                       операции с жильем  \n",
       "7   135823.934197                             образование  \n",
       "8    95856.832424                   на проведение свадьбы  \n",
       "9   144425.938277                 покупка жилья для семьи  \n",
       "10  113943.491460                    покупка недвижимости  \n",
       "11   77069.234271       покупка коммерческой недвижимости  \n",
       "12            NaN                         сыграть свадьбу  \n",
       "13  130458.228857                 приобретение автомобиля  \n",
       "14  165127.911772              покупка жилой недвижимости  \n",
       "15  116820.904450  строительство собственной недвижимости  \n",
       "16  289202.704229                            недвижимость  \n",
       "17   90410.586745              строительство недвижимости  \n",
       "18   56823.777243      на покупку подержанного автомобиля  \n",
       "19  242831.107982            на покупку своего автомобиля  "
      ],
      "text/html": [
       "<div>\n",
       "<style scoped>\n",
       "    .dataframe tbody tr th:only-of-type {\n",
       "        vertical-align: middle;\n",
       "    }\n",
       "\n",
       "    .dataframe tbody tr th {\n",
       "        vertical-align: top;\n",
       "    }\n",
       "\n",
       "    .dataframe thead th {\n",
       "        text-align: right;\n",
       "    }\n",
       "</style>\n",
       "<table border=\"1\" class=\"dataframe\">\n",
       "  <thead>\n",
       "    <tr style=\"text-align: right;\">\n",
       "      <th></th>\n",
       "      <th>children</th>\n",
       "      <th>days_employed</th>\n",
       "      <th>dob_years</th>\n",
       "      <th>education</th>\n",
       "      <th>education_id</th>\n",
       "      <th>family_status</th>\n",
       "      <th>family_status_id</th>\n",
       "      <th>gender</th>\n",
       "      <th>income_type</th>\n",
       "      <th>debt</th>\n",
       "      <th>total_income</th>\n",
       "      <th>purpose</th>\n",
       "    </tr>\n",
       "  </thead>\n",
       "  <tbody>\n",
       "    <tr>\n",
       "      <th>0</th>\n",
       "      <td>1</td>\n",
       "      <td>-8437.673028</td>\n",
       "      <td>42</td>\n",
       "      <td>высшее</td>\n",
       "      <td>0</td>\n",
       "      <td>женат / замужем</td>\n",
       "      <td>0</td>\n",
       "      <td>F</td>\n",
       "      <td>сотрудник</td>\n",
       "      <td>0</td>\n",
       "      <td>253875.639453</td>\n",
       "      <td>покупка жилья</td>\n",
       "    </tr>\n",
       "    <tr>\n",
       "      <th>1</th>\n",
       "      <td>1</td>\n",
       "      <td>-4024.803754</td>\n",
       "      <td>36</td>\n",
       "      <td>среднее</td>\n",
       "      <td>1</td>\n",
       "      <td>женат / замужем</td>\n",
       "      <td>0</td>\n",
       "      <td>F</td>\n",
       "      <td>сотрудник</td>\n",
       "      <td>0</td>\n",
       "      <td>112080.014102</td>\n",
       "      <td>приобретение автомобиля</td>\n",
       "    </tr>\n",
       "    <tr>\n",
       "      <th>2</th>\n",
       "      <td>0</td>\n",
       "      <td>-5623.422610</td>\n",
       "      <td>33</td>\n",
       "      <td>Среднее</td>\n",
       "      <td>1</td>\n",
       "      <td>женат / замужем</td>\n",
       "      <td>0</td>\n",
       "      <td>M</td>\n",
       "      <td>сотрудник</td>\n",
       "      <td>0</td>\n",
       "      <td>145885.952297</td>\n",
       "      <td>покупка жилья</td>\n",
       "    </tr>\n",
       "    <tr>\n",
       "      <th>3</th>\n",
       "      <td>3</td>\n",
       "      <td>-4124.747207</td>\n",
       "      <td>32</td>\n",
       "      <td>среднее</td>\n",
       "      <td>1</td>\n",
       "      <td>женат / замужем</td>\n",
       "      <td>0</td>\n",
       "      <td>M</td>\n",
       "      <td>сотрудник</td>\n",
       "      <td>0</td>\n",
       "      <td>267628.550329</td>\n",
       "      <td>дополнительное образование</td>\n",
       "    </tr>\n",
       "    <tr>\n",
       "      <th>4</th>\n",
       "      <td>0</td>\n",
       "      <td>340266.072047</td>\n",
       "      <td>53</td>\n",
       "      <td>среднее</td>\n",
       "      <td>1</td>\n",
       "      <td>гражданский брак</td>\n",
       "      <td>1</td>\n",
       "      <td>F</td>\n",
       "      <td>пенсионер</td>\n",
       "      <td>0</td>\n",
       "      <td>158616.077870</td>\n",
       "      <td>сыграть свадьбу</td>\n",
       "    </tr>\n",
       "    <tr>\n",
       "      <th>5</th>\n",
       "      <td>0</td>\n",
       "      <td>-926.185831</td>\n",
       "      <td>27</td>\n",
       "      <td>высшее</td>\n",
       "      <td>0</td>\n",
       "      <td>гражданский брак</td>\n",
       "      <td>1</td>\n",
       "      <td>M</td>\n",
       "      <td>компаньон</td>\n",
       "      <td>0</td>\n",
       "      <td>255763.565419</td>\n",
       "      <td>покупка жилья</td>\n",
       "    </tr>\n",
       "    <tr>\n",
       "      <th>6</th>\n",
       "      <td>0</td>\n",
       "      <td>-2879.202052</td>\n",
       "      <td>43</td>\n",
       "      <td>высшее</td>\n",
       "      <td>0</td>\n",
       "      <td>женат / замужем</td>\n",
       "      <td>0</td>\n",
       "      <td>F</td>\n",
       "      <td>компаньон</td>\n",
       "      <td>0</td>\n",
       "      <td>240525.971920</td>\n",
       "      <td>операции с жильем</td>\n",
       "    </tr>\n",
       "    <tr>\n",
       "      <th>7</th>\n",
       "      <td>0</td>\n",
       "      <td>-152.779569</td>\n",
       "      <td>50</td>\n",
       "      <td>СРЕДНЕЕ</td>\n",
       "      <td>1</td>\n",
       "      <td>женат / замужем</td>\n",
       "      <td>0</td>\n",
       "      <td>M</td>\n",
       "      <td>сотрудник</td>\n",
       "      <td>0</td>\n",
       "      <td>135823.934197</td>\n",
       "      <td>образование</td>\n",
       "    </tr>\n",
       "    <tr>\n",
       "      <th>8</th>\n",
       "      <td>2</td>\n",
       "      <td>-6929.865299</td>\n",
       "      <td>35</td>\n",
       "      <td>ВЫСШЕЕ</td>\n",
       "      <td>0</td>\n",
       "      <td>гражданский брак</td>\n",
       "      <td>1</td>\n",
       "      <td>F</td>\n",
       "      <td>сотрудник</td>\n",
       "      <td>0</td>\n",
       "      <td>95856.832424</td>\n",
       "      <td>на проведение свадьбы</td>\n",
       "    </tr>\n",
       "    <tr>\n",
       "      <th>9</th>\n",
       "      <td>0</td>\n",
       "      <td>-2188.756445</td>\n",
       "      <td>41</td>\n",
       "      <td>среднее</td>\n",
       "      <td>1</td>\n",
       "      <td>женат / замужем</td>\n",
       "      <td>0</td>\n",
       "      <td>M</td>\n",
       "      <td>сотрудник</td>\n",
       "      <td>0</td>\n",
       "      <td>144425.938277</td>\n",
       "      <td>покупка жилья для семьи</td>\n",
       "    </tr>\n",
       "    <tr>\n",
       "      <th>10</th>\n",
       "      <td>2</td>\n",
       "      <td>-4171.483647</td>\n",
       "      <td>36</td>\n",
       "      <td>высшее</td>\n",
       "      <td>0</td>\n",
       "      <td>женат / замужем</td>\n",
       "      <td>0</td>\n",
       "      <td>M</td>\n",
       "      <td>компаньон</td>\n",
       "      <td>0</td>\n",
       "      <td>113943.491460</td>\n",
       "      <td>покупка недвижимости</td>\n",
       "    </tr>\n",
       "    <tr>\n",
       "      <th>11</th>\n",
       "      <td>0</td>\n",
       "      <td>-792.701887</td>\n",
       "      <td>40</td>\n",
       "      <td>среднее</td>\n",
       "      <td>1</td>\n",
       "      <td>женат / замужем</td>\n",
       "      <td>0</td>\n",
       "      <td>F</td>\n",
       "      <td>сотрудник</td>\n",
       "      <td>0</td>\n",
       "      <td>77069.234271</td>\n",
       "      <td>покупка коммерческой недвижимости</td>\n",
       "    </tr>\n",
       "    <tr>\n",
       "      <th>12</th>\n",
       "      <td>0</td>\n",
       "      <td>NaN</td>\n",
       "      <td>65</td>\n",
       "      <td>среднее</td>\n",
       "      <td>1</td>\n",
       "      <td>гражданский брак</td>\n",
       "      <td>1</td>\n",
       "      <td>M</td>\n",
       "      <td>пенсионер</td>\n",
       "      <td>0</td>\n",
       "      <td>NaN</td>\n",
       "      <td>сыграть свадьбу</td>\n",
       "    </tr>\n",
       "    <tr>\n",
       "      <th>13</th>\n",
       "      <td>0</td>\n",
       "      <td>-1846.641941</td>\n",
       "      <td>54</td>\n",
       "      <td>неоконченное высшее</td>\n",
       "      <td>2</td>\n",
       "      <td>женат / замужем</td>\n",
       "      <td>0</td>\n",
       "      <td>F</td>\n",
       "      <td>сотрудник</td>\n",
       "      <td>0</td>\n",
       "      <td>130458.228857</td>\n",
       "      <td>приобретение автомобиля</td>\n",
       "    </tr>\n",
       "    <tr>\n",
       "      <th>14</th>\n",
       "      <td>0</td>\n",
       "      <td>-1844.956182</td>\n",
       "      <td>56</td>\n",
       "      <td>высшее</td>\n",
       "      <td>0</td>\n",
       "      <td>гражданский брак</td>\n",
       "      <td>1</td>\n",
       "      <td>F</td>\n",
       "      <td>компаньон</td>\n",
       "      <td>1</td>\n",
       "      <td>165127.911772</td>\n",
       "      <td>покупка жилой недвижимости</td>\n",
       "    </tr>\n",
       "    <tr>\n",
       "      <th>15</th>\n",
       "      <td>1</td>\n",
       "      <td>-972.364419</td>\n",
       "      <td>26</td>\n",
       "      <td>среднее</td>\n",
       "      <td>1</td>\n",
       "      <td>женат / замужем</td>\n",
       "      <td>0</td>\n",
       "      <td>F</td>\n",
       "      <td>сотрудник</td>\n",
       "      <td>0</td>\n",
       "      <td>116820.904450</td>\n",
       "      <td>строительство собственной недвижимости</td>\n",
       "    </tr>\n",
       "    <tr>\n",
       "      <th>16</th>\n",
       "      <td>0</td>\n",
       "      <td>-1719.934226</td>\n",
       "      <td>35</td>\n",
       "      <td>среднее</td>\n",
       "      <td>1</td>\n",
       "      <td>женат / замужем</td>\n",
       "      <td>0</td>\n",
       "      <td>F</td>\n",
       "      <td>сотрудник</td>\n",
       "      <td>0</td>\n",
       "      <td>289202.704229</td>\n",
       "      <td>недвижимость</td>\n",
       "    </tr>\n",
       "    <tr>\n",
       "      <th>17</th>\n",
       "      <td>0</td>\n",
       "      <td>-2369.999720</td>\n",
       "      <td>33</td>\n",
       "      <td>высшее</td>\n",
       "      <td>0</td>\n",
       "      <td>гражданский брак</td>\n",
       "      <td>1</td>\n",
       "      <td>M</td>\n",
       "      <td>сотрудник</td>\n",
       "      <td>0</td>\n",
       "      <td>90410.586745</td>\n",
       "      <td>строительство недвижимости</td>\n",
       "    </tr>\n",
       "    <tr>\n",
       "      <th>18</th>\n",
       "      <td>0</td>\n",
       "      <td>400281.136913</td>\n",
       "      <td>53</td>\n",
       "      <td>среднее</td>\n",
       "      <td>1</td>\n",
       "      <td>вдовец / вдова</td>\n",
       "      <td>2</td>\n",
       "      <td>F</td>\n",
       "      <td>пенсионер</td>\n",
       "      <td>0</td>\n",
       "      <td>56823.777243</td>\n",
       "      <td>на покупку подержанного автомобиля</td>\n",
       "    </tr>\n",
       "    <tr>\n",
       "      <th>19</th>\n",
       "      <td>0</td>\n",
       "      <td>-10038.818549</td>\n",
       "      <td>48</td>\n",
       "      <td>СРЕДНЕЕ</td>\n",
       "      <td>1</td>\n",
       "      <td>в разводе</td>\n",
       "      <td>3</td>\n",
       "      <td>F</td>\n",
       "      <td>сотрудник</td>\n",
       "      <td>0</td>\n",
       "      <td>242831.107982</td>\n",
       "      <td>на покупку своего автомобиля</td>\n",
       "    </tr>\n",
       "  </tbody>\n",
       "</table>\n",
       "</div>"
      ]
     },
     "execution_count": 6,
     "metadata": {},
     "output_type": "execute_result"
    }
   ],
   "execution_count": 6
  },
  {
   "cell_type": "markdown",
   "id": "c8f382ae",
   "metadata": {
    "deletable": false,
    "editable": false,
    "id": "c8f382ae",
    "tags": [
     "start_task"
    ]
   },
   "source": [
    "**Задание 3. Выведите основную информацию о датафрейме с помощью метода `info()`.**"
   ]
  },
  {
   "cell_type": "code",
   "id": "e1ed9908",
   "metadata": {
    "id": "e1ed9908",
    "ExecuteTime": {
     "end_time": "2024-09-26T01:14:38.026636Z",
     "start_time": "2024-09-26T01:14:37.998592Z"
    }
   },
   "source": [
    "data.info()"
   ],
   "outputs": [
    {
     "name": "stdout",
     "output_type": "stream",
     "text": [
      "<class 'pandas.core.frame.DataFrame'>\n",
      "RangeIndex: 21525 entries, 0 to 21524\n",
      "Data columns (total 12 columns):\n",
      " #   Column            Non-Null Count  Dtype  \n",
      "---  ------            --------------  -----  \n",
      " 0   children          21525 non-null  int64  \n",
      " 1   days_employed     19351 non-null  float64\n",
      " 2   dob_years         21525 non-null  int64  \n",
      " 3   education         21525 non-null  object \n",
      " 4   education_id      21525 non-null  int64  \n",
      " 5   family_status     21525 non-null  object \n",
      " 6   family_status_id  21525 non-null  int64  \n",
      " 7   gender            21525 non-null  object \n",
      " 8   income_type       21525 non-null  object \n",
      " 9   debt              21525 non-null  int64  \n",
      " 10  total_income      19351 non-null  float64\n",
      " 11  purpose           21525 non-null  object \n",
      "dtypes: float64(2), int64(5), object(5)\n",
      "memory usage: 2.0+ MB\n"
     ]
    }
   ],
   "execution_count": 7
  },
  {
   "cell_type": "markdown",
   "id": "f969a1cd",
   "metadata": {
    "deletable": false,
    "editable": false,
    "id": "f969a1cd"
   },
   "source": [
    "## Предобработка данных"
   ]
  },
  {
   "cell_type": "markdown",
   "id": "7283e864",
   "metadata": {
    "deletable": false,
    "editable": false,
    "id": "7283e864"
   },
   "source": [
    "### Удаление пропусков"
   ]
  },
  {
   "cell_type": "markdown",
   "id": "c9a0745e",
   "metadata": {
    "deletable": false,
    "editable": false,
    "id": "c9a0745e",
    "tags": [
     "start_task"
    ]
   },
   "source": [
    "**Задание 4. Выведите количество пропущенных значений для каждого столбца. Используйте комбинацию двух методов.**"
   ]
  },
  {
   "cell_type": "code",
   "id": "b7a096e1",
   "metadata": {
    "id": "b7a096e1",
    "ExecuteTime": {
     "end_time": "2024-09-26T01:14:38.184324Z",
     "start_time": "2024-09-26T01:14:38.174812Z"
    }
   },
   "source": [
    "data.isna().sum()"
   ],
   "outputs": [
    {
     "data": {
      "text/plain": [
       "children               0\n",
       "days_employed       2174\n",
       "dob_years              0\n",
       "education              0\n",
       "education_id           0\n",
       "family_status          0\n",
       "family_status_id       0\n",
       "gender                 0\n",
       "income_type            0\n",
       "debt                   0\n",
       "total_income        2174\n",
       "purpose                0\n",
       "dtype: int64"
      ]
     },
     "execution_count": 8,
     "metadata": {},
     "output_type": "execute_result"
    }
   ],
   "execution_count": 8
  },
  {
   "cell_type": "markdown",
   "id": "c2578616",
   "metadata": {
    "deletable": false,
    "editable": false,
    "id": "c2578616",
    "tags": [
     "start_task"
    ]
   },
   "source": [
    "**Задание 5. В двух столбцах есть пропущенные значения. Один из них — `days_employed`. Пропуски в этом столбце вы обработаете на следующем этапе. Другой столбец с пропущенными значениями — `total_income` — хранит данные о доходах. На сумму дохода сильнее всего влияет тип занятости, поэтому заполнить пропуски в этом столбце нужно медианным значением по каждому типу из столбца `income_type`. Например, у человека с типом занятости `сотрудник` пропуск в столбце `total_income` должен быть заполнен медианным доходом среди всех записей с тем же типом.**"
   ]
  },
  {
   "cell_type": "code",
   "id": "e8afc4bc",
   "metadata": {
    "id": "e8afc4bc",
    "ExecuteTime": {
     "end_time": "2024-09-26T01:14:43.302889Z",
     "start_time": "2024-09-26T01:14:38.435460Z"
    }
   },
   "source": [
    "def fill_missing_income(row):\n",
    "    if pd.isnull(row['total_income']):\n",
    "        median_income = data.groupby('income_type')['total_income'].median()[row['income_type']]\n",
    "        return median_income\n",
    "    else:\n",
    "        return row['total_income']\n",
    "\n",
    "data['total_income'] = data.apply(fill_missing_income, axis=1)"
   ],
   "outputs": [],
   "execution_count": 9
  },
  {
   "cell_type": "markdown",
   "id": "ae986d46",
   "metadata": {
    "deletable": false,
    "editable": false,
    "id": "ae986d46"
   },
   "source": [
    "### Обработка аномальных значений"
   ]
  },
  {
   "cell_type": "markdown",
   "id": "b049cbae",
   "metadata": {
    "deletable": false,
    "editable": false,
    "id": "b049cbae",
    "tags": [
     "start_task"
    ]
   },
   "source": [
    "**Задание 6. В данных могут встречаться артефакты (аномалии) — значения, которые не отражают действительность и появились по какой-то ошибке. Таким артефактом будет отрицательное количество дней трудового стажа в столбце `days_employed`. Для реальных данных это нормально. Обработайте значения в этом столбце: замените все отрицательные значения положительными с помощью метода `abs()`.**"
   ]
  },
  {
   "cell_type": "code",
   "id": "187779b0",
   "metadata": {
    "id": "187779b0",
    "ExecuteTime": {
     "end_time": "2024-09-26T01:14:43.381083Z",
     "start_time": "2024-09-26T01:14:43.366057Z"
    }
   },
   "source": [
    "data['days_employed'] = data['days_employed'].abs()"
   ],
   "outputs": [],
   "execution_count": 10
  },
  {
   "cell_type": "markdown",
   "id": "a13054c2",
   "metadata": {
    "deletable": false,
    "editable": false,
    "id": "a13054c2",
    "tags": [
     "start_task"
    ]
   },
   "source": [
    "**Задание 7. Для каждого типа занятости выведите медианное значение трудового стажа `days_employed` в днях.**"
   ]
  },
  {
   "cell_type": "code",
   "id": "f3f5810c",
   "metadata": {
    "id": "f3f5810c",
    "ExecuteTime": {
     "end_time": "2024-09-26T01:14:43.427443Z",
     "start_time": "2024-09-26T01:14:43.405697Z"
    }
   },
   "source": [
    "median_days_employed = data.groupby('income_type')['days_employed'].median()\n",
    "print(median_days_employed)"
   ],
   "outputs": [
    {
     "name": "stdout",
     "output_type": "stream",
     "text": [
      "income_type\n",
      "безработный        366413.652744\n",
      "в декрете            3296.759962\n",
      "госслужащий          2689.368353\n",
      "компаньон            1547.382223\n",
      "пенсионер          365213.306266\n",
      "предприниматель       520.848083\n",
      "сотрудник            1574.202821\n",
      "студент               578.751554\n",
      "Name: days_employed, dtype: float64\n"
     ]
    }
   ],
   "execution_count": 11
  },
  {
   "cell_type": "markdown",
   "id": "dbc3168c",
   "metadata": {
    "deletable": false,
    "editable": false,
    "id": "dbc3168c"
   },
   "source": [
    "У двух типов (безработные и пенсионеры) получатся аномально большие значения. Исправить такие значения сложно, поэтому оставьте их как есть."
   ]
  },
  {
   "cell_type": "markdown",
   "id": "ff4378c2",
   "metadata": {
    "deletable": false,
    "editable": false,
    "id": "ff4378c2",
    "tags": [
     "start_task"
    ]
   },
   "source": [
    "**Задание 8. Выведите перечень уникальных значений столбца `children`.**"
   ]
  },
  {
   "cell_type": "code",
   "id": "9bd0c232",
   "metadata": {
    "id": "9bd0c232",
    "ExecuteTime": {
     "end_time": "2024-09-26T01:14:43.520286Z",
     "start_time": "2024-09-26T01:14:43.501783Z"
    }
   },
   "source": [
    "data['children'].unique()"
   ],
   "outputs": [
    {
     "data": {
      "text/plain": [
       "array([ 1,  0,  3,  2, -1,  4, 20,  5], dtype=int64)"
      ]
     },
     "execution_count": 12,
     "metadata": {},
     "output_type": "execute_result"
    }
   ],
   "execution_count": 12
  },
  {
   "cell_type": "markdown",
   "id": "8e911990",
   "metadata": {
    "deletable": false,
    "editable": false,
    "id": "8e911990",
    "tags": [
     "start_task"
    ]
   },
   "source": [
    "**Задание 9. В столбце `children` есть два аномальных значения. Удалите строки, в которых встречаются такие аномальные значения из датафрейма `data`.**"
   ]
  },
  {
   "cell_type": "code",
   "id": "6d5ba289",
   "metadata": {
    "id": "6d5ba289",
    "ExecuteTime": {
     "end_time": "2024-09-26T01:14:43.581755Z",
     "start_time": "2024-09-26T01:14:43.568635Z"
    }
   },
   "source": [
    "data = data[(data['children'] != -1) & (data['children'] != 20)]"
   ],
   "outputs": [],
   "execution_count": 13
  },
  {
   "cell_type": "markdown",
   "id": "18d77455",
   "metadata": {
    "deletable": false,
    "editable": false,
    "id": "18d77455",
    "tags": [
     "start_task"
    ]
   },
   "source": [
    "**Задание 10. Ещё раз выведите перечень уникальных значений столбца `children`, чтобы убедиться, что артефакты удалены.**"
   ]
  },
  {
   "cell_type": "code",
   "id": "2c5fa92c",
   "metadata": {
    "id": "2c5fa92c",
    "ExecuteTime": {
     "end_time": "2024-09-26T01:14:43.629078Z",
     "start_time": "2024-09-26T01:14:43.617542Z"
    }
   },
   "source": [
    "data['children'].unique()"
   ],
   "outputs": [
    {
     "data": {
      "text/plain": [
       "array([1, 0, 3, 2, 4, 5], dtype=int64)"
      ]
     },
     "execution_count": 14,
     "metadata": {},
     "output_type": "execute_result"
    }
   ],
   "execution_count": 14
  },
  {
   "cell_type": "markdown",
   "id": "0ec07dee",
   "metadata": {
    "deletable": false,
    "editable": false,
    "id": "0ec07dee"
   },
   "source": [
    "### Удаление пропусков (продолжение)"
   ]
  },
  {
   "cell_type": "markdown",
   "id": "0fc3ae3f",
   "metadata": {
    "deletable": false,
    "editable": false,
    "id": "0fc3ae3f",
    "tags": [
     "start_task"
    ]
   },
   "source": [
    "**Задание 11. Заполните пропуски в столбце `days_employed` медианными значениями по каждому типу занятости `income_type`.**"
   ]
  },
  {
   "cell_type": "code",
   "id": "e2aea7ac",
   "metadata": {
    "id": "e2aea7ac",
    "ExecuteTime": {
     "end_time": "2024-09-26T01:14:48.453959Z",
     "start_time": "2024-09-26T01:14:43.665694Z"
    }
   },
   "source": [
    "def fill_missing_days(row):\n",
    "    if pd.isnull(row['days_employed']):\n",
    "        median_income = data.groupby('income_type')['days_employed'].median()[row['income_type']]\n",
    "        return median_income\n",
    "    else:\n",
    "        return row['days_employed']\n",
    "    \n",
    "data['days_employed'] = data.apply(fill_missing_days, axis=1)"
   ],
   "outputs": [],
   "execution_count": 15
  },
  {
   "cell_type": "markdown",
   "id": "97b0b795",
   "metadata": {
    "deletable": false,
    "editable": false,
    "id": "97b0b795",
    "tags": [
     "start_task"
    ]
   },
   "source": [
    "**Задание 12. Убедитесь, что все пропуски заполнены. Проверьте себя и ещё раз выведите количество пропущенных значений для каждого столбца с помощью двух методов.**"
   ]
  },
  {
   "cell_type": "code",
   "id": "79632a21",
   "metadata": {
    "id": "79632a21",
    "ExecuteTime": {
     "end_time": "2024-09-26T01:14:48.485519Z",
     "start_time": "2024-09-26T01:14:48.472Z"
    }
   },
   "source": [
    "data.isna().sum()"
   ],
   "outputs": [
    {
     "data": {
      "text/plain": [
       "children            0\n",
       "days_employed       0\n",
       "dob_years           0\n",
       "education           0\n",
       "education_id        0\n",
       "family_status       0\n",
       "family_status_id    0\n",
       "gender              0\n",
       "income_type         0\n",
       "debt                0\n",
       "total_income        0\n",
       "purpose             0\n",
       "dtype: int64"
      ]
     },
     "execution_count": 16,
     "metadata": {},
     "output_type": "execute_result"
    }
   ],
   "execution_count": 16
  },
  {
   "cell_type": "markdown",
   "id": "bd4aeb20",
   "metadata": {
    "deletable": false,
    "editable": false,
    "id": "bd4aeb20"
   },
   "source": [
    "### Изменение типов данных"
   ]
  },
  {
   "cell_type": "markdown",
   "id": "963bfa58",
   "metadata": {
    "deletable": false,
    "editable": false,
    "id": "963bfa58",
    "tags": [
     "start_task"
    ]
   },
   "source": [
    "**Задание 13. Замените вещественный тип данных в столбце `total_income` на целочисленный с помощью метода `astype()`.**"
   ]
  },
  {
   "cell_type": "code",
   "id": "73da6ea0",
   "metadata": {
    "id": "73da6ea0",
    "ExecuteTime": {
     "end_time": "2024-09-26T01:14:48.595282Z",
     "start_time": "2024-09-26T01:14:48.583758Z"
    }
   },
   "source": [
    "data['total_income'] = data['total_income'].astype('int')"
   ],
   "outputs": [],
   "execution_count": 17
  },
  {
   "cell_type": "markdown",
   "id": "d290239e",
   "metadata": {
    "deletable": false,
    "editable": false,
    "id": "d290239e"
   },
   "source": [
    "### Обработка дубликатов"
   ]
  },
  {
   "cell_type": "markdown",
   "id": "1b5844fd",
   "metadata": {
    "deletable": false,
    "editable": false,
    "id": "1b5844fd",
    "tags": [
     "start_task"
    ]
   },
   "source": [
    "**Задание 14. Обработайте неявные дубликаты в столбце `education`. В этом столбце есть одни и те же значения, но записанные по-разному: с использованием заглавных и строчных букв. Приведите их к нижнему регистру.**"
   ]
  },
  {
   "cell_type": "code",
   "id": "3f2504b3",
   "metadata": {
    "id": "3f2504b3",
    "ExecuteTime": {
     "end_time": "2024-09-26T01:14:48.689099Z",
     "start_time": "2024-09-26T01:14:48.665546Z"
    }
   },
   "source": [
    "data['education'] = data['education'].str.lower()"
   ],
   "outputs": [],
   "execution_count": 18
  },
  {
   "cell_type": "markdown",
   "id": "4c22acbc",
   "metadata": {
    "deletable": false,
    "editable": false,
    "id": "4c22acbc",
    "tags": [
     "start_task"
    ]
   },
   "source": [
    "**Задание 15. Выведите на экран количество строк-дубликатов в данных. Если такие строки присутствуют, удалите их.**"
   ]
  },
  {
   "cell_type": "code",
   "id": "d34a4325",
   "metadata": {
    "id": "d34a4325",
    "ExecuteTime": {
     "end_time": "2024-09-26T01:14:48.815335Z",
     "start_time": "2024-09-26T01:14:48.788649Z"
    }
   },
   "source": [
    "print(data.duplicated().sum())"
   ],
   "outputs": [
    {
     "name": "stdout",
     "output_type": "stream",
     "text": [
      "71\n"
     ]
    }
   ],
   "execution_count": 19
  },
  {
   "cell_type": "code",
   "id": "6e1a6499",
   "metadata": {
    "id": "6e1a6499",
    "ExecuteTime": {
     "end_time": "2024-09-26T01:14:48.925481Z",
     "start_time": "2024-09-26T01:14:48.895916Z"
    }
   },
   "source": [
    "data = data.drop_duplicates(keep='first')"
   ],
   "outputs": [],
   "execution_count": 20
  },
  {
   "cell_type": "markdown",
   "id": "e5686ccc",
   "metadata": {
    "deletable": false,
    "editable": false,
    "id": "e5686ccc"
   },
   "source": [
    "### Категоризация данных"
   ]
  },
  {
   "cell_type": "markdown",
   "id": "636e9acd",
   "metadata": {
    "deletable": false,
    "editable": false,
    "id": "636e9acd",
    "tags": [
     "start_task"
    ]
   },
   "source": [
    "**Задание 16. На основании диапазонов, указанных ниже, создайте в датафрейме `data` столбец `total_income_category` с категориями:**\n",
    "\n",
    "- 0–30000 — `'E'`;\n",
    "- 30001–50000 — `'D'`;\n",
    "- 50001–200000 — `'C'`;\n",
    "- 200001–1000000 — `'B'`;\n",
    "- 1000001 и выше — `'A'`.\n",
    "\n",
    "\n",
    "**Например, кредитополучателю с доходом 25000 нужно назначить категорию `'E'`, а клиенту, получающему 235000, — `'B'`. Используйте собственную функцию с именем `categorize_income()` и метод `apply()`.**"
   ]
  },
  {
   "cell_type": "code",
   "id": "880a77e5",
   "metadata": {
    "id": "880a77e5",
    "ExecuteTime": {
     "end_time": "2024-09-26T01:14:48.941340Z",
     "start_time": "2024-09-26T01:14:48.932829Z"
    }
   },
   "source": [
    "def categorize_income(row):\n",
    "    total_income = row['total_income']\n",
    "    if total_income <= 30000:\n",
    "        return 'E'\n",
    "    elif total_income <= 50000:\n",
    "        return 'D'\n",
    "    elif total_income <= 200000:\n",
    "        return 'C'\n",
    "    elif total_income <= 1000000:\n",
    "        return 'B'\n",
    "    else:\n",
    "        return 'A'"
   ],
   "outputs": [],
   "execution_count": 21
  },
  {
   "cell_type": "code",
   "id": "6f25f161",
   "metadata": {
    "id": "6f25f161",
    "ExecuteTime": {
     "end_time": "2024-09-26T01:14:49.160154Z",
     "start_time": "2024-09-26T01:14:48.976398Z"
    }
   },
   "source": [
    "data['total_income_category'] = data.apply(categorize_income, axis=1)"
   ],
   "outputs": [],
   "execution_count": 22
  },
  {
   "cell_type": "markdown",
   "id": "3363b685",
   "metadata": {
    "deletable": false,
    "editable": false,
    "id": "3363b685",
    "tags": [
     "start_task"
    ]
   },
   "source": [
    "**Задание 17. Выведите на экран перечень уникальных целей взятия кредита из столбца `purpose`.**"
   ]
  },
  {
   "cell_type": "code",
   "id": "e59f2c15",
   "metadata": {
    "id": "e59f2c15",
    "ExecuteTime": {
     "end_time": "2024-09-26T01:14:49.191313Z",
     "start_time": "2024-09-26T01:14:49.178188Z"
    }
   },
   "source": [
    "data['purpose'].unique()"
   ],
   "outputs": [
    {
     "data": {
      "text/plain": [
       "array(['покупка жилья', 'приобретение автомобиля',\n",
       "       'дополнительное образование', 'сыграть свадьбу',\n",
       "       'операции с жильем', 'образование', 'на проведение свадьбы',\n",
       "       'покупка жилья для семьи', 'покупка недвижимости',\n",
       "       'покупка коммерческой недвижимости', 'покупка жилой недвижимости',\n",
       "       'строительство собственной недвижимости', 'недвижимость',\n",
       "       'строительство недвижимости', 'на покупку подержанного автомобиля',\n",
       "       'на покупку своего автомобиля',\n",
       "       'операции с коммерческой недвижимостью',\n",
       "       'строительство жилой недвижимости', 'жилье',\n",
       "       'операции со своей недвижимостью', 'автомобили',\n",
       "       'заняться образованием', 'сделка с подержанным автомобилем',\n",
       "       'получение образования', 'автомобиль', 'свадьба',\n",
       "       'получение дополнительного образования', 'покупка своего жилья',\n",
       "       'операции с недвижимостью', 'получение высшего образования',\n",
       "       'свой автомобиль', 'сделка с автомобилем',\n",
       "       'профильное образование', 'высшее образование',\n",
       "       'покупка жилья для сдачи', 'на покупку автомобиля', 'ремонт жилью',\n",
       "       'заняться высшим образованием'], dtype=object)"
      ]
     },
     "execution_count": 23,
     "metadata": {},
     "output_type": "execute_result"
    }
   ],
   "execution_count": 23
  },
  {
   "cell_type": "markdown",
   "id": "bb33e847",
   "metadata": {
    "deletable": false,
    "editable": false,
    "id": "bb33e847",
    "tags": [
     "start_task"
    ]
   },
   "source": [
    "**Задание 18. Создайте функцию, которая на основании данных из столбца `purpose` сформирует новый столбец `purpose_category`, в который войдут следующие категории:**\n",
    "\n",
    "- `'операции с автомобилем'`,\n",
    "- `'операции с недвижимостью'`,\n",
    "- `'проведение свадьбы'`,\n",
    "- `'получение образования'`.\n",
    "\n",
    "**Например, если в столбце `purpose` находится подстрока `'на покупку автомобиля'`, то в столбце `purpose_category` должна появиться строка `'операции с автомобилем'`.**\n",
    "\n",
    "**Используйте собственную функцию с именем `categorize_purpose()` и метод `apply()`. Изучите данные в столбце `purpose` и определите, какие подстроки помогут вам правильно определить категорию.**"
   ]
  },
  {
   "cell_type": "code",
   "id": "63909b83",
   "metadata": {
    "id": "63909b83",
    "ExecuteTime": {
     "end_time": "2024-09-26T01:14:49.270536Z",
     "start_time": "2024-09-26T01:14:49.263442Z"
    }
   },
   "source": [
    "def categorize_purpose(row):\n",
    "    purpose = row['purpose']\n",
    "    if 'автомобил' in purpose:\n",
    "        return 'операции с автомобилем'\n",
    "    elif 'недвижимост' in purpose or 'жиль' in purpose:\n",
    "        return 'операции с недвижимостью'\n",
    "    elif 'свадьб' in purpose:\n",
    "        return 'проведение свадьбы'\n",
    "    else:\n",
    "        return 'получение образования'"
   ],
   "outputs": [],
   "execution_count": 24
  },
  {
   "cell_type": "code",
   "id": "7cb4a81d",
   "metadata": {
    "id": "7cb4a81d",
    "ExecuteTime": {
     "end_time": "2024-09-26T01:14:49.488108Z",
     "start_time": "2024-09-26T01:14:49.317621Z"
    }
   },
   "source": [
    "data['purpose_category'] = data.apply(categorize_purpose, axis=1)"
   ],
   "outputs": [],
   "execution_count": 25
  },
  {
   "metadata": {},
   "cell_type": "markdown",
   "source": "#### Задание 19. Есть ли зависимость между количеством детей и возвратом кредита в срок?",
   "id": "9df92372dae394dc"
  },
  {
   "metadata": {
    "ExecuteTime": {
     "end_time": "2024-09-26T01:19:18.346308Z",
     "start_time": "2024-09-26T01:19:18.332766Z"
    }
   },
   "cell_type": "code",
   "source": "data.groupby('children')['debt'].sum()",
   "id": "16ad7b937d4aa42c",
   "outputs": [
    {
     "data": {
      "text/plain": [
       "children\n",
       "0    1063\n",
       "1     444\n",
       "2     194\n",
       "3      27\n",
       "4       4\n",
       "5       0\n",
       "Name: debt, dtype: int64"
      ]
     },
     "execution_count": 33,
     "metadata": {},
     "output_type": "execute_result"
    }
   ],
   "execution_count": 33
  },
  {
   "metadata": {},
   "cell_type": "markdown",
   "source": "Исходя из таблицы, видно, что зависимость есть. Чем меньше детей - тем вероятнее выплачиваемость в срок",
   "id": "7e073ef5bcbae938"
  },
  {
   "metadata": {},
   "cell_type": "markdown",
   "source": "#### Задание 20. Есть ли зависимость между семейным положением и возвратом кредита в срок?",
   "id": "21e392a167750598"
  },
  {
   "metadata": {
    "ExecuteTime": {
     "end_time": "2024-09-26T01:28:30.849421Z",
     "start_time": "2024-09-26T01:28:30.834881Z"
    }
   },
   "cell_type": "code",
   "source": "data.groupby('family_status')['debt'].sum().sort_values(ascending=False)",
   "id": "a1aadf0d4b00554c",
   "outputs": [
    {
     "data": {
      "text/plain": [
       "family_status\n",
       "женат / замужем          927\n",
       "гражданский брак         385\n",
       "Не женат / не замужем    273\n",
       "в разводе                 84\n",
       "вдовец / вдова            63\n",
       "Name: debt, dtype: int64"
      ]
     },
     "execution_count": 37,
     "metadata": {},
     "output_type": "execute_result"
    }
   ],
   "execution_count": 37
  },
  {
   "metadata": {},
   "cell_type": "markdown",
   "source": "Похоже что, женатые семьи с большей долью вероятности выплачивают кредит",
   "id": "bf96e4463379fb2f"
  },
  {
   "metadata": {},
   "cell_type": "markdown",
   "source": "#### Задание 21. Есть ли зависимость между уровнем дохода и возвратом кредита в срок?",
   "id": "90476203322a2251"
  },
  {
   "metadata": {
    "ExecuteTime": {
     "end_time": "2024-09-26T01:30:29.583409Z",
     "start_time": "2024-09-26T01:30:29.569894Z"
    }
   },
   "cell_type": "code",
   "source": "data.groupby('total_income')['debt'].sum().sort_values(ascending=False)",
   "id": "2caa2514e11e5439",
   "outputs": [
    {
     "data": {
      "text/plain": [
       "total_income\n",
       "142594     98\n",
       "118514     35\n",
       "172357     30\n",
       "150447      7\n",
       "113004      2\n",
       "           ..\n",
       "119432      0\n",
       "119440      0\n",
       "119472      0\n",
       "119484      0\n",
       "2265604     0\n",
       "Name: debt, Length: 18504, dtype: int64"
      ]
     },
     "execution_count": 38,
     "metadata": {},
     "output_type": "execute_result"
    }
   ],
   "execution_count": 38
  },
  {
   "metadata": {},
   "cell_type": "markdown",
   "source": "Чем выше доход, тем выше вероятность возвращения долга",
   "id": "f610f906d54e6429"
  },
  {
   "metadata": {},
   "cell_type": "markdown",
   "source": "#### Задание 22. Как разные цели кредита влияют на его возврат в срок?",
   "id": "2330fd785b00750"
  },
  {
   "metadata": {
    "ExecuteTime": {
     "end_time": "2024-09-26T01:14:49.784813Z",
     "start_time": "2024-09-26T01:14:49.771296Z"
    }
   },
   "cell_type": "code",
   "source": "data.groupby('purpose_category')['debt'].sum().sort_values(ascending=False)",
   "id": "2c807590bc17df2f",
   "outputs": [],
   "execution_count": null
  },
  {
   "metadata": {},
   "cell_type": "markdown",
   "source": "#### Задание 23. Приведите возможные причины появления пропусков в исходных данных.\n",
   "id": "cc9bd227b838fbe4"
  },
  {
   "metadata": {},
   "cell_type": "markdown",
   "source": "Скорее всего это человеческий фактор. Так же возможно что конкретно столбцы `total_income` и `days_employed` было неправильно учтены системой, тк они были опциональны в форме или человек был безработный",
   "id": "fcd5853c77a333c7"
  },
  {
   "metadata": {},
   "cell_type": "markdown",
   "source": "#### Задание 24. Объясните, почему заполнить пропуски медианным значением — лучшее решение для количественных переменных.",
   "id": "bdae9f4d2af17149"
  },
  {
   "metadata": {},
   "cell_type": "markdown",
   "source": "Такой подход более репрезентативен, тк среднее значение может быть сильно 'перекошено' из-за влияния людей которые слишком много зарабатывают/дней работают",
   "id": "ec0bf04ba54c71af"
  }
 ],
 "metadata": {
  "ExecuteTimeLog": [
   {
    "duration": 49,
    "start_time": "2024-09-16T03:50:50.582Z"
   },
   {
    "duration": 461,
    "start_time": "2024-09-16T03:50:59.437Z"
   },
   {
    "duration": 84,
    "start_time": "2024-09-16T03:51:00.521Z"
   },
   {
    "duration": 24,
    "start_time": "2024-09-16T03:51:02.368Z"
   },
   {
    "duration": 25,
    "start_time": "2024-09-16T04:40:06.236Z"
   },
   {
    "duration": 49,
    "start_time": "2024-09-16T22:05:24.898Z"
   },
   {
    "duration": 7,
    "start_time": "2024-09-16T22:05:34.143Z"
   },
   {
    "duration": 419,
    "start_time": "2024-09-16T22:05:48.731Z"
   },
   {
    "duration": 139,
    "start_time": "2024-09-16T22:05:49.152Z"
   },
   {
    "duration": 23,
    "start_time": "2024-09-16T22:05:49.293Z"
   },
   {
    "duration": 16,
    "start_time": "2024-09-16T22:05:49.317Z"
   },
   {
    "duration": 10,
    "start_time": "2024-09-16T22:05:49.335Z"
   },
   {
    "duration": 2,
    "start_time": "2024-09-16T22:05:49.347Z"
   },
   {
    "duration": 4,
    "start_time": "2024-09-16T22:05:49.350Z"
   },
   {
    "duration": 3,
    "start_time": "2024-09-16T22:05:49.355Z"
   },
   {
    "duration": 4,
    "start_time": "2024-09-16T22:05:49.360Z"
   },
   {
    "duration": 4,
    "start_time": "2024-09-16T22:05:49.365Z"
   },
   {
    "duration": 5,
    "start_time": "2024-09-16T22:05:49.370Z"
   },
   {
    "duration": 4,
    "start_time": "2024-09-16T22:05:49.376Z"
   },
   {
    "duration": 4,
    "start_time": "2024-09-16T22:05:49.382Z"
   },
   {
    "duration": 3,
    "start_time": "2024-09-16T22:05:49.420Z"
   },
   {
    "duration": 4,
    "start_time": "2024-09-16T22:05:49.424Z"
   },
   {
    "duration": 5,
    "start_time": "2024-09-16T22:05:49.429Z"
   },
   {
    "duration": 5,
    "start_time": "2024-09-16T22:05:49.436Z"
   },
   {
    "duration": 5,
    "start_time": "2024-09-16T22:05:49.442Z"
   },
   {
    "duration": 3,
    "start_time": "2024-09-16T22:05:49.448Z"
   },
   {
    "duration": 10,
    "start_time": "2024-09-16T22:05:49.453Z"
   },
   {
    "duration": 3,
    "start_time": "2024-09-16T22:05:49.465Z"
   },
   {
    "duration": 4,
    "start_time": "2024-09-16T22:05:49.470Z"
   },
   {
    "duration": 75,
    "start_time": "2024-09-16T22:07:56.859Z"
   },
   {
    "duration": 6,
    "start_time": "2024-09-16T22:12:02.360Z"
   },
   {
    "duration": 448,
    "start_time": "2024-09-16T22:39:57.586Z"
   },
   {
    "duration": 81,
    "start_time": "2024-09-16T22:39:58.036Z"
   },
   {
    "duration": 24,
    "start_time": "2024-09-16T22:39:58.119Z"
   },
   {
    "duration": 17,
    "start_time": "2024-09-16T22:39:58.145Z"
   },
   {
    "duration": 11,
    "start_time": "2024-09-16T22:39:58.165Z"
   },
   {
    "duration": 56594,
    "start_time": "2024-09-16T22:39:58.177Z"
   },
   {
    "duration": 3,
    "start_time": "2024-09-16T22:40:54.772Z"
   },
   {
    "duration": 12,
    "start_time": "2024-09-16T22:40:54.776Z"
   },
   {
    "duration": 8,
    "start_time": "2024-09-16T22:40:54.789Z"
   },
   {
    "duration": 5,
    "start_time": "2024-09-16T22:40:54.798Z"
   },
   {
    "duration": 6,
    "start_time": "2024-09-16T22:40:54.805Z"
   },
   {
    "duration": 4,
    "start_time": "2024-09-16T22:40:54.813Z"
   },
   {
    "duration": 14,
    "start_time": "2024-09-16T22:40:54.820Z"
   },
   {
    "duration": 3,
    "start_time": "2024-09-16T22:40:54.836Z"
   },
   {
    "duration": 47,
    "start_time": "2024-09-16T22:40:54.841Z"
   },
   {
    "duration": 27,
    "start_time": "2024-09-16T22:40:54.890Z"
   },
   {
    "duration": 3,
    "start_time": "2024-09-16T22:40:54.919Z"
   },
   {
    "duration": 6,
    "start_time": "2024-09-16T22:40:54.923Z"
   },
   {
    "duration": 14,
    "start_time": "2024-09-16T22:40:54.930Z"
   },
   {
    "duration": 19,
    "start_time": "2024-09-16T22:40:54.945Z"
   },
   {
    "duration": 6,
    "start_time": "2024-09-16T22:40:54.966Z"
   },
   {
    "duration": 9,
    "start_time": "2024-09-16T22:40:54.974Z"
   },
   {
    "duration": 65,
    "start_time": "2024-09-16T22:40:54.984Z"
   },
   {
    "duration": 406,
    "start_time": "2024-09-16T22:42:52.536Z"
   },
   {
    "duration": 80,
    "start_time": "2024-09-16T22:42:52.944Z"
   },
   {
    "duration": 22,
    "start_time": "2024-09-16T22:42:53.025Z"
   },
   {
    "duration": 15,
    "start_time": "2024-09-16T22:42:53.049Z"
   },
   {
    "duration": 11,
    "start_time": "2024-09-16T22:42:53.066Z"
   },
   {
    "duration": 420,
    "start_time": "2024-09-16T22:43:15.213Z"
   },
   {
    "duration": 81,
    "start_time": "2024-09-16T22:43:17.399Z"
   },
   {
    "duration": 75,
    "start_time": "2024-09-16T22:43:20.749Z"
   },
   {
    "duration": 412,
    "start_time": "2024-09-16T22:43:23.920Z"
   },
   {
    "duration": 80,
    "start_time": "2024-09-16T22:43:24.334Z"
   },
   {
    "duration": 23,
    "start_time": "2024-09-16T22:43:24.415Z"
   },
   {
    "duration": 18,
    "start_time": "2024-09-16T22:43:24.440Z"
   },
   {
    "duration": 16,
    "start_time": "2024-09-16T22:43:24.460Z"
   },
   {
    "duration": 63407,
    "start_time": "2024-09-16T22:45:18.737Z"
   },
   {
    "duration": 6,
    "start_time": "2024-09-17T01:19:07.749Z"
   },
   {
    "duration": 3,
    "start_time": "2024-09-17T01:19:21.766Z"
   },
   {
    "duration": 7,
    "start_time": "2024-09-17T01:23:28.549Z"
   },
   {
    "duration": 8,
    "start_time": "2024-09-17T01:23:32.777Z"
   },
   {
    "duration": 5,
    "start_time": "2024-09-17T01:25:06.685Z"
   },
   {
    "duration": 9,
    "start_time": "2024-09-17T03:10:31.952Z"
   },
   {
    "duration": 52,
    "start_time": "2024-09-17T03:11:06.592Z"
   },
   {
    "duration": 6,
    "start_time": "2024-09-17T03:11:14.915Z"
   },
   {
    "duration": 411,
    "start_time": "2024-09-17T03:11:19.859Z"
   },
   {
    "duration": 145,
    "start_time": "2024-09-17T03:11:20.272Z"
   },
   {
    "duration": 26,
    "start_time": "2024-09-17T03:11:20.419Z"
   },
   {
    "duration": 17,
    "start_time": "2024-09-17T03:11:20.446Z"
   },
   {
    "duration": 15,
    "start_time": "2024-09-17T03:11:20.466Z"
   },
   {
    "duration": 5240,
    "start_time": "2024-09-17T03:11:20.482Z"
   },
   {
    "duration": 3,
    "start_time": "2024-09-17T03:11:25.724Z"
   },
   {
    "duration": 22,
    "start_time": "2024-09-17T03:11:25.728Z"
   },
   {
    "duration": 5,
    "start_time": "2024-09-17T03:11:25.751Z"
   },
   {
    "duration": 16,
    "start_time": "2024-09-17T03:11:25.757Z"
   },
   {
    "duration": 4,
    "start_time": "2024-09-17T03:11:25.775Z"
   },
   {
    "duration": 2,
    "start_time": "2024-09-17T03:11:30.905Z"
   },
   {
    "duration": 30,
    "start_time": "2024-09-17T03:11:30.910Z"
   },
   {
    "duration": 46,
    "start_time": "2024-09-17T03:11:30.941Z"
   },
   {
    "duration": 48,
    "start_time": "2024-09-17T03:11:30.989Z"
   },
   {
    "duration": 3,
    "start_time": "2024-09-17T03:11:31.038Z"
   },
   {
    "duration": 3,
    "start_time": "2024-09-17T03:11:31.043Z"
   },
   {
    "duration": 3,
    "start_time": "2024-09-17T03:11:31.047Z"
   },
   {
    "duration": 4,
    "start_time": "2024-09-17T03:11:31.051Z"
   },
   {
    "duration": 12,
    "start_time": "2024-09-17T03:11:31.056Z"
   },
   {
    "duration": 20,
    "start_time": "2024-09-17T03:11:31.070Z"
   },
   {
    "duration": 231,
    "start_time": "2024-09-17T03:11:31.091Z"
   },
   {
    "duration": 197,
    "start_time": "2024-09-17T03:11:31.945Z"
   },
   {
    "duration": 48,
    "start_time": "2024-09-18T00:53:34.011Z"
   },
   {
    "duration": 405,
    "start_time": "2024-09-18T00:53:40.556Z"
   },
   {
    "duration": 138,
    "start_time": "2024-09-18T00:53:40.963Z"
   },
   {
    "duration": 23,
    "start_time": "2024-09-18T00:53:41.103Z"
   },
   {
    "duration": 16,
    "start_time": "2024-09-18T00:53:41.129Z"
   },
   {
    "duration": 14,
    "start_time": "2024-09-18T00:53:41.147Z"
   },
   {
    "duration": 5165,
    "start_time": "2024-09-18T00:53:41.162Z"
   },
   {
    "duration": 3,
    "start_time": "2024-09-18T00:53:46.329Z"
   },
   {
    "duration": 34,
    "start_time": "2024-09-18T00:53:46.334Z"
   },
   {
    "duration": 11,
    "start_time": "2024-09-18T00:53:46.370Z"
   },
   {
    "duration": 6,
    "start_time": "2024-09-18T00:53:46.385Z"
   },
   {
    "duration": 6,
    "start_time": "2024-09-18T00:53:46.393Z"
   },
   {
    "duration": 5303,
    "start_time": "2024-09-18T00:53:46.400Z"
   },
   {
    "duration": 10,
    "start_time": "2024-09-18T00:53:51.705Z"
   },
   {
    "duration": 8,
    "start_time": "2024-09-18T00:53:51.717Z"
   },
   {
    "duration": 3,
    "start_time": "2024-09-18T00:53:51.769Z"
   },
   {
    "duration": 3,
    "start_time": "2024-09-18T00:53:51.773Z"
   },
   {
    "duration": 3,
    "start_time": "2024-09-18T00:53:51.778Z"
   },
   {
    "duration": 2,
    "start_time": "2024-09-18T00:53:51.783Z"
   },
   {
    "duration": 4,
    "start_time": "2024-09-18T00:53:51.787Z"
   },
   {
    "duration": 10,
    "start_time": "2024-09-18T00:53:51.793Z"
   },
   {
    "duration": 33,
    "start_time": "2024-09-18T00:53:51.827Z"
   },
   {
    "duration": 30,
    "start_time": "2024-09-18T00:53:51.862Z"
   }
  ],
  "colab": {
   "provenance": []
  },
  "kernelspec": {
   "display_name": "Python 3 (ipykernel)",
   "language": "python",
   "name": "python3"
  },
  "language_info": {
   "codemirror_mode": {
    "name": "ipython",
    "version": 3
   },
   "file_extension": ".py",
   "mimetype": "text/x-python",
   "name": "python",
   "nbconvert_exporter": "python",
   "pygments_lexer": "ipython3",
   "version": "3.9.5"
  },
  "toc": {
   "base_numbering": 1,
   "nav_menu": {},
   "number_sections": true,
   "sideBar": true,
   "skip_h1_title": true,
   "title_cell": "Table of Contents",
   "title_sidebar": "Contents",
   "toc_cell": false,
   "toc_position": {},
   "toc_section_display": true,
   "toc_window_display": false
  }
 },
 "nbformat": 4,
 "nbformat_minor": 5
}
