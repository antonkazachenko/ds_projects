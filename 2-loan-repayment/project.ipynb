{
 "cells": [
  {
   "cell_type": "markdown",
   "id": "4f11de00",
   "metadata": {
    "deletable": false,
    "editable": false,
    "id": "4f11de00"
   },
   "source": [
    "# Research on Loan Repayment Reliability"
   ]
  },
  {
   "cell_type": "markdown",
   "id": "76a8a9ce",
   "metadata": {
    "deletable": false,
    "editable": false,
    "id": "76a8a9ce",
    "tags": [
     "start_task"
    ]
   },
   "source": [
    "Here I import the pandas library and read the data from the csv file."
   ]
  },
  {
   "cell_type": "code",
   "execution_count": 1,
   "id": "fab207d0",
   "metadata": {
    "ExecuteTime": {
     "end_time": "2024-09-29T21:59:19.499298Z",
     "start_time": "2024-09-29T21:59:19.494284Z"
    },
    "id": "fab207d0"
   },
   "outputs": [],
   "source": [
    "import pandas as pd"
   ]
  },
  {
   "cell_type": "code",
   "execution_count": 2,
   "id": "6c82b607",
   "metadata": {
    "ExecuteTime": {
     "end_time": "2024-09-29T21:59:19.577350Z",
     "start_time": "2024-09-29T21:59:19.515171Z"
    },
    "id": "6c82b607"
   },
   "outputs": [],
   "source": [
    "data = pd.read_csv('./data.csv')"
   ]
  },
  {
   "cell_type": "markdown",
   "id": "08bbb5b3",
   "metadata": {
    "deletable": false,
    "editable": false,
    "id": "08bbb5b3",
    "tags": [
     "start_task"
    ]
   },
   "source": [
    "Then I display the first 20 lines of the dataframe `data` on the screen"
   ]
  },
  {
   "cell_type": "code",
   "execution_count": 3,
   "id": "4ff33b36",
   "metadata": {
    "ExecuteTime": {
     "end_time": "2024-09-29T21:59:19.624962Z",
     "start_time": "2024-09-29T21:59:19.597262Z"
    },
    "id": "4ff33b36"
   },
   "outputs": [
    {
     "data": {
      "text/html": [
       "<div>\n",
       "<style scoped>\n",
       "    .dataframe tbody tr th:only-of-type {\n",
       "        vertical-align: middle;\n",
       "    }\n",
       "\n",
       "    .dataframe tbody tr th {\n",
       "        vertical-align: top;\n",
       "    }\n",
       "\n",
       "    .dataframe thead th {\n",
       "        text-align: right;\n",
       "    }\n",
       "</style>\n",
       "<table border=\"1\" class=\"dataframe\">\n",
       "  <thead>\n",
       "    <tr style=\"text-align: right;\">\n",
       "      <th></th>\n",
       "      <th>children</th>\n",
       "      <th>days_employed</th>\n",
       "      <th>dob_years</th>\n",
       "      <th>education</th>\n",
       "      <th>education_id</th>\n",
       "      <th>family_status</th>\n",
       "      <th>family_status_id</th>\n",
       "      <th>gender</th>\n",
       "      <th>income_type</th>\n",
       "      <th>debt</th>\n",
       "      <th>total_income</th>\n",
       "      <th>purpose</th>\n",
       "    </tr>\n",
       "  </thead>\n",
       "  <tbody>\n",
       "    <tr>\n",
       "      <th>0</th>\n",
       "      <td>1</td>\n",
       "      <td>-8437.673028</td>\n",
       "      <td>42</td>\n",
       "      <td>высшее</td>\n",
       "      <td>0</td>\n",
       "      <td>married</td>\n",
       "      <td>0</td>\n",
       "      <td>F</td>\n",
       "      <td>employee</td>\n",
       "      <td>0</td>\n",
       "      <td>253875.639453</td>\n",
       "      <td>покупка жилья</td>\n",
       "    </tr>\n",
       "    <tr>\n",
       "      <th>1</th>\n",
       "      <td>1</td>\n",
       "      <td>-4024.803754</td>\n",
       "      <td>36</td>\n",
       "      <td>среднее</td>\n",
       "      <td>1</td>\n",
       "      <td>married</td>\n",
       "      <td>0</td>\n",
       "      <td>F</td>\n",
       "      <td>employee</td>\n",
       "      <td>0</td>\n",
       "      <td>112080.014102</td>\n",
       "      <td>приобретение автомобиля</td>\n",
       "    </tr>\n",
       "    <tr>\n",
       "      <th>2</th>\n",
       "      <td>0</td>\n",
       "      <td>-5623.422610</td>\n",
       "      <td>33</td>\n",
       "      <td>Среднее</td>\n",
       "      <td>1</td>\n",
       "      <td>married</td>\n",
       "      <td>0</td>\n",
       "      <td>M</td>\n",
       "      <td>employee</td>\n",
       "      <td>0</td>\n",
       "      <td>145885.952297</td>\n",
       "      <td>покупка жилья</td>\n",
       "    </tr>\n",
       "    <tr>\n",
       "      <th>3</th>\n",
       "      <td>3</td>\n",
       "      <td>-4124.747207</td>\n",
       "      <td>32</td>\n",
       "      <td>среднее</td>\n",
       "      <td>1</td>\n",
       "      <td>married</td>\n",
       "      <td>0</td>\n",
       "      <td>M</td>\n",
       "      <td>employee</td>\n",
       "      <td>0</td>\n",
       "      <td>267628.550329</td>\n",
       "      <td>дополнительное образование</td>\n",
       "    </tr>\n",
       "    <tr>\n",
       "      <th>4</th>\n",
       "      <td>0</td>\n",
       "      <td>340266.072047</td>\n",
       "      <td>53</td>\n",
       "      <td>среднее</td>\n",
       "      <td>1</td>\n",
       "      <td>civil</td>\n",
       "      <td>1</td>\n",
       "      <td>F</td>\n",
       "      <td>pensioner</td>\n",
       "      <td>0</td>\n",
       "      <td>158616.077870</td>\n",
       "      <td>сыграть свадьбу</td>\n",
       "    </tr>\n",
       "    <tr>\n",
       "      <th>5</th>\n",
       "      <td>0</td>\n",
       "      <td>-926.185831</td>\n",
       "      <td>27</td>\n",
       "      <td>высшее</td>\n",
       "      <td>0</td>\n",
       "      <td>civil</td>\n",
       "      <td>1</td>\n",
       "      <td>M</td>\n",
       "      <td>partner</td>\n",
       "      <td>0</td>\n",
       "      <td>255763.565419</td>\n",
       "      <td>покупка жилья</td>\n",
       "    </tr>\n",
       "    <tr>\n",
       "      <th>6</th>\n",
       "      <td>0</td>\n",
       "      <td>-2879.202052</td>\n",
       "      <td>43</td>\n",
       "      <td>высшее</td>\n",
       "      <td>0</td>\n",
       "      <td>married</td>\n",
       "      <td>0</td>\n",
       "      <td>F</td>\n",
       "      <td>partner</td>\n",
       "      <td>0</td>\n",
       "      <td>240525.971920</td>\n",
       "      <td>операции с жильем</td>\n",
       "    </tr>\n",
       "    <tr>\n",
       "      <th>7</th>\n",
       "      <td>0</td>\n",
       "      <td>-152.779569</td>\n",
       "      <td>50</td>\n",
       "      <td>СРЕДНЕЕ</td>\n",
       "      <td>1</td>\n",
       "      <td>married</td>\n",
       "      <td>0</td>\n",
       "      <td>M</td>\n",
       "      <td>employee</td>\n",
       "      <td>0</td>\n",
       "      <td>135823.934197</td>\n",
       "      <td>образование</td>\n",
       "    </tr>\n",
       "    <tr>\n",
       "      <th>8</th>\n",
       "      <td>2</td>\n",
       "      <td>-6929.865299</td>\n",
       "      <td>35</td>\n",
       "      <td>ВЫСШЕЕ</td>\n",
       "      <td>0</td>\n",
       "      <td>civil</td>\n",
       "      <td>1</td>\n",
       "      <td>F</td>\n",
       "      <td>employee</td>\n",
       "      <td>0</td>\n",
       "      <td>95856.832424</td>\n",
       "      <td>на проведение свадьбы</td>\n",
       "    </tr>\n",
       "    <tr>\n",
       "      <th>9</th>\n",
       "      <td>0</td>\n",
       "      <td>-2188.756445</td>\n",
       "      <td>41</td>\n",
       "      <td>среднее</td>\n",
       "      <td>1</td>\n",
       "      <td>married</td>\n",
       "      <td>0</td>\n",
       "      <td>M</td>\n",
       "      <td>employee</td>\n",
       "      <td>0</td>\n",
       "      <td>144425.938277</td>\n",
       "      <td>покупка жилья для семьи</td>\n",
       "    </tr>\n",
       "    <tr>\n",
       "      <th>10</th>\n",
       "      <td>2</td>\n",
       "      <td>-4171.483647</td>\n",
       "      <td>36</td>\n",
       "      <td>высшее</td>\n",
       "      <td>0</td>\n",
       "      <td>married</td>\n",
       "      <td>0</td>\n",
       "      <td>M</td>\n",
       "      <td>partner</td>\n",
       "      <td>0</td>\n",
       "      <td>113943.491460</td>\n",
       "      <td>покупка недвижимости</td>\n",
       "    </tr>\n",
       "    <tr>\n",
       "      <th>11</th>\n",
       "      <td>0</td>\n",
       "      <td>-792.701887</td>\n",
       "      <td>40</td>\n",
       "      <td>среднее</td>\n",
       "      <td>1</td>\n",
       "      <td>married</td>\n",
       "      <td>0</td>\n",
       "      <td>F</td>\n",
       "      <td>employee</td>\n",
       "      <td>0</td>\n",
       "      <td>77069.234271</td>\n",
       "      <td>покупка коммерческой недвижимости</td>\n",
       "    </tr>\n",
       "    <tr>\n",
       "      <th>12</th>\n",
       "      <td>0</td>\n",
       "      <td>NaN</td>\n",
       "      <td>65</td>\n",
       "      <td>среднее</td>\n",
       "      <td>1</td>\n",
       "      <td>civil</td>\n",
       "      <td>1</td>\n",
       "      <td>M</td>\n",
       "      <td>pensioner</td>\n",
       "      <td>0</td>\n",
       "      <td>NaN</td>\n",
       "      <td>сыграть свадьбу</td>\n",
       "    </tr>\n",
       "    <tr>\n",
       "      <th>13</th>\n",
       "      <td>0</td>\n",
       "      <td>-1846.641941</td>\n",
       "      <td>54</td>\n",
       "      <td>неоконченное высшее</td>\n",
       "      <td>2</td>\n",
       "      <td>married</td>\n",
       "      <td>0</td>\n",
       "      <td>F</td>\n",
       "      <td>employee</td>\n",
       "      <td>0</td>\n",
       "      <td>130458.228857</td>\n",
       "      <td>приобретение автомобиля</td>\n",
       "    </tr>\n",
       "    <tr>\n",
       "      <th>14</th>\n",
       "      <td>0</td>\n",
       "      <td>-1844.956182</td>\n",
       "      <td>56</td>\n",
       "      <td>высшее</td>\n",
       "      <td>0</td>\n",
       "      <td>civil</td>\n",
       "      <td>1</td>\n",
       "      <td>F</td>\n",
       "      <td>partner</td>\n",
       "      <td>1</td>\n",
       "      <td>165127.911772</td>\n",
       "      <td>покупка жилой недвижимости</td>\n",
       "    </tr>\n",
       "    <tr>\n",
       "      <th>15</th>\n",
       "      <td>1</td>\n",
       "      <td>-972.364419</td>\n",
       "      <td>26</td>\n",
       "      <td>среднее</td>\n",
       "      <td>1</td>\n",
       "      <td>married</td>\n",
       "      <td>0</td>\n",
       "      <td>F</td>\n",
       "      <td>employee</td>\n",
       "      <td>0</td>\n",
       "      <td>116820.904450</td>\n",
       "      <td>строительство собственной недвижимости</td>\n",
       "    </tr>\n",
       "    <tr>\n",
       "      <th>16</th>\n",
       "      <td>0</td>\n",
       "      <td>-1719.934226</td>\n",
       "      <td>35</td>\n",
       "      <td>среднее</td>\n",
       "      <td>1</td>\n",
       "      <td>married</td>\n",
       "      <td>0</td>\n",
       "      <td>F</td>\n",
       "      <td>employee</td>\n",
       "      <td>0</td>\n",
       "      <td>289202.704229</td>\n",
       "      <td>недвижимость</td>\n",
       "    </tr>\n",
       "    <tr>\n",
       "      <th>17</th>\n",
       "      <td>0</td>\n",
       "      <td>-2369.999720</td>\n",
       "      <td>33</td>\n",
       "      <td>высшее</td>\n",
       "      <td>0</td>\n",
       "      <td>civil</td>\n",
       "      <td>1</td>\n",
       "      <td>M</td>\n",
       "      <td>employee</td>\n",
       "      <td>0</td>\n",
       "      <td>90410.586745</td>\n",
       "      <td>строительство недвижимости</td>\n",
       "    </tr>\n",
       "    <tr>\n",
       "      <th>18</th>\n",
       "      <td>0</td>\n",
       "      <td>400281.136913</td>\n",
       "      <td>53</td>\n",
       "      <td>среднее</td>\n",
       "      <td>1</td>\n",
       "      <td>widow</td>\n",
       "      <td>2</td>\n",
       "      <td>F</td>\n",
       "      <td>pensioner</td>\n",
       "      <td>0</td>\n",
       "      <td>56823.777243</td>\n",
       "      <td>на покупку подержанного автомобиля</td>\n",
       "    </tr>\n",
       "    <tr>\n",
       "      <th>19</th>\n",
       "      <td>0</td>\n",
       "      <td>-10038.818549</td>\n",
       "      <td>48</td>\n",
       "      <td>СРЕДНЕЕ</td>\n",
       "      <td>1</td>\n",
       "      <td>divorced</td>\n",
       "      <td>3</td>\n",
       "      <td>F</td>\n",
       "      <td>employee</td>\n",
       "      <td>0</td>\n",
       "      <td>242831.107982</td>\n",
       "      <td>на покупку своего автомобиля</td>\n",
       "    </tr>\n",
       "  </tbody>\n",
       "</table>\n",
       "</div>"
      ],
      "text/plain": [
       "    children  days_employed  dob_years            education  education_id  \\\n",
       "0          1   -8437.673028         42               высшее             0   \n",
       "1          1   -4024.803754         36              среднее             1   \n",
       "2          0   -5623.422610         33              Среднее             1   \n",
       "3          3   -4124.747207         32              среднее             1   \n",
       "4          0  340266.072047         53              среднее             1   \n",
       "5          0    -926.185831         27               высшее             0   \n",
       "6          0   -2879.202052         43               высшее             0   \n",
       "7          0    -152.779569         50              СРЕДНЕЕ             1   \n",
       "8          2   -6929.865299         35               ВЫСШЕЕ             0   \n",
       "9          0   -2188.756445         41              среднее             1   \n",
       "10         2   -4171.483647         36               высшее             0   \n",
       "11         0    -792.701887         40              среднее             1   \n",
       "12         0            NaN         65              среднее             1   \n",
       "13         0   -1846.641941         54  неоконченное высшее             2   \n",
       "14         0   -1844.956182         56               высшее             0   \n",
       "15         1    -972.364419         26              среднее             1   \n",
       "16         0   -1719.934226         35              среднее             1   \n",
       "17         0   -2369.999720         33               высшее             0   \n",
       "18         0  400281.136913         53              среднее             1   \n",
       "19         0  -10038.818549         48              СРЕДНЕЕ             1   \n",
       "\n",
       "   family_status  family_status_id gender income_type  debt   total_income  \\\n",
       "0        married                 0      F    employee     0  253875.639453   \n",
       "1        married                 0      F    employee     0  112080.014102   \n",
       "2        married                 0      M    employee     0  145885.952297   \n",
       "3        married                 0      M    employee     0  267628.550329   \n",
       "4          civil                 1      F   pensioner     0  158616.077870   \n",
       "5          civil                 1      M     partner     0  255763.565419   \n",
       "6        married                 0      F     partner     0  240525.971920   \n",
       "7        married                 0      M    employee     0  135823.934197   \n",
       "8          civil                 1      F    employee     0   95856.832424   \n",
       "9        married                 0      M    employee     0  144425.938277   \n",
       "10       married                 0      M     partner     0  113943.491460   \n",
       "11       married                 0      F    employee     0   77069.234271   \n",
       "12         civil                 1      M   pensioner     0            NaN   \n",
       "13       married                 0      F    employee     0  130458.228857   \n",
       "14         civil                 1      F     partner     1  165127.911772   \n",
       "15       married                 0      F    employee     0  116820.904450   \n",
       "16       married                 0      F    employee     0  289202.704229   \n",
       "17         civil                 1      M    employee     0   90410.586745   \n",
       "18         widow                 2      F   pensioner     0   56823.777243   \n",
       "19      divorced                 3      F    employee     0  242831.107982   \n",
       "\n",
       "                                   purpose  \n",
       "0                            покупка жилья  \n",
       "1                  приобретение автомобиля  \n",
       "2                            покупка жилья  \n",
       "3               дополнительное образование  \n",
       "4                          сыграть свадьбу  \n",
       "5                            покупка жилья  \n",
       "6                        операции с жильем  \n",
       "7                              образование  \n",
       "8                    на проведение свадьбы  \n",
       "9                  покупка жилья для семьи  \n",
       "10                    покупка недвижимости  \n",
       "11       покупка коммерческой недвижимости  \n",
       "12                         сыграть свадьбу  \n",
       "13                 приобретение автомобиля  \n",
       "14              покупка жилой недвижимости  \n",
       "15  строительство собственной недвижимости  \n",
       "16                            недвижимость  \n",
       "17              строительство недвижимости  \n",
       "18      на покупку подержанного автомобиля  \n",
       "19            на покупку своего автомобиля  "
      ]
     },
     "execution_count": 3,
     "metadata": {},
     "output_type": "execute_result"
    }
   ],
   "source": [
    "data.head(20)"
   ]
  },
  {
   "cell_type": "markdown",
   "id": "c8f382ae",
   "metadata": {
    "deletable": false,
    "editable": false,
    "id": "c8f382ae",
    "tags": [
     "start_task"
    ]
   },
   "source": [
    "After that, I display the general information about the dataframe `data` on the screen"
   ]
  },
  {
   "cell_type": "code",
   "execution_count": 4,
   "id": "e1ed9908",
   "metadata": {
    "ExecuteTime": {
     "end_time": "2024-09-29T21:59:19.703107Z",
     "start_time": "2024-09-29T21:59:19.690076Z"
    },
    "id": "e1ed9908"
   },
   "outputs": [
    {
     "name": "stdout",
     "output_type": "stream",
     "text": [
      "<class 'pandas.core.frame.DataFrame'>\n",
      "RangeIndex: 21525 entries, 0 to 21524\n",
      "Data columns (total 12 columns):\n",
      " #   Column            Non-Null Count  Dtype  \n",
      "---  ------            --------------  -----  \n",
      " 0   children          21525 non-null  int64  \n",
      " 1   days_employed     19351 non-null  float64\n",
      " 2   dob_years         21525 non-null  int64  \n",
      " 3   education         21525 non-null  object \n",
      " 4   education_id      21525 non-null  int64  \n",
      " 5   family_status     21525 non-null  object \n",
      " 6   family_status_id  21525 non-null  int64  \n",
      " 7   gender            21525 non-null  object \n",
      " 8   income_type       21525 non-null  object \n",
      " 9   debt              21525 non-null  int64  \n",
      " 10  total_income      19351 non-null  float64\n",
      " 11  purpose           21525 non-null  object \n",
      "dtypes: float64(2), int64(5), object(5)\n",
      "memory usage: 2.0+ MB\n"
     ]
    }
   ],
   "source": [
    "data.info()"
   ]
  },
  {
   "cell_type": "markdown",
   "id": "f969a1cd",
   "metadata": {
    "deletable": false,
    "editable": false,
    "id": "f969a1cd"
   },
   "source": [
    "## Data preprocessing"
   ]
  },
  {
   "cell_type": "markdown",
   "id": "7283e864",
   "metadata": {
    "deletable": false,
    "editable": false,
    "id": "7283e864"
   },
   "source": [
    "### Processing missing values"
   ]
  },
  {
   "cell_type": "markdown",
   "id": "c9a0745e",
   "metadata": {
    "deletable": false,
    "editable": false,
    "id": "c9a0745e",
    "tags": [
     "start_task"
    ]
   },
   "source": [
    "I will check the dataframe `data` for missing values using the `isna()` method and display the number of missing values for each column using the `sum()` method."
   ]
  },
  {
   "cell_type": "code",
   "execution_count": 5,
   "id": "b7a096e1",
   "metadata": {
    "ExecuteTime": {
     "end_time": "2024-09-29T21:59:20.015172Z",
     "start_time": "2024-09-29T21:59:20.000984Z"
    },
    "id": "b7a096e1"
   },
   "outputs": [
    {
     "data": {
      "text/plain": [
       "children               0\n",
       "days_employed       2174\n",
       "dob_years              0\n",
       "education              0\n",
       "education_id           0\n",
       "family_status          0\n",
       "family_status_id       0\n",
       "gender                 0\n",
       "income_type            0\n",
       "debt                   0\n",
       "total_income        2174\n",
       "purpose                0\n",
       "dtype: int64"
      ]
     },
     "execution_count": 5,
     "metadata": {},
     "output_type": "execute_result"
    }
   ],
   "source": [
    "data.isna().sum()"
   ]
  },
  {
   "cell_type": "markdown",
   "id": "c2578616",
   "metadata": {
    "deletable": false,
    "editable": false,
    "id": "c2578616",
    "tags": [
     "start_task"
    ]
   },
   "source": [
    "There are missing values in two columns. One of them is `days_employed`. I'll handle the missing values in this column in the next step. The other column with missing values is `total_income`, which contains income data. The income amount is most influenced by the employment type, so the missing values in this column should be filled with the median value for each type from the `income_type` column."
   ]
  },
  {
   "cell_type": "code",
   "execution_count": 6,
   "id": "e8afc4bc",
   "metadata": {
    "ExecuteTime": {
     "end_time": "2024-09-29T21:59:24.431057Z",
     "start_time": "2024-09-29T21:59:20.179995Z"
    },
    "id": "e8afc4bc"
   },
   "outputs": [],
   "source": [
    "def fill_missing_income(row):\n",
    "    if pd.isnull(row['total_income']):\n",
    "        median_income = data.groupby('income_type')['total_income'].median()[row['income_type']]\n",
    "        return median_income\n",
    "    else:\n",
    "        return row['total_income']\n",
    "\n",
    "data['total_income'] = data.apply(fill_missing_income, axis=1)"
   ]
  },
  {
   "cell_type": "markdown",
   "id": "ae986d46",
   "metadata": {
    "deletable": false,
    "editable": false,
    "id": "ae986d46"
   },
   "source": [
    "### Processing anomalies"
   ]
  },
  {
   "cell_type": "markdown",
   "id": "b049cbae",
   "metadata": {
    "deletable": false,
    "editable": false,
    "id": "b049cbae",
    "tags": [
     "start_task"
    ]
   },
   "source": [
    "The data may contain artifacts (anomalies) – values that do not reflect reality and appeared due to some error. One such artifact is a negative number of days of employment in the `days_employed` column. I will process the values in this column by replacing all negative values with positive ones using the `abs()` method."
   ]
  },
  {
   "cell_type": "code",
   "execution_count": 7,
   "id": "187779b0",
   "metadata": {
    "ExecuteTime": {
     "end_time": "2024-09-29T21:59:24.493485Z",
     "start_time": "2024-09-29T21:59:24.480196Z"
    },
    "id": "187779b0"
   },
   "outputs": [],
   "source": [
    "data['days_employed'] = data['days_employed'].abs()"
   ]
  },
  {
   "cell_type": "markdown",
   "id": "a13054c2",
   "metadata": {
    "deletable": false,
    "editable": false,
    "id": "a13054c2",
    "tags": [
     "start_task"
    ]
   },
   "source": [
    "Here, for each employment type, display the median value of days_employed in days."
   ]
  },
  {
   "cell_type": "code",
   "execution_count": 8,
   "id": "f3f5810c",
   "metadata": {
    "ExecuteTime": {
     "end_time": "2024-09-29T21:59:24.524032Z",
     "start_time": "2024-09-29T21:59:24.512517Z"
    },
    "id": "f3f5810c"
   },
   "outputs": [
    {
     "name": "stdout",
     "output_type": "stream",
     "text": [
      "income_type\n",
      "civil_servant           2689.368353\n",
      "employee                1574.202821\n",
      "entrepreneur             520.848083\n",
      "on_maternity_leave      3296.759962\n",
      "partner                 1547.382223\n",
      "pensioner             365213.306266\n",
      "student                  578.751554\n",
      "unemployed            366413.652744\n",
      "Name: days_employed, dtype: float64\n"
     ]
    }
   ],
   "source": [
    "median_days_employed = data.groupby('income_type')['days_employed'].median()\n",
    "print(median_days_employed)"
   ]
  },
  {
   "cell_type": "markdown",
   "id": "dbc3168c",
   "metadata": {
    "deletable": false,
    "editable": false,
    "id": "dbc3168c"
   },
   "source": [
    "We can see that for two types (unemployed and pensioners) the values will be abnormally large."
   ]
  },
  {
   "cell_type": "markdown",
   "id": "ff4378c2",
   "metadata": {
    "deletable": false,
    "editable": false,
    "id": "ff4378c2",
    "tags": [
     "start_task"
    ]
   },
   "source": [
    "Display the unique values of the `children` column."
   ]
  },
  {
   "cell_type": "code",
   "execution_count": 9,
   "id": "9bd0c232",
   "metadata": {
    "ExecuteTime": {
     "end_time": "2024-09-29T21:59:24.570090Z",
     "start_time": "2024-09-29T21:59:24.557070Z"
    },
    "id": "9bd0c232"
   },
   "outputs": [
    {
     "data": {
      "text/plain": [
       "array([ 1,  0,  3,  2, -1,  4, 20,  5], dtype=int64)"
      ]
     },
     "execution_count": 9,
     "metadata": {},
     "output_type": "execute_result"
    }
   ],
   "source": [
    "data['children'].unique()"
   ]
  },
  {
   "cell_type": "markdown",
   "id": "8e911990",
   "metadata": {
    "deletable": false,
    "editable": false,
    "id": "8e911990",
    "tags": [
     "start_task"
    ]
   },
   "source": [
    "There are two anomalies in the `children` column: -1 and 20. I will delete them"
   ]
  },
  {
   "cell_type": "code",
   "execution_count": 10,
   "id": "6d5ba289",
   "metadata": {
    "ExecuteTime": {
     "end_time": "2024-09-29T21:59:24.618289Z",
     "start_time": "2024-09-29T21:59:24.604235Z"
    },
    "id": "6d5ba289"
   },
   "outputs": [],
   "source": [
    "data = data[(data['children'] != -1) & (data['children'] != 20)]"
   ]
  },
  {
   "cell_type": "markdown",
   "id": "18d77455",
   "metadata": {
    "deletable": false,
    "editable": false,
    "id": "18d77455",
    "tags": [
     "start_task"
    ]
   },
   "source": [
    "To check the result, I will display the unique values of the `children` column again."
   ]
  },
  {
   "cell_type": "code",
   "execution_count": 11,
   "id": "2c5fa92c",
   "metadata": {
    "ExecuteTime": {
     "end_time": "2024-09-29T21:59:24.649935Z",
     "start_time": "2024-09-29T21:59:24.636363Z"
    },
    "id": "2c5fa92c"
   },
   "outputs": [
    {
     "data": {
      "text/plain": [
       "array([1, 0, 3, 2, 4, 5], dtype=int64)"
      ]
     },
     "execution_count": 11,
     "metadata": {},
     "output_type": "execute_result"
    }
   ],
   "source": [
    "data['children'].unique()"
   ]
  },
  {
   "cell_type": "markdown",
   "id": "0ec07dee",
   "metadata": {
    "deletable": false,
    "editable": false,
    "id": "0ec07dee"
   },
   "source": [
    "### Processing duplicates"
   ]
  },
  {
   "cell_type": "markdown",
   "id": "0fc3ae3f",
   "metadata": {
    "deletable": false,
    "editable": false,
    "id": "0fc3ae3f",
    "tags": [
     "start_task"
    ]
   },
   "source": [
    "I will fill the missing values in the `days_employed` column with the median values for each employment type from the `income_type` column."
   ]
  },
  {
   "cell_type": "code",
   "execution_count": 12,
   "id": "e2aea7ac",
   "metadata": {
    "ExecuteTime": {
     "end_time": "2024-09-29T21:59:28.879227Z",
     "start_time": "2024-09-29T21:59:24.666954Z"
    },
    "id": "e2aea7ac"
   },
   "outputs": [],
   "source": [
    "def fill_missing_days(row):\n",
    "    if pd.isnull(row['days_employed']):\n",
    "        median_income = data.groupby('income_type')['days_employed'].median()[row['income_type']]\n",
    "        return median_income\n",
    "    else:\n",
    "        return row['days_employed']\n",
    "    \n",
    "data['days_employed'] = data.apply(fill_missing_days, axis=1)"
   ]
  },
  {
   "cell_type": "markdown",
   "id": "97b0b795",
   "metadata": {
    "deletable": false,
    "editable": false,
    "id": "97b0b795",
    "tags": [
     "start_task"
    ]
   },
   "source": [
    "Make sure all missing values have been filled. I will verify this by displaying the number of missing values for each column using two methods."
   ]
  },
  {
   "cell_type": "code",
   "execution_count": 13,
   "id": "79632a21",
   "metadata": {
    "ExecuteTime": {
     "end_time": "2024-09-29T21:59:28.910569Z",
     "start_time": "2024-09-29T21:59:28.896437Z"
    },
    "id": "79632a21"
   },
   "outputs": [
    {
     "data": {
      "text/plain": [
       "children            0\n",
       "days_employed       0\n",
       "dob_years           0\n",
       "education           0\n",
       "education_id        0\n",
       "family_status       0\n",
       "family_status_id    0\n",
       "gender              0\n",
       "income_type         0\n",
       "debt                0\n",
       "total_income        0\n",
       "purpose             0\n",
       "dtype: int64"
      ]
     },
     "execution_count": 13,
     "metadata": {},
     "output_type": "execute_result"
    }
   ],
   "source": [
    "data.isna().sum()"
   ]
  },
  {
   "cell_type": "markdown",
   "id": "bd4aeb20",
   "metadata": {
    "deletable": false,
    "editable": false,
    "id": "bd4aeb20"
   },
   "source": [
    "### Changing data type"
   ]
  },
  {
   "cell_type": "markdown",
   "id": "963bfa58",
   "metadata": {
    "deletable": false,
    "editable": false,
    "id": "963bfa58",
    "tags": [
     "start_task"
    ]
   },
   "source": [
    "Now, I will convert the `total_income` column from a float data type to an integer using the `astype()` method."
   ]
  },
  {
   "cell_type": "code",
   "execution_count": 14,
   "id": "73da6ea0",
   "metadata": {
    "ExecuteTime": {
     "end_time": "2024-09-29T21:59:28.988984Z",
     "start_time": "2024-09-29T21:59:28.975100Z"
    },
    "id": "73da6ea0"
   },
   "outputs": [],
   "source": [
    "data['total_income'] = data['total_income'].astype('int')"
   ]
  },
  {
   "cell_type": "markdown",
   "id": "d290239e",
   "metadata": {
    "deletable": false,
    "editable": false,
    "id": "d290239e"
   },
   "source": [
    "### Processing duplicates"
   ]
  },
  {
   "cell_type": "markdown",
   "id": "1b5844fd",
   "metadata": {
    "deletable": false,
    "editable": false,
    "id": "1b5844fd",
    "tags": [
     "start_task"
    ]
   },
   "source": [
    "Here, I will handle the implicit duplicates in the `education` column. There are identical values recorded differently using uppercase and lowercase letters and I will convert all values to lowercase."
   ]
  },
  {
   "cell_type": "code",
   "execution_count": 15,
   "id": "3f2504b3",
   "metadata": {
    "ExecuteTime": {
     "end_time": "2024-09-29T21:59:29.051482Z",
     "start_time": "2024-09-29T21:59:29.037450Z"
    },
    "id": "3f2504b3"
   },
   "outputs": [],
   "source": [
    "data['education'] = data['education'].str.lower()"
   ]
  },
  {
   "cell_type": "markdown",
   "id": "4c22acbc",
   "metadata": {
    "deletable": false,
    "editable": false,
    "id": "4c22acbc",
    "tags": [
     "start_task"
    ]
   },
   "source": [
    "Display the number of duplicate rows in the data. If such rows are present, remove them."
   ]
  },
  {
   "cell_type": "code",
   "execution_count": 16,
   "id": "d34a4325",
   "metadata": {
    "ExecuteTime": {
     "end_time": "2024-09-29T21:59:29.209168Z",
     "start_time": "2024-09-29T21:59:29.171757Z"
    },
    "id": "d34a4325"
   },
   "outputs": [
    {
     "name": "stdout",
     "output_type": "stream",
     "text": [
      "71\n"
     ]
    }
   ],
   "source": [
    "print(data.duplicated().sum())"
   ]
  },
  {
   "cell_type": "code",
   "execution_count": 17,
   "id": "6e1a6499",
   "metadata": {
    "ExecuteTime": {
     "end_time": "2024-09-29T21:59:29.254816Z",
     "start_time": "2024-09-29T21:59:29.232268Z"
    },
    "id": "6e1a6499"
   },
   "outputs": [],
   "source": [
    "data = data.drop_duplicates(keep='first')"
   ]
  },
  {
   "cell_type": "markdown",
   "id": "e5686ccc",
   "metadata": {
    "deletable": false,
    "editable": false,
    "id": "e5686ccc"
   },
   "source": [
    "### Data categorization"
   ]
  },
  {
   "cell_type": "markdown",
   "id": "636e9acd",
   "metadata": {
    "deletable": false,
    "editable": false,
    "id": "636e9acd",
    "tags": [
     "start_task"
    ]
   },
   "source": [
    "Based on the ranges specified below, I will create a column `total_income_category` in the data dataframe with the following categories:\n",
    "\n",
    "- 0–30000 — `'E'`;\n",
    "- 30001–50000 — `'D'`;\n",
    "- 50001–200000 — `'C'`;\n",
    "- 200001–1000000 — `'B'`;\n",
    "- 1000001 и выше — `'A'`."
   ]
  },
  {
   "cell_type": "code",
   "execution_count": 18,
   "id": "880a77e5",
   "metadata": {
    "ExecuteTime": {
     "end_time": "2024-09-29T21:59:29.317145Z",
     "start_time": "2024-09-29T21:59:29.305987Z"
    },
    "id": "880a77e5"
   },
   "outputs": [],
   "source": [
    "def categorize_income(row):\n",
    "    total_income = row['total_income']\n",
    "    if total_income <= 30000:\n",
    "        return 'E'\n",
    "    elif total_income <= 50000:\n",
    "        return 'D'\n",
    "    elif total_income <= 200000:\n",
    "        return 'C'\n",
    "    elif total_income <= 1000000:\n",
    "        return 'B'\n",
    "    else:\n",
    "        return 'A'"
   ]
  },
  {
   "cell_type": "code",
   "execution_count": 19,
   "id": "6f25f161",
   "metadata": {
    "ExecuteTime": {
     "end_time": "2024-09-29T21:59:29.519063Z",
     "start_time": "2024-09-29T21:59:29.325243Z"
    },
    "id": "6f25f161"
   },
   "outputs": [],
   "source": [
    "data['total_income_category'] = data.apply(categorize_income, axis=1)"
   ]
  },
  {
   "cell_type": "markdown",
   "id": "3363b685",
   "metadata": {
    "deletable": false,
    "editable": false,
    "id": "3363b685",
    "tags": [
     "start_task"
    ]
   },
   "source": [
    "Display the list of unique loan purposes from the purpose column.   "
   ]
  },
  {
   "cell_type": "code",
   "execution_count": 20,
   "id": "e59f2c15",
   "metadata": {
    "ExecuteTime": {
     "end_time": "2024-09-29T21:59:29.550224Z",
     "start_time": "2024-09-29T21:59:29.536926Z"
    },
    "id": "e59f2c15"
   },
   "outputs": [
    {
     "data": {
      "text/plain": [
       "array(['покупка жилья', 'приобретение автомобиля',\n",
       "       'дополнительное образование', 'сыграть свадьбу',\n",
       "       'операции с жильем', 'образование', 'на проведение свадьбы',\n",
       "       'покупка жилья для семьи', 'покупка недвижимости',\n",
       "       'покупка коммерческой недвижимости', 'покупка жилой недвижимости',\n",
       "       'строительство собственной недвижимости', 'недвижимость',\n",
       "       'строительство недвижимости', 'на покупку подержанного автомобиля',\n",
       "       'на покупку своего автомобиля',\n",
       "       'операции с коммерческой недвижимостью',\n",
       "       'строительство жилой недвижимости', 'жилье',\n",
       "       'операции со своей недвижимостью', 'автомобили',\n",
       "       'заняться образованием', 'сделка с подержанным автомобилем',\n",
       "       'получение образования', 'автомобиль', 'свадьба',\n",
       "       'получение дополнительного образования', 'покупка своего жилья',\n",
       "       'операции с недвижимостью', 'получение высшего образования',\n",
       "       'свой автомобиль', 'сделка с автомобилем',\n",
       "       'профильное образование', 'высшее образование',\n",
       "       'покупка жилья для сдачи', 'на покупку автомобиля', 'ремонт жилью',\n",
       "       'заняться высшим образованием'], dtype=object)"
      ]
     },
     "execution_count": 20,
     "metadata": {},
     "output_type": "execute_result"
    }
   ],
   "source": [
    "data['purpose'].unique()"
   ]
  },
  {
   "cell_type": "markdown",
   "id": "bb33e847",
   "metadata": {
    "deletable": false,
    "editable": false,
    "id": "bb33e847",
    "tags": [
     "start_task"
    ]
   },
   "source": [
    "\n",
    "Now, I will create a function that, based on the data from the purpose column, will form a new column purpose_category with the following categories:\n",
    "\n",
    "- `'operations with a car'`,\n",
    "- `'real estate operations'`,\n",
    "- `'wedding planning'`,\n",
    "- `'getting an education'`."
   ]
  },
  {
   "cell_type": "code",
   "execution_count": 21,
   "id": "63909b83",
   "metadata": {
    "ExecuteTime": {
     "end_time": "2024-09-29T21:59:29.581783Z",
     "start_time": "2024-09-29T21:59:29.567755Z"
    },
    "id": "63909b83"
   },
   "outputs": [],
   "source": [
    "def categorize_purpose(row):\n",
    "    purpose = row['purpose']\n",
    "    if 'автомобил' in purpose:\n",
    "        return 'operations with a car'\n",
    "    elif 'недвижимост' in purpose or 'жиль' in purpose:\n",
    "        return 'real estate operations'\n",
    "    elif 'свадьб' in purpose:\n",
    "        return 'wedding planning'\n",
    "    else:\n",
    "        return 'getting an education'"
   ]
  },
  {
   "cell_type": "code",
   "execution_count": 22,
   "id": "7cb4a81d",
   "metadata": {
    "ExecuteTime": {
     "end_time": "2024-09-29T21:59:29.769158Z",
     "start_time": "2024-09-29T21:59:29.599303Z"
    },
    "id": "7cb4a81d"
   },
   "outputs": [],
   "source": [
    "data['purpose_category'] = data.apply(categorize_purpose, axis=1)"
   ]
  },
  {
   "cell_type": "markdown",
   "id": "9df92372dae394dc",
   "metadata": {},
   "source": [
    "#### Is there a relationship between the number of children and timely loan repayment?"
   ]
  },
  {
   "cell_type": "code",
   "execution_count": 23,
   "id": "16ad7b937d4aa42c",
   "metadata": {
    "ExecuteTime": {
     "end_time": "2024-09-29T21:59:29.816023Z",
     "start_time": "2024-09-29T21:59:29.786900Z"
    }
   },
   "outputs": [
    {
     "data": {
      "text/html": [
       "<div>\n",
       "<style scoped>\n",
       "    .dataframe tbody tr th:only-of-type {\n",
       "        vertical-align: middle;\n",
       "    }\n",
       "\n",
       "    .dataframe tbody tr th {\n",
       "        vertical-align: top;\n",
       "    }\n",
       "\n",
       "    .dataframe thead tr th {\n",
       "        text-align: left;\n",
       "    }\n",
       "</style>\n",
       "<table border=\"1\" class=\"dataframe\">\n",
       "  <thead>\n",
       "    <tr>\n",
       "      <th></th>\n",
       "      <th>children</th>\n",
       "      <th>sum</th>\n",
       "      <th>count</th>\n",
       "      <th>mean</th>\n",
       "    </tr>\n",
       "    <tr>\n",
       "      <th></th>\n",
       "      <th></th>\n",
       "      <th>debt</th>\n",
       "      <th>debt</th>\n",
       "      <th>debt</th>\n",
       "    </tr>\n",
       "  </thead>\n",
       "  <tbody>\n",
       "    <tr>\n",
       "      <th>0</th>\n",
       "      <td>0</td>\n",
       "      <td>1063</td>\n",
       "      <td>14091</td>\n",
       "      <td>7.543822</td>\n",
       "    </tr>\n",
       "    <tr>\n",
       "      <th>1</th>\n",
       "      <td>1</td>\n",
       "      <td>444</td>\n",
       "      <td>4808</td>\n",
       "      <td>9.234609</td>\n",
       "    </tr>\n",
       "    <tr>\n",
       "      <th>2</th>\n",
       "      <td>2</td>\n",
       "      <td>194</td>\n",
       "      <td>2052</td>\n",
       "      <td>9.454191</td>\n",
       "    </tr>\n",
       "    <tr>\n",
       "      <th>3</th>\n",
       "      <td>3</td>\n",
       "      <td>27</td>\n",
       "      <td>330</td>\n",
       "      <td>8.181818</td>\n",
       "    </tr>\n",
       "    <tr>\n",
       "      <th>4</th>\n",
       "      <td>4</td>\n",
       "      <td>4</td>\n",
       "      <td>41</td>\n",
       "      <td>9.756098</td>\n",
       "    </tr>\n",
       "    <tr>\n",
       "      <th>5</th>\n",
       "      <td>5</td>\n",
       "      <td>0</td>\n",
       "      <td>9</td>\n",
       "      <td>0.000000</td>\n",
       "    </tr>\n",
       "  </tbody>\n",
       "</table>\n",
       "</div>"
      ],
      "text/plain": [
       "  children   sum  count      mean\n",
       "            debt   debt      debt\n",
       "0        0  1063  14091  7.543822\n",
       "1        1   444   4808  9.234609\n",
       "2        2   194   2052  9.454191\n",
       "3        3    27    330  8.181818\n",
       "4        4     4     41  9.756098\n",
       "5        5     0      9  0.000000"
      ]
     },
     "execution_count": 23,
     "metadata": {},
     "output_type": "execute_result"
    }
   ],
   "source": [
    "pivot_table = pd.pivot_table(data, index=['children'], values=['debt'], aggfunc=['sum', 'count', 'mean']).reset_index()\n",
    "pivot_table[('mean', 'debt')] = pivot_table[('mean', 'debt')] * 100\n",
    "pivot_table"
   ]
  },
  {
   "cell_type": "markdown",
   "id": "7e073ef5bcbae938",
   "metadata": {},
   "source": [
    "Based on the table, it is evident that people without children are the most creditworthy, with the share of debtors among them being 7.5%. People with 1 or 2 children are less likely to repay the loan, with their non-repayment rate being 9.2% and 9.4%, respectively. The remaining groups cannot be analyzed correctly as their sample size is too small."
   ]
  },
  {
   "cell_type": "markdown",
   "id": "21e392a167750598",
   "metadata": {},
   "source": [
    "#### Is there a relationship between marital status and timely loan repayment?"
   ]
  },
  {
   "cell_type": "code",
   "execution_count": 24,
   "id": "a1aadf0d4b00554c",
   "metadata": {
    "ExecuteTime": {
     "end_time": "2024-09-29T21:59:29.909091Z",
     "start_time": "2024-09-29T21:59:29.879051Z"
    }
   },
   "outputs": [
    {
     "data": {
      "text/html": [
       "<div>\n",
       "<style scoped>\n",
       "    .dataframe tbody tr th:only-of-type {\n",
       "        vertical-align: middle;\n",
       "    }\n",
       "\n",
       "    .dataframe tbody tr th {\n",
       "        vertical-align: top;\n",
       "    }\n",
       "\n",
       "    .dataframe thead tr th {\n",
       "        text-align: left;\n",
       "    }\n",
       "</style>\n",
       "<table border=\"1\" class=\"dataframe\">\n",
       "  <thead>\n",
       "    <tr>\n",
       "      <th></th>\n",
       "      <th>family_status</th>\n",
       "      <th>sum</th>\n",
       "      <th>count</th>\n",
       "      <th>mean</th>\n",
       "    </tr>\n",
       "    <tr>\n",
       "      <th></th>\n",
       "      <th></th>\n",
       "      <th>debt</th>\n",
       "      <th>debt</th>\n",
       "      <th>debt</th>\n",
       "    </tr>\n",
       "  </thead>\n",
       "  <tbody>\n",
       "    <tr>\n",
       "      <th>0</th>\n",
       "      <td>civil</td>\n",
       "      <td>385</td>\n",
       "      <td>4134</td>\n",
       "      <td>9.313014</td>\n",
       "    </tr>\n",
       "    <tr>\n",
       "      <th>1</th>\n",
       "      <td>divorced</td>\n",
       "      <td>84</td>\n",
       "      <td>1189</td>\n",
       "      <td>7.064760</td>\n",
       "    </tr>\n",
       "    <tr>\n",
       "      <th>2</th>\n",
       "      <td>married</td>\n",
       "      <td>927</td>\n",
       "      <td>12261</td>\n",
       "      <td>7.560558</td>\n",
       "    </tr>\n",
       "    <tr>\n",
       "      <th>3</th>\n",
       "      <td>single</td>\n",
       "      <td>273</td>\n",
       "      <td>2796</td>\n",
       "      <td>9.763948</td>\n",
       "    </tr>\n",
       "    <tr>\n",
       "      <th>4</th>\n",
       "      <td>widow</td>\n",
       "      <td>63</td>\n",
       "      <td>951</td>\n",
       "      <td>6.624606</td>\n",
       "    </tr>\n",
       "  </tbody>\n",
       "</table>\n",
       "</div>"
      ],
      "text/plain": [
       "  family_status  sum  count      mean\n",
       "                debt   debt      debt\n",
       "0         civil  385   4134  9.313014\n",
       "1      divorced   84   1189  7.064760\n",
       "2       married  927  12261  7.560558\n",
       "3        single  273   2796  9.763948\n",
       "4         widow   63    951  6.624606"
      ]
     },
     "execution_count": 24,
     "metadata": {},
     "output_type": "execute_result"
    }
   ],
   "source": [
    "pivot_table = pd.pivot_table(data, index=['family_status'], values=['debt'], aggfunc=['sum', 'count', 'mean']).reset_index()\n",
    "pivot_table[('mean', 'debt')] = pivot_table[('mean', 'debt')] * 100\n",
    "pivot_table"
   ]
  },
  {
   "cell_type": "markdown",
   "id": "bf96e4463379fb2f",
   "metadata": {},
   "source": [
    "Analyzing the table, we can conclude that widowed individuals are the most reliable in repaying loans, with a debtor rate of 6.6%. They are followed by divorced individuals, with a rate of 7%. Married people and those in a civil partnership have lower creditworthiness, with rates of 7.5% and 9.3%, respectively. The least reliable in repaying loans are single individuals, with a debtor rate of 9.7%."
   ]
  },
  {
   "cell_type": "markdown",
   "id": "90476203322a2251",
   "metadata": {},
   "source": [
    "#### Is there a relationship between income level and timely loan repayment?"
   ]
  },
  {
   "cell_type": "code",
   "execution_count": 25,
   "id": "2caa2514e11e5439",
   "metadata": {
    "ExecuteTime": {
     "end_time": "2024-09-29T21:59:30.033044Z",
     "start_time": "2024-09-29T21:59:30.003498Z"
    }
   },
   "outputs": [
    {
     "data": {
      "text/html": [
       "<div>\n",
       "<style scoped>\n",
       "    .dataframe tbody tr th:only-of-type {\n",
       "        vertical-align: middle;\n",
       "    }\n",
       "\n",
       "    .dataframe tbody tr th {\n",
       "        vertical-align: top;\n",
       "    }\n",
       "\n",
       "    .dataframe thead tr th {\n",
       "        text-align: left;\n",
       "    }\n",
       "</style>\n",
       "<table border=\"1\" class=\"dataframe\">\n",
       "  <thead>\n",
       "    <tr>\n",
       "      <th></th>\n",
       "      <th>total_income_category</th>\n",
       "      <th>sum</th>\n",
       "      <th>count</th>\n",
       "      <th>mean</th>\n",
       "    </tr>\n",
       "    <tr>\n",
       "      <th></th>\n",
       "      <th></th>\n",
       "      <th>debt</th>\n",
       "      <th>debt</th>\n",
       "      <th>debt</th>\n",
       "    </tr>\n",
       "  </thead>\n",
       "  <tbody>\n",
       "    <tr>\n",
       "      <th>0</th>\n",
       "      <td>A</td>\n",
       "      <td>2</td>\n",
       "      <td>25</td>\n",
       "      <td>8.000000</td>\n",
       "    </tr>\n",
       "    <tr>\n",
       "      <th>1</th>\n",
       "      <td>B</td>\n",
       "      <td>354</td>\n",
       "      <td>5014</td>\n",
       "      <td>7.060231</td>\n",
       "    </tr>\n",
       "    <tr>\n",
       "      <th>2</th>\n",
       "      <td>C</td>\n",
       "      <td>1353</td>\n",
       "      <td>15921</td>\n",
       "      <td>8.498210</td>\n",
       "    </tr>\n",
       "    <tr>\n",
       "      <th>3</th>\n",
       "      <td>D</td>\n",
       "      <td>21</td>\n",
       "      <td>349</td>\n",
       "      <td>6.017192</td>\n",
       "    </tr>\n",
       "    <tr>\n",
       "      <th>4</th>\n",
       "      <td>E</td>\n",
       "      <td>2</td>\n",
       "      <td>22</td>\n",
       "      <td>9.090909</td>\n",
       "    </tr>\n",
       "  </tbody>\n",
       "</table>\n",
       "</div>"
      ],
      "text/plain": [
       "  total_income_category   sum  count      mean\n",
       "                         debt   debt      debt\n",
       "0                     A     2     25  8.000000\n",
       "1                     B   354   5014  7.060231\n",
       "2                     C  1353  15921  8.498210\n",
       "3                     D    21    349  6.017192\n",
       "4                     E     2     22  9.090909"
      ]
     },
     "execution_count": 25,
     "metadata": {},
     "output_type": "execute_result"
    }
   ],
   "source": [
    "pivot_table = pd.pivot_table(data, index=['total_income_category'], values=['debt'], aggfunc=['sum', 'count', 'mean']).reset_index()\n",
    "pivot_table[('mean', 'debt')] = pivot_table[('mean', 'debt')] * 100\n",
    "pivot_table"
   ]
  },
  {
   "cell_type": "markdown",
   "id": "f610f906d54e6429",
   "metadata": {},
   "source": [
    "Among all income categories, only two can be analyzed – B and C, as the sample size for the others is quite small. Among people with income type B, 7% did not repay their loans; their income ranges from 200,001 to 1,000,000. Among those with income type C (50,001–200,000), 8.5% did not repay their loans. These proportions make sense, as a higher income level means a greater likelihood of loan repayment, while those in the low and high-income categories either do not receive/take loans or do not need them."
   ]
  },
  {
   "cell_type": "markdown",
   "id": "2330fd785b00750",
   "metadata": {},
   "source": [
    "#### How do different loan purposes affect timely repayment?"
   ]
  },
  {
   "cell_type": "code",
   "execution_count": 26,
   "id": "2c807590bc17df2f",
   "metadata": {
    "ExecuteTime": {
     "end_time": "2024-09-29T21:59:30.279298Z",
     "start_time": "2024-09-29T21:59:30.235569Z"
    }
   },
   "outputs": [
    {
     "data": {
      "text/html": [
       "<div>\n",
       "<style scoped>\n",
       "    .dataframe tbody tr th:only-of-type {\n",
       "        vertical-align: middle;\n",
       "    }\n",
       "\n",
       "    .dataframe tbody tr th {\n",
       "        vertical-align: top;\n",
       "    }\n",
       "\n",
       "    .dataframe thead tr th {\n",
       "        text-align: left;\n",
       "    }\n",
       "</style>\n",
       "<table border=\"1\" class=\"dataframe\">\n",
       "  <thead>\n",
       "    <tr>\n",
       "      <th></th>\n",
       "      <th>purpose_category</th>\n",
       "      <th>sum</th>\n",
       "      <th>count</th>\n",
       "      <th>mean</th>\n",
       "    </tr>\n",
       "    <tr>\n",
       "      <th></th>\n",
       "      <th></th>\n",
       "      <th>debt</th>\n",
       "      <th>debt</th>\n",
       "      <th>debt</th>\n",
       "    </tr>\n",
       "  </thead>\n",
       "  <tbody>\n",
       "    <tr>\n",
       "      <th>0</th>\n",
       "      <td>getting an education</td>\n",
       "      <td>369</td>\n",
       "      <td>3988</td>\n",
       "      <td>9.252758</td>\n",
       "    </tr>\n",
       "    <tr>\n",
       "      <th>1</th>\n",
       "      <td>operations with a car</td>\n",
       "      <td>400</td>\n",
       "      <td>4279</td>\n",
       "      <td>9.347978</td>\n",
       "    </tr>\n",
       "    <tr>\n",
       "      <th>2</th>\n",
       "      <td>real estate operations</td>\n",
       "      <td>780</td>\n",
       "      <td>10751</td>\n",
       "      <td>7.255139</td>\n",
       "    </tr>\n",
       "    <tr>\n",
       "      <th>3</th>\n",
       "      <td>wedding planning</td>\n",
       "      <td>183</td>\n",
       "      <td>2313</td>\n",
       "      <td>7.911803</td>\n",
       "    </tr>\n",
       "  </tbody>\n",
       "</table>\n",
       "</div>"
      ],
      "text/plain": [
       "         purpose_category  sum  count      mean\n",
       "                          debt   debt      debt\n",
       "0    getting an education  369   3988  9.252758\n",
       "1   operations with a car  400   4279  9.347978\n",
       "2  real estate operations  780  10751  7.255139\n",
       "3        wedding planning  183   2313  7.911803"
      ]
     },
     "execution_count": 26,
     "metadata": {},
     "output_type": "execute_result"
    }
   ],
   "source": [
    "pivot_table = pd.pivot_table(data, index=['purpose_category'], values=['debt'], aggfunc=['sum', 'count', 'mean']).reset_index()\n",
    "pivot_table[('mean', 'debt')] = pivot_table[('mean', 'debt')] * 100\n",
    "pivot_table"
   ]
  },
  {
   "cell_type": "markdown",
   "id": "9aec6a8f9297bcee",
   "metadata": {},
   "source": [
    "In this table, we can see that people who take out loans for real estate or for a wedding are more likely to repay them, with debtor rates of 7.2% and 7.9%, respectively. Loans for education and car-related operations are less likely to be repaid, with debtor rates of 9.25% and 9.34%, respectively."
   ]
  },
  {
   "cell_type": "markdown",
   "id": "cc9bd227b838fbe4",
   "metadata": {},
   "source": [
    "#### Possible reasons for missing values in the original data.\n"
   ]
  },
  {
   "cell_type": "markdown",
   "id": "fcd5853c77a333c7",
   "metadata": {},
   "source": [
    "Most likely, this is due to human factors. It's also possible that the `total_income` and `days_employed` columns were incorrectly recorded by the system, as they might have been optional in the form, or the person was unemployed. It can be noted that the number of missing cells in both columns is 2,174, which likely indicates that errors were made at some stage of data collection by the system."
   ]
  },
  {
   "cell_type": "markdown",
   "id": "bdae9f4d2af17149",
   "metadata": {},
   "source": [
    "#### Why filling in missing values with the median is the best solution for quantitative variables?"
   ]
  },
  {
   "cell_type": "markdown",
   "id": "ec0bf04ba54c71af",
   "metadata": {},
   "source": [
    "This approach is more representative because the mean can be significantly 'skewed' by individuals who earn excessively high amounts or have an unusually large number of workdays."
   ]
  },
  {
   "cell_type": "markdown",
   "id": "4aac6c3a04b99ee9",
   "metadata": {},
   "source": [
    "### Conclusion"
   ]
  },
  {
   "cell_type": "markdown",
   "id": "c1f74d47ffc4fc94",
   "metadata": {},
   "source": [
    "After data preprocessing (removing missing values, handling anomalous values, dealing with duplicates, and categorizing data), certain conclusions can be drawn from the study."
   ]
  },
  {
   "cell_type": "markdown",
   "id": "bb5f515c5e3e869e",
   "metadata": {},
   "source": [
    "Firstly, **people without children are the best at repaying loans**, with the share of debtors in their category being 7.5%. They are followed by people with 1 or 2 children, with shares of 9.2% and 9.4%, respectively. The sample size of people with fewer children was too small to draw any conclusions."
   ]
  },
  {
   "cell_type": "markdown",
   "id": "f2c0a560b23b86bc",
   "metadata": {},
   "source": [
    "Secondly, marital status can also affect loan repayment. **Widowed individuals are most likely to repay loans**, with their debtor rate being 6.6%. They are followed by divorced individuals with a rate of 7%. Married people and those in a civil partnership have lower creditworthiness, with rates of 7.5% and 9.3%, respectively."
   ]
  },
  {
   "cell_type": "markdown",
   "id": "5f4148bb4ca5592a",
   "metadata": {},
   "source": [
    "Thirdly, income can have a direct impact on whether a loan will be repaid or not. Based on the analysis, it can be concluded that people with extremely high or low incomes are less likely to take out a loan (as indicated by the low sample size). People with an income from 50,001 to 200,000 have a debtor rate of 8.5%, while those with an income from 200,000 to 1,000,000 have a rate of 7%. These rates are logical – **the higher the income, the greater the client's creditworthiness.**"
   ]
  },
  {
   "cell_type": "markdown",
   "id": "f125defc732540e",
   "metadata": {},
   "source": [
    "Finally, the purpose of the loan can also be a contributing factor in \"predicting\" loan repayment. Loans for real estate and weddings have debtor rates of 7.2% and 7.9%, respectively. Loans for education and car-related operations have higher debtor rates, with shares of 9.25% and 9.34%, respectively."
   ]
  },
  {
   "cell_type": "markdown",
   "id": "23ae541a296c015c",
   "metadata": {},
   "source": [
    "Thus, people without children or with 1-2 children, as well as those with an income ranging from 200,001 to 1,000,000, have a better credit history, and widowed or divorced individuals are more likely to repay loans on time. Loans for real estate or weddings are most likely to be repaid, while loans for education or a car are associated with a higher probability of delinquency."
   ]
  },
  {
   "cell_type": "markdown",
   "id": "83debeaeff86239c",
   "metadata": {},
   "source": [
    "### **Ideal Client Profile:**\n",
    "- **Children:** No children or has 1-2 children.\n",
    "- **Income:** Has an above average income\n",
    "- **Marital Status:** Widowed or divorced.\n",
    "- **Loan Purpose:** Takes loans for real estate or wedding purposes.\n",
    "\n",
    "This profile suggests a higher likelihood of repaying loans on time, making them a desirable and reliable client for lenders.\n",
    "\n",
    "### **Undesirable Client Profile:**\n",
    "- **Children:** Likely has more than 2 children.\n",
    "- **Income:** Has a below average income.\n",
    "- **Marital Status:** Single, in a civil partnership, or married\n",
    "- **Loan Purpose:** Takes loans for education or car-related operations.\n",
    "\n",
    "This profile indicates a higher risk of not repaying loans on time, making them less desirable for lenders.\n"
   ]
  }
 ],
 "metadata": {
  "ExecuteTimeLog": [
   {
    "duration": 49,
    "start_time": "2024-09-16T03:50:50.582Z"
   },
   {
    "duration": 461,
    "start_time": "2024-09-16T03:50:59.437Z"
   },
   {
    "duration": 84,
    "start_time": "2024-09-16T03:51:00.521Z"
   },
   {
    "duration": 24,
    "start_time": "2024-09-16T03:51:02.368Z"
   },
   {
    "duration": 25,
    "start_time": "2024-09-16T04:40:06.236Z"
   },
   {
    "duration": 49,
    "start_time": "2024-09-16T22:05:24.898Z"
   },
   {
    "duration": 7,
    "start_time": "2024-09-16T22:05:34.143Z"
   },
   {
    "duration": 419,
    "start_time": "2024-09-16T22:05:48.731Z"
   },
   {
    "duration": 139,
    "start_time": "2024-09-16T22:05:49.152Z"
   },
   {
    "duration": 23,
    "start_time": "2024-09-16T22:05:49.293Z"
   },
   {
    "duration": 16,
    "start_time": "2024-09-16T22:05:49.317Z"
   },
   {
    "duration": 10,
    "start_time": "2024-09-16T22:05:49.335Z"
   },
   {
    "duration": 2,
    "start_time": "2024-09-16T22:05:49.347Z"
   },
   {
    "duration": 4,
    "start_time": "2024-09-16T22:05:49.350Z"
   },
   {
    "duration": 3,
    "start_time": "2024-09-16T22:05:49.355Z"
   },
   {
    "duration": 4,
    "start_time": "2024-09-16T22:05:49.360Z"
   },
   {
    "duration": 4,
    "start_time": "2024-09-16T22:05:49.365Z"
   },
   {
    "duration": 5,
    "start_time": "2024-09-16T22:05:49.370Z"
   },
   {
    "duration": 4,
    "start_time": "2024-09-16T22:05:49.376Z"
   },
   {
    "duration": 4,
    "start_time": "2024-09-16T22:05:49.382Z"
   },
   {
    "duration": 3,
    "start_time": "2024-09-16T22:05:49.420Z"
   },
   {
    "duration": 4,
    "start_time": "2024-09-16T22:05:49.424Z"
   },
   {
    "duration": 5,
    "start_time": "2024-09-16T22:05:49.429Z"
   },
   {
    "duration": 5,
    "start_time": "2024-09-16T22:05:49.436Z"
   },
   {
    "duration": 5,
    "start_time": "2024-09-16T22:05:49.442Z"
   },
   {
    "duration": 3,
    "start_time": "2024-09-16T22:05:49.448Z"
   },
   {
    "duration": 10,
    "start_time": "2024-09-16T22:05:49.453Z"
   },
   {
    "duration": 3,
    "start_time": "2024-09-16T22:05:49.465Z"
   },
   {
    "duration": 4,
    "start_time": "2024-09-16T22:05:49.470Z"
   },
   {
    "duration": 75,
    "start_time": "2024-09-16T22:07:56.859Z"
   },
   {
    "duration": 6,
    "start_time": "2024-09-16T22:12:02.360Z"
   },
   {
    "duration": 448,
    "start_time": "2024-09-16T22:39:57.586Z"
   },
   {
    "duration": 81,
    "start_time": "2024-09-16T22:39:58.036Z"
   },
   {
    "duration": 24,
    "start_time": "2024-09-16T22:39:58.119Z"
   },
   {
    "duration": 17,
    "start_time": "2024-09-16T22:39:58.145Z"
   },
   {
    "duration": 11,
    "start_time": "2024-09-16T22:39:58.165Z"
   },
   {
    "duration": 56594,
    "start_time": "2024-09-16T22:39:58.177Z"
   },
   {
    "duration": 3,
    "start_time": "2024-09-16T22:40:54.772Z"
   },
   {
    "duration": 12,
    "start_time": "2024-09-16T22:40:54.776Z"
   },
   {
    "duration": 8,
    "start_time": "2024-09-16T22:40:54.789Z"
   },
   {
    "duration": 5,
    "start_time": "2024-09-16T22:40:54.798Z"
   },
   {
    "duration": 6,
    "start_time": "2024-09-16T22:40:54.805Z"
   },
   {
    "duration": 4,
    "start_time": "2024-09-16T22:40:54.813Z"
   },
   {
    "duration": 14,
    "start_time": "2024-09-16T22:40:54.820Z"
   },
   {
    "duration": 3,
    "start_time": "2024-09-16T22:40:54.836Z"
   },
   {
    "duration": 47,
    "start_time": "2024-09-16T22:40:54.841Z"
   },
   {
    "duration": 27,
    "start_time": "2024-09-16T22:40:54.890Z"
   },
   {
    "duration": 3,
    "start_time": "2024-09-16T22:40:54.919Z"
   },
   {
    "duration": 6,
    "start_time": "2024-09-16T22:40:54.923Z"
   },
   {
    "duration": 14,
    "start_time": "2024-09-16T22:40:54.930Z"
   },
   {
    "duration": 19,
    "start_time": "2024-09-16T22:40:54.945Z"
   },
   {
    "duration": 6,
    "start_time": "2024-09-16T22:40:54.966Z"
   },
   {
    "duration": 9,
    "start_time": "2024-09-16T22:40:54.974Z"
   },
   {
    "duration": 65,
    "start_time": "2024-09-16T22:40:54.984Z"
   },
   {
    "duration": 406,
    "start_time": "2024-09-16T22:42:52.536Z"
   },
   {
    "duration": 80,
    "start_time": "2024-09-16T22:42:52.944Z"
   },
   {
    "duration": 22,
    "start_time": "2024-09-16T22:42:53.025Z"
   },
   {
    "duration": 15,
    "start_time": "2024-09-16T22:42:53.049Z"
   },
   {
    "duration": 11,
    "start_time": "2024-09-16T22:42:53.066Z"
   },
   {
    "duration": 420,
    "start_time": "2024-09-16T22:43:15.213Z"
   },
   {
    "duration": 81,
    "start_time": "2024-09-16T22:43:17.399Z"
   },
   {
    "duration": 75,
    "start_time": "2024-09-16T22:43:20.749Z"
   },
   {
    "duration": 412,
    "start_time": "2024-09-16T22:43:23.920Z"
   },
   {
    "duration": 80,
    "start_time": "2024-09-16T22:43:24.334Z"
   },
   {
    "duration": 23,
    "start_time": "2024-09-16T22:43:24.415Z"
   },
   {
    "duration": 18,
    "start_time": "2024-09-16T22:43:24.440Z"
   },
   {
    "duration": 16,
    "start_time": "2024-09-16T22:43:24.460Z"
   },
   {
    "duration": 63407,
    "start_time": "2024-09-16T22:45:18.737Z"
   },
   {
    "duration": 6,
    "start_time": "2024-09-17T01:19:07.749Z"
   },
   {
    "duration": 3,
    "start_time": "2024-09-17T01:19:21.766Z"
   },
   {
    "duration": 7,
    "start_time": "2024-09-17T01:23:28.549Z"
   },
   {
    "duration": 8,
    "start_time": "2024-09-17T01:23:32.777Z"
   },
   {
    "duration": 5,
    "start_time": "2024-09-17T01:25:06.685Z"
   },
   {
    "duration": 9,
    "start_time": "2024-09-17T03:10:31.952Z"
   },
   {
    "duration": 52,
    "start_time": "2024-09-17T03:11:06.592Z"
   },
   {
    "duration": 6,
    "start_time": "2024-09-17T03:11:14.915Z"
   },
   {
    "duration": 411,
    "start_time": "2024-09-17T03:11:19.859Z"
   },
   {
    "duration": 145,
    "start_time": "2024-09-17T03:11:20.272Z"
   },
   {
    "duration": 26,
    "start_time": "2024-09-17T03:11:20.419Z"
   },
   {
    "duration": 17,
    "start_time": "2024-09-17T03:11:20.446Z"
   },
   {
    "duration": 15,
    "start_time": "2024-09-17T03:11:20.466Z"
   },
   {
    "duration": 5240,
    "start_time": "2024-09-17T03:11:20.482Z"
   },
   {
    "duration": 3,
    "start_time": "2024-09-17T03:11:25.724Z"
   },
   {
    "duration": 22,
    "start_time": "2024-09-17T03:11:25.728Z"
   },
   {
    "duration": 5,
    "start_time": "2024-09-17T03:11:25.751Z"
   },
   {
    "duration": 16,
    "start_time": "2024-09-17T03:11:25.757Z"
   },
   {
    "duration": 4,
    "start_time": "2024-09-17T03:11:25.775Z"
   },
   {
    "duration": 2,
    "start_time": "2024-09-17T03:11:30.905Z"
   },
   {
    "duration": 30,
    "start_time": "2024-09-17T03:11:30.910Z"
   },
   {
    "duration": 46,
    "start_time": "2024-09-17T03:11:30.941Z"
   },
   {
    "duration": 48,
    "start_time": "2024-09-17T03:11:30.989Z"
   },
   {
    "duration": 3,
    "start_time": "2024-09-17T03:11:31.038Z"
   },
   {
    "duration": 3,
    "start_time": "2024-09-17T03:11:31.043Z"
   },
   {
    "duration": 3,
    "start_time": "2024-09-17T03:11:31.047Z"
   },
   {
    "duration": 4,
    "start_time": "2024-09-17T03:11:31.051Z"
   },
   {
    "duration": 12,
    "start_time": "2024-09-17T03:11:31.056Z"
   },
   {
    "duration": 20,
    "start_time": "2024-09-17T03:11:31.070Z"
   },
   {
    "duration": 231,
    "start_time": "2024-09-17T03:11:31.091Z"
   },
   {
    "duration": 197,
    "start_time": "2024-09-17T03:11:31.945Z"
   },
   {
    "duration": 48,
    "start_time": "2024-09-18T00:53:34.011Z"
   },
   {
    "duration": 405,
    "start_time": "2024-09-18T00:53:40.556Z"
   },
   {
    "duration": 138,
    "start_time": "2024-09-18T00:53:40.963Z"
   },
   {
    "duration": 23,
    "start_time": "2024-09-18T00:53:41.103Z"
   },
   {
    "duration": 16,
    "start_time": "2024-09-18T00:53:41.129Z"
   },
   {
    "duration": 14,
    "start_time": "2024-09-18T00:53:41.147Z"
   },
   {
    "duration": 5165,
    "start_time": "2024-09-18T00:53:41.162Z"
   },
   {
    "duration": 3,
    "start_time": "2024-09-18T00:53:46.329Z"
   },
   {
    "duration": 34,
    "start_time": "2024-09-18T00:53:46.334Z"
   },
   {
    "duration": 11,
    "start_time": "2024-09-18T00:53:46.370Z"
   },
   {
    "duration": 6,
    "start_time": "2024-09-18T00:53:46.385Z"
   },
   {
    "duration": 6,
    "start_time": "2024-09-18T00:53:46.393Z"
   },
   {
    "duration": 5303,
    "start_time": "2024-09-18T00:53:46.400Z"
   },
   {
    "duration": 10,
    "start_time": "2024-09-18T00:53:51.705Z"
   },
   {
    "duration": 8,
    "start_time": "2024-09-18T00:53:51.717Z"
   },
   {
    "duration": 3,
    "start_time": "2024-09-18T00:53:51.769Z"
   },
   {
    "duration": 3,
    "start_time": "2024-09-18T00:53:51.773Z"
   },
   {
    "duration": 3,
    "start_time": "2024-09-18T00:53:51.778Z"
   },
   {
    "duration": 2,
    "start_time": "2024-09-18T00:53:51.783Z"
   },
   {
    "duration": 4,
    "start_time": "2024-09-18T00:53:51.787Z"
   },
   {
    "duration": 10,
    "start_time": "2024-09-18T00:53:51.793Z"
   },
   {
    "duration": 33,
    "start_time": "2024-09-18T00:53:51.827Z"
   },
   {
    "duration": 30,
    "start_time": "2024-09-18T00:53:51.862Z"
   },
   {
    "duration": 425,
    "start_time": "2024-09-26T19:21:56.437Z"
   },
   {
    "duration": 104,
    "start_time": "2024-09-26T19:21:56.864Z"
   },
   {
    "duration": 0,
    "start_time": "2024-09-26T19:21:56.970Z"
   },
   {
    "duration": 0,
    "start_time": "2024-09-26T19:21:56.971Z"
   },
   {
    "duration": 0,
    "start_time": "2024-09-26T19:21:56.972Z"
   },
   {
    "duration": 0,
    "start_time": "2024-09-26T19:21:56.973Z"
   },
   {
    "duration": 1,
    "start_time": "2024-09-26T19:21:56.974Z"
   },
   {
    "duration": 0,
    "start_time": "2024-09-26T19:21:56.975Z"
   },
   {
    "duration": 0,
    "start_time": "2024-09-26T19:21:56.976Z"
   },
   {
    "duration": 0,
    "start_time": "2024-09-26T19:21:56.977Z"
   },
   {
    "duration": 0,
    "start_time": "2024-09-26T19:21:56.978Z"
   },
   {
    "duration": 0,
    "start_time": "2024-09-26T19:21:56.979Z"
   },
   {
    "duration": 0,
    "start_time": "2024-09-26T19:21:56.980Z"
   },
   {
    "duration": 0,
    "start_time": "2024-09-26T19:21:56.981Z"
   },
   {
    "duration": 0,
    "start_time": "2024-09-26T19:21:56.982Z"
   },
   {
    "duration": 0,
    "start_time": "2024-09-26T19:21:56.983Z"
   },
   {
    "duration": 0,
    "start_time": "2024-09-26T19:21:56.984Z"
   },
   {
    "duration": 0,
    "start_time": "2024-09-26T19:21:56.985Z"
   },
   {
    "duration": 0,
    "start_time": "2024-09-26T19:21:56.986Z"
   },
   {
    "duration": 0,
    "start_time": "2024-09-26T19:21:56.987Z"
   },
   {
    "duration": 0,
    "start_time": "2024-09-26T19:21:56.989Z"
   },
   {
    "duration": 0,
    "start_time": "2024-09-26T19:21:57.021Z"
   },
   {
    "duration": 0,
    "start_time": "2024-09-26T19:21:57.023Z"
   },
   {
    "duration": 0,
    "start_time": "2024-09-26T19:21:57.024Z"
   },
   {
    "duration": 0,
    "start_time": "2024-09-26T19:21:57.026Z"
   },
   {
    "duration": 0,
    "start_time": "2024-09-26T19:21:57.027Z"
   },
   {
    "duration": 105,
    "start_time": "2024-09-26T19:22:12.630Z"
   }
  ],
  "colab": {
   "provenance": []
  },
  "kernelspec": {
   "display_name": "Python 3 (ipykernel)",
   "language": "python",
   "name": "python3"
  },
  "language_info": {
   "codemirror_mode": {
    "name": "ipython",
    "version": 3
   },
   "file_extension": ".py",
   "mimetype": "text/x-python",
   "name": "python",
   "nbconvert_exporter": "python",
   "pygments_lexer": "ipython3",
   "version": "3.7.8"
  },
  "toc": {
   "base_numbering": 1,
   "nav_menu": {},
   "number_sections": true,
   "sideBar": true,
   "skip_h1_title": true,
   "title_cell": "Table of Contents",
   "title_sidebar": "Contents",
   "toc_cell": false,
   "toc_position": {},
   "toc_section_display": true,
   "toc_window_display": false
  }
 },
 "nbformat": 4,
 "nbformat_minor": 5
}
