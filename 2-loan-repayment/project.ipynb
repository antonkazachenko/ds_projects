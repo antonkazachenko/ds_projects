{
 "cells": [
  {
   "cell_type": "markdown",
   "id": "4f11de00",
   "metadata": {
    "deletable": false,
    "editable": false,
    "id": "4f11de00"
   },
   "source": [
    "# Research on Loan Repayment Reliability"
   ]
  },
  {
   "metadata": {},
   "cell_type": "markdown",
   "source": [
    "### Project Description\n",
    "The client is the bank's credit department. It is necessary to determine whether a client's marital status and the \n",
    "number of children influence their ability to repay the loan on time. The input data from the bank consist of\n",
    "statistics on clients' creditworthiness.\n",
    "\n",
    "The results of this research will be taken into account when building a credit scoring model—a special system that \n",
    "evaluates the ability of a potential borrower to repay a loan to the bank.\n",
    "\n",
    "### Data Description\n",
    "- `children` — number of children in the family\n",
    "- `days_employed` — total work experience in days\n",
    "- `dob_years` — client's age in years\n",
    "- `education` — client's education level\n",
    "- `education_id` — education level identifier\n",
    "- `family_status` — marital status\n",
    "- `family_status_id` — marital status identifier\n",
    "- `gender` — client's gender\n",
    "- `income_type` — employment type\n",
    "- `debt` — whether the client had debt when repaying loans\n",
    "- `total_income` — monthly income\n",
    "- `purpose` — purpose of the loan\n",
    "\n",
    "### Purpose of the Study\n",
    "The study aims to:\n",
    "- Analyze and identify factors that influence a client's ability to repay loans on time.\n",
    "- Investigate how marital status, the number of children, income level, and the purpose of the loan affect the likelihood of timely repayment.\n",
    "- Contribute to building a credit scoring model that helps evaluate the creditworthiness of potential borrowers.\n",
    "- Assist lenders in making more informed lending decisions."
   ],
   "id": "7874135b827e2880"
  },
  {
   "cell_type": "markdown",
   "id": "76a8a9ce",
   "metadata": {
    "deletable": false,
    "editable": false,
    "id": "76a8a9ce",
    "tags": [
     "start_task"
    ]
   },
   "source": [
    "Here I import the pandas library and read the data from the csv file."
   ]
  },
  {
   "cell_type": "code",
   "id": "fab207d0",
   "metadata": {
    "id": "fab207d0",
    "ExecuteTime": {
     "end_time": "2024-09-30T19:34:24.249827Z",
     "start_time": "2024-09-30T19:34:24.242747Z"
    }
   },
   "source": [
    "import pandas as pd"
   ],
   "outputs": [],
   "execution_count": 2
  },
  {
   "cell_type": "code",
   "id": "6c82b607",
   "metadata": {
    "id": "6c82b607",
    "ExecuteTime": {
     "end_time": "2024-09-30T19:34:24.469473Z",
     "start_time": "2024-09-30T19:34:24.271860Z"
    }
   },
   "source": [
    "data = pd.read_csv('./data.csv')"
   ],
   "outputs": [],
   "execution_count": 3
  },
  {
   "cell_type": "markdown",
   "id": "08bbb5b3",
   "metadata": {
    "deletable": false,
    "editable": false,
    "id": "08bbb5b3",
    "tags": [
     "start_task"
    ]
   },
   "source": [
    "Then I display the first 20 lines of the dataframe `data` on the screen"
   ]
  },
  {
   "cell_type": "code",
   "id": "4ff33b36",
   "metadata": {
    "id": "4ff33b36",
    "ExecuteTime": {
     "end_time": "2024-09-30T19:34:24.562315Z",
     "start_time": "2024-09-30T19:34:24.534935Z"
    }
   },
   "source": [
    "data.head(20)"
   ],
   "outputs": [
    {
     "data": {
      "text/plain": [
       "    children  days_employed  dob_years            education  education_id  \\\n",
       "0          1   -8437.673028         42               высшее             0   \n",
       "1          1   -4024.803754         36              среднее             1   \n",
       "2          0   -5623.422610         33              Среднее             1   \n",
       "3          3   -4124.747207         32              среднее             1   \n",
       "4          0  340266.072047         53              среднее             1   \n",
       "5          0    -926.185831         27               высшее             0   \n",
       "6          0   -2879.202052         43               высшее             0   \n",
       "7          0    -152.779569         50              СРЕДНЕЕ             1   \n",
       "8          2   -6929.865299         35               ВЫСШЕЕ             0   \n",
       "9          0   -2188.756445         41              среднее             1   \n",
       "10         2   -4171.483647         36               высшее             0   \n",
       "11         0    -792.701887         40              среднее             1   \n",
       "12         0            NaN         65              среднее             1   \n",
       "13         0   -1846.641941         54  неоконченное высшее             2   \n",
       "14         0   -1844.956182         56               высшее             0   \n",
       "15         1    -972.364419         26              среднее             1   \n",
       "16         0   -1719.934226         35              среднее             1   \n",
       "17         0   -2369.999720         33               высшее             0   \n",
       "18         0  400281.136913         53              среднее             1   \n",
       "19         0  -10038.818549         48              СРЕДНЕЕ             1   \n",
       "\n",
       "   family_status  family_status_id gender income_type  debt   total_income  \\\n",
       "0        married                 0      F    employee     0  253875.639453   \n",
       "1        married                 0      F    employee     0  112080.014102   \n",
       "2        married                 0      M    employee     0  145885.952297   \n",
       "3        married                 0      M    employee     0  267628.550329   \n",
       "4          civil                 1      F   pensioner     0  158616.077870   \n",
       "5          civil                 1      M     partner     0  255763.565419   \n",
       "6        married                 0      F     partner     0  240525.971920   \n",
       "7        married                 0      M    employee     0  135823.934197   \n",
       "8          civil                 1      F    employee     0   95856.832424   \n",
       "9        married                 0      M    employee     0  144425.938277   \n",
       "10       married                 0      M     partner     0  113943.491460   \n",
       "11       married                 0      F    employee     0   77069.234271   \n",
       "12         civil                 1      M   pensioner     0            NaN   \n",
       "13       married                 0      F    employee     0  130458.228857   \n",
       "14         civil                 1      F     partner     1  165127.911772   \n",
       "15       married                 0      F    employee     0  116820.904450   \n",
       "16       married                 0      F    employee     0  289202.704229   \n",
       "17         civil                 1      M    employee     0   90410.586745   \n",
       "18         widow                 2      F   pensioner     0   56823.777243   \n",
       "19      divorced                 3      F    employee     0  242831.107982   \n",
       "\n",
       "                                   purpose  \n",
       "0                            покупка жилья  \n",
       "1                  приобретение автомобиля  \n",
       "2                            покупка жилья  \n",
       "3               дополнительное образование  \n",
       "4                          сыграть свадьбу  \n",
       "5                            покупка жилья  \n",
       "6                        операции с жильем  \n",
       "7                              образование  \n",
       "8                    на проведение свадьбы  \n",
       "9                  покупка жилья для семьи  \n",
       "10                    покупка недвижимости  \n",
       "11       покупка коммерческой недвижимости  \n",
       "12                         сыграть свадьбу  \n",
       "13                 приобретение автомобиля  \n",
       "14              покупка жилой недвижимости  \n",
       "15  строительство собственной недвижимости  \n",
       "16                            недвижимость  \n",
       "17              строительство недвижимости  \n",
       "18      на покупку подержанного автомобиля  \n",
       "19            на покупку своего автомобиля  "
      ],
      "text/html": [
       "<div>\n",
       "<style scoped>\n",
       "    .dataframe tbody tr th:only-of-type {\n",
       "        vertical-align: middle;\n",
       "    }\n",
       "\n",
       "    .dataframe tbody tr th {\n",
       "        vertical-align: top;\n",
       "    }\n",
       "\n",
       "    .dataframe thead th {\n",
       "        text-align: right;\n",
       "    }\n",
       "</style>\n",
       "<table border=\"1\" class=\"dataframe\">\n",
       "  <thead>\n",
       "    <tr style=\"text-align: right;\">\n",
       "      <th></th>\n",
       "      <th>children</th>\n",
       "      <th>days_employed</th>\n",
       "      <th>dob_years</th>\n",
       "      <th>education</th>\n",
       "      <th>education_id</th>\n",
       "      <th>family_status</th>\n",
       "      <th>family_status_id</th>\n",
       "      <th>gender</th>\n",
       "      <th>income_type</th>\n",
       "      <th>debt</th>\n",
       "      <th>total_income</th>\n",
       "      <th>purpose</th>\n",
       "    </tr>\n",
       "  </thead>\n",
       "  <tbody>\n",
       "    <tr>\n",
       "      <th>0</th>\n",
       "      <td>1</td>\n",
       "      <td>-8437.673028</td>\n",
       "      <td>42</td>\n",
       "      <td>высшее</td>\n",
       "      <td>0</td>\n",
       "      <td>married</td>\n",
       "      <td>0</td>\n",
       "      <td>F</td>\n",
       "      <td>employee</td>\n",
       "      <td>0</td>\n",
       "      <td>253875.639453</td>\n",
       "      <td>покупка жилья</td>\n",
       "    </tr>\n",
       "    <tr>\n",
       "      <th>1</th>\n",
       "      <td>1</td>\n",
       "      <td>-4024.803754</td>\n",
       "      <td>36</td>\n",
       "      <td>среднее</td>\n",
       "      <td>1</td>\n",
       "      <td>married</td>\n",
       "      <td>0</td>\n",
       "      <td>F</td>\n",
       "      <td>employee</td>\n",
       "      <td>0</td>\n",
       "      <td>112080.014102</td>\n",
       "      <td>приобретение автомобиля</td>\n",
       "    </tr>\n",
       "    <tr>\n",
       "      <th>2</th>\n",
       "      <td>0</td>\n",
       "      <td>-5623.422610</td>\n",
       "      <td>33</td>\n",
       "      <td>Среднее</td>\n",
       "      <td>1</td>\n",
       "      <td>married</td>\n",
       "      <td>0</td>\n",
       "      <td>M</td>\n",
       "      <td>employee</td>\n",
       "      <td>0</td>\n",
       "      <td>145885.952297</td>\n",
       "      <td>покупка жилья</td>\n",
       "    </tr>\n",
       "    <tr>\n",
       "      <th>3</th>\n",
       "      <td>3</td>\n",
       "      <td>-4124.747207</td>\n",
       "      <td>32</td>\n",
       "      <td>среднее</td>\n",
       "      <td>1</td>\n",
       "      <td>married</td>\n",
       "      <td>0</td>\n",
       "      <td>M</td>\n",
       "      <td>employee</td>\n",
       "      <td>0</td>\n",
       "      <td>267628.550329</td>\n",
       "      <td>дополнительное образование</td>\n",
       "    </tr>\n",
       "    <tr>\n",
       "      <th>4</th>\n",
       "      <td>0</td>\n",
       "      <td>340266.072047</td>\n",
       "      <td>53</td>\n",
       "      <td>среднее</td>\n",
       "      <td>1</td>\n",
       "      <td>civil</td>\n",
       "      <td>1</td>\n",
       "      <td>F</td>\n",
       "      <td>pensioner</td>\n",
       "      <td>0</td>\n",
       "      <td>158616.077870</td>\n",
       "      <td>сыграть свадьбу</td>\n",
       "    </tr>\n",
       "    <tr>\n",
       "      <th>5</th>\n",
       "      <td>0</td>\n",
       "      <td>-926.185831</td>\n",
       "      <td>27</td>\n",
       "      <td>высшее</td>\n",
       "      <td>0</td>\n",
       "      <td>civil</td>\n",
       "      <td>1</td>\n",
       "      <td>M</td>\n",
       "      <td>partner</td>\n",
       "      <td>0</td>\n",
       "      <td>255763.565419</td>\n",
       "      <td>покупка жилья</td>\n",
       "    </tr>\n",
       "    <tr>\n",
       "      <th>6</th>\n",
       "      <td>0</td>\n",
       "      <td>-2879.202052</td>\n",
       "      <td>43</td>\n",
       "      <td>высшее</td>\n",
       "      <td>0</td>\n",
       "      <td>married</td>\n",
       "      <td>0</td>\n",
       "      <td>F</td>\n",
       "      <td>partner</td>\n",
       "      <td>0</td>\n",
       "      <td>240525.971920</td>\n",
       "      <td>операции с жильем</td>\n",
       "    </tr>\n",
       "    <tr>\n",
       "      <th>7</th>\n",
       "      <td>0</td>\n",
       "      <td>-152.779569</td>\n",
       "      <td>50</td>\n",
       "      <td>СРЕДНЕЕ</td>\n",
       "      <td>1</td>\n",
       "      <td>married</td>\n",
       "      <td>0</td>\n",
       "      <td>M</td>\n",
       "      <td>employee</td>\n",
       "      <td>0</td>\n",
       "      <td>135823.934197</td>\n",
       "      <td>образование</td>\n",
       "    </tr>\n",
       "    <tr>\n",
       "      <th>8</th>\n",
       "      <td>2</td>\n",
       "      <td>-6929.865299</td>\n",
       "      <td>35</td>\n",
       "      <td>ВЫСШЕЕ</td>\n",
       "      <td>0</td>\n",
       "      <td>civil</td>\n",
       "      <td>1</td>\n",
       "      <td>F</td>\n",
       "      <td>employee</td>\n",
       "      <td>0</td>\n",
       "      <td>95856.832424</td>\n",
       "      <td>на проведение свадьбы</td>\n",
       "    </tr>\n",
       "    <tr>\n",
       "      <th>9</th>\n",
       "      <td>0</td>\n",
       "      <td>-2188.756445</td>\n",
       "      <td>41</td>\n",
       "      <td>среднее</td>\n",
       "      <td>1</td>\n",
       "      <td>married</td>\n",
       "      <td>0</td>\n",
       "      <td>M</td>\n",
       "      <td>employee</td>\n",
       "      <td>0</td>\n",
       "      <td>144425.938277</td>\n",
       "      <td>покупка жилья для семьи</td>\n",
       "    </tr>\n",
       "    <tr>\n",
       "      <th>10</th>\n",
       "      <td>2</td>\n",
       "      <td>-4171.483647</td>\n",
       "      <td>36</td>\n",
       "      <td>высшее</td>\n",
       "      <td>0</td>\n",
       "      <td>married</td>\n",
       "      <td>0</td>\n",
       "      <td>M</td>\n",
       "      <td>partner</td>\n",
       "      <td>0</td>\n",
       "      <td>113943.491460</td>\n",
       "      <td>покупка недвижимости</td>\n",
       "    </tr>\n",
       "    <tr>\n",
       "      <th>11</th>\n",
       "      <td>0</td>\n",
       "      <td>-792.701887</td>\n",
       "      <td>40</td>\n",
       "      <td>среднее</td>\n",
       "      <td>1</td>\n",
       "      <td>married</td>\n",
       "      <td>0</td>\n",
       "      <td>F</td>\n",
       "      <td>employee</td>\n",
       "      <td>0</td>\n",
       "      <td>77069.234271</td>\n",
       "      <td>покупка коммерческой недвижимости</td>\n",
       "    </tr>\n",
       "    <tr>\n",
       "      <th>12</th>\n",
       "      <td>0</td>\n",
       "      <td>NaN</td>\n",
       "      <td>65</td>\n",
       "      <td>среднее</td>\n",
       "      <td>1</td>\n",
       "      <td>civil</td>\n",
       "      <td>1</td>\n",
       "      <td>M</td>\n",
       "      <td>pensioner</td>\n",
       "      <td>0</td>\n",
       "      <td>NaN</td>\n",
       "      <td>сыграть свадьбу</td>\n",
       "    </tr>\n",
       "    <tr>\n",
       "      <th>13</th>\n",
       "      <td>0</td>\n",
       "      <td>-1846.641941</td>\n",
       "      <td>54</td>\n",
       "      <td>неоконченное высшее</td>\n",
       "      <td>2</td>\n",
       "      <td>married</td>\n",
       "      <td>0</td>\n",
       "      <td>F</td>\n",
       "      <td>employee</td>\n",
       "      <td>0</td>\n",
       "      <td>130458.228857</td>\n",
       "      <td>приобретение автомобиля</td>\n",
       "    </tr>\n",
       "    <tr>\n",
       "      <th>14</th>\n",
       "      <td>0</td>\n",
       "      <td>-1844.956182</td>\n",
       "      <td>56</td>\n",
       "      <td>высшее</td>\n",
       "      <td>0</td>\n",
       "      <td>civil</td>\n",
       "      <td>1</td>\n",
       "      <td>F</td>\n",
       "      <td>partner</td>\n",
       "      <td>1</td>\n",
       "      <td>165127.911772</td>\n",
       "      <td>покупка жилой недвижимости</td>\n",
       "    </tr>\n",
       "    <tr>\n",
       "      <th>15</th>\n",
       "      <td>1</td>\n",
       "      <td>-972.364419</td>\n",
       "      <td>26</td>\n",
       "      <td>среднее</td>\n",
       "      <td>1</td>\n",
       "      <td>married</td>\n",
       "      <td>0</td>\n",
       "      <td>F</td>\n",
       "      <td>employee</td>\n",
       "      <td>0</td>\n",
       "      <td>116820.904450</td>\n",
       "      <td>строительство собственной недвижимости</td>\n",
       "    </tr>\n",
       "    <tr>\n",
       "      <th>16</th>\n",
       "      <td>0</td>\n",
       "      <td>-1719.934226</td>\n",
       "      <td>35</td>\n",
       "      <td>среднее</td>\n",
       "      <td>1</td>\n",
       "      <td>married</td>\n",
       "      <td>0</td>\n",
       "      <td>F</td>\n",
       "      <td>employee</td>\n",
       "      <td>0</td>\n",
       "      <td>289202.704229</td>\n",
       "      <td>недвижимость</td>\n",
       "    </tr>\n",
       "    <tr>\n",
       "      <th>17</th>\n",
       "      <td>0</td>\n",
       "      <td>-2369.999720</td>\n",
       "      <td>33</td>\n",
       "      <td>высшее</td>\n",
       "      <td>0</td>\n",
       "      <td>civil</td>\n",
       "      <td>1</td>\n",
       "      <td>M</td>\n",
       "      <td>employee</td>\n",
       "      <td>0</td>\n",
       "      <td>90410.586745</td>\n",
       "      <td>строительство недвижимости</td>\n",
       "    </tr>\n",
       "    <tr>\n",
       "      <th>18</th>\n",
       "      <td>0</td>\n",
       "      <td>400281.136913</td>\n",
       "      <td>53</td>\n",
       "      <td>среднее</td>\n",
       "      <td>1</td>\n",
       "      <td>widow</td>\n",
       "      <td>2</td>\n",
       "      <td>F</td>\n",
       "      <td>pensioner</td>\n",
       "      <td>0</td>\n",
       "      <td>56823.777243</td>\n",
       "      <td>на покупку подержанного автомобиля</td>\n",
       "    </tr>\n",
       "    <tr>\n",
       "      <th>19</th>\n",
       "      <td>0</td>\n",
       "      <td>-10038.818549</td>\n",
       "      <td>48</td>\n",
       "      <td>СРЕДНЕЕ</td>\n",
       "      <td>1</td>\n",
       "      <td>divorced</td>\n",
       "      <td>3</td>\n",
       "      <td>F</td>\n",
       "      <td>employee</td>\n",
       "      <td>0</td>\n",
       "      <td>242831.107982</td>\n",
       "      <td>на покупку своего автомобиля</td>\n",
       "    </tr>\n",
       "  </tbody>\n",
       "</table>\n",
       "</div>"
      ]
     },
     "execution_count": 4,
     "metadata": {},
     "output_type": "execute_result"
    }
   ],
   "execution_count": 4
  },
  {
   "cell_type": "markdown",
   "id": "c8f382ae",
   "metadata": {
    "deletable": false,
    "editable": false,
    "id": "c8f382ae",
    "tags": [
     "start_task"
    ]
   },
   "source": [
    "After that, I display the general information about the dataframe `data` on the screen"
   ]
  },
  {
   "cell_type": "code",
   "id": "e1ed9908",
   "metadata": {
    "id": "e1ed9908",
    "ExecuteTime": {
     "end_time": "2024-09-30T19:34:24.719297Z",
     "start_time": "2024-09-30T19:34:24.678427Z"
    }
   },
   "source": [
    "data.info()"
   ],
   "outputs": [
    {
     "name": "stdout",
     "output_type": "stream",
     "text": [
      "<class 'pandas.core.frame.DataFrame'>\n",
      "RangeIndex: 21525 entries, 0 to 21524\n",
      "Data columns (total 12 columns):\n",
      " #   Column            Non-Null Count  Dtype  \n",
      "---  ------            --------------  -----  \n",
      " 0   children          21525 non-null  int64  \n",
      " 1   days_employed     19351 non-null  float64\n",
      " 2   dob_years         21525 non-null  int64  \n",
      " 3   education         21525 non-null  object \n",
      " 4   education_id      21525 non-null  int64  \n",
      " 5   family_status     21525 non-null  object \n",
      " 6   family_status_id  21525 non-null  int64  \n",
      " 7   gender            21525 non-null  object \n",
      " 8   income_type       21525 non-null  object \n",
      " 9   debt              21525 non-null  int64  \n",
      " 10  total_income      19351 non-null  float64\n",
      " 11  purpose           21525 non-null  object \n",
      "dtypes: float64(2), int64(5), object(5)\n",
      "memory usage: 2.0+ MB\n"
     ]
    }
   ],
   "execution_count": 5
  },
  {
   "cell_type": "markdown",
   "id": "f969a1cd",
   "metadata": {
    "deletable": false,
    "editable": false,
    "id": "f969a1cd"
   },
   "source": [
    "## Data preprocessing"
   ]
  },
  {
   "cell_type": "markdown",
   "id": "7283e864",
   "metadata": {
    "deletable": false,
    "editable": false,
    "id": "7283e864"
   },
   "source": [
    "### Processing missing values"
   ]
  },
  {
   "cell_type": "markdown",
   "id": "c9a0745e",
   "metadata": {
    "deletable": false,
    "editable": false,
    "id": "c9a0745e",
    "tags": [
     "start_task"
    ]
   },
   "source": [
    "I will check the dataframe `data` for missing values using the `isna()` method and display the number of missing values for each column using the `sum()` method."
   ]
  },
  {
   "cell_type": "code",
   "id": "b7a096e1",
   "metadata": {
    "id": "b7a096e1",
    "ExecuteTime": {
     "end_time": "2024-09-30T19:34:25.030669Z",
     "start_time": "2024-09-30T19:34:25.006096Z"
    }
   },
   "source": [
    "data.isna().sum()"
   ],
   "outputs": [
    {
     "data": {
      "text/plain": [
       "children               0\n",
       "days_employed       2174\n",
       "dob_years              0\n",
       "education              0\n",
       "education_id           0\n",
       "family_status          0\n",
       "family_status_id       0\n",
       "gender                 0\n",
       "income_type            0\n",
       "debt                   0\n",
       "total_income        2174\n",
       "purpose                0\n",
       "dtype: int64"
      ]
     },
     "execution_count": 6,
     "metadata": {},
     "output_type": "execute_result"
    }
   ],
   "execution_count": 6
  },
  {
   "cell_type": "markdown",
   "id": "c2578616",
   "metadata": {
    "deletable": false,
    "editable": false,
    "id": "c2578616",
    "tags": [
     "start_task"
    ]
   },
   "source": [
    "There are missing values in two columns. One of them is `days_employed`. I'll handle the missing values in this column in the next step. The other column with missing values is `total_income`, which contains income data. The income amount is most influenced by the employment type, so the missing values in this column should be filled with the median value for each type from the `income_type` column."
   ]
  },
  {
   "cell_type": "code",
   "id": "e8afc4bc",
   "metadata": {
    "id": "e8afc4bc",
    "ExecuteTime": {
     "end_time": "2024-09-30T19:34:29.447552Z",
     "start_time": "2024-09-30T19:34:25.172523Z"
    }
   },
   "source": [
    "def fill_missing_income(row):\n",
    "    if pd.isnull(row['total_income']):\n",
    "        median_income = data.groupby('income_type')['total_income'].median()[row['income_type']]\n",
    "        return median_income\n",
    "    else:\n",
    "        return row['total_income']\n",
    "\n",
    "data['total_income'] = data.apply(fill_missing_income, axis=1)"
   ],
   "outputs": [],
   "execution_count": 7
  },
  {
   "cell_type": "markdown",
   "id": "ae986d46",
   "metadata": {
    "deletable": false,
    "editable": false,
    "id": "ae986d46"
   },
   "source": [
    "### Processing anomalies"
   ]
  },
  {
   "cell_type": "markdown",
   "id": "b049cbae",
   "metadata": {
    "deletable": false,
    "editable": false,
    "id": "b049cbae",
    "tags": [
     "start_task"
    ]
   },
   "source": [
    "The data may contain artifacts (anomalies) – values that do not reflect reality and appeared due to some error. One such artifact is a negative number of days of employment in the `days_employed` column. I will process the values in this column by replacing all negative values with positive ones using the `abs()` method."
   ]
  },
  {
   "cell_type": "code",
   "id": "187779b0",
   "metadata": {
    "id": "187779b0",
    "ExecuteTime": {
     "end_time": "2024-09-30T19:34:29.539248Z",
     "start_time": "2024-09-30T19:34:29.525674Z"
    }
   },
   "source": [
    "data['days_employed'] = data['days_employed'].abs()"
   ],
   "outputs": [],
   "execution_count": 8
  },
  {
   "cell_type": "markdown",
   "id": "a13054c2",
   "metadata": {
    "deletable": false,
    "editable": false,
    "id": "a13054c2",
    "tags": [
     "start_task"
    ]
   },
   "source": [
    "Here, for each employment type, display the median value of days_employed in days."
   ]
  },
  {
   "cell_type": "code",
   "id": "f3f5810c",
   "metadata": {
    "id": "f3f5810c",
    "ExecuteTime": {
     "end_time": "2024-09-30T19:34:29.648548Z",
     "start_time": "2024-09-30T19:34:29.562817Z"
    }
   },
   "source": [
    "median_days_employed = data.groupby('income_type')['days_employed'].median()\n",
    "print(median_days_employed)"
   ],
   "outputs": [
    {
     "name": "stdout",
     "output_type": "stream",
     "text": [
      "income_type\n",
      "civil_servant           2689.368353\n",
      "employee                1574.202821\n",
      "entrepreneur             520.848083\n",
      "on_maternity_leave      3296.759962\n",
      "partner                 1547.382223\n",
      "pensioner             365213.306266\n",
      "student                  578.751554\n",
      "unemployed            366413.652744\n",
      "Name: days_employed, dtype: float64\n"
     ]
    }
   ],
   "execution_count": 9
  },
  {
   "cell_type": "markdown",
   "id": "dbc3168c",
   "metadata": {
    "deletable": false,
    "editable": false,
    "id": "dbc3168c"
   },
   "source": [
    "We can see that for two types (unemployed and pensioners) the values will be abnormally large."
   ]
  },
  {
   "cell_type": "markdown",
   "id": "ff4378c2",
   "metadata": {
    "deletable": false,
    "editable": false,
    "id": "ff4378c2",
    "tags": [
     "start_task"
    ]
   },
   "source": [
    "Display the unique values of the `children` column."
   ]
  },
  {
   "cell_type": "code",
   "id": "9bd0c232",
   "metadata": {
    "id": "9bd0c232",
    "ExecuteTime": {
     "end_time": "2024-09-30T19:34:29.727654Z",
     "start_time": "2024-09-30T19:34:29.707619Z"
    }
   },
   "source": [
    "data['children'].unique()"
   ],
   "outputs": [
    {
     "data": {
      "text/plain": [
       "array([ 1,  0,  3,  2, -1,  4, 20,  5], dtype=int64)"
      ]
     },
     "execution_count": 10,
     "metadata": {},
     "output_type": "execute_result"
    }
   ],
   "execution_count": 10
  },
  {
   "cell_type": "markdown",
   "id": "8e911990",
   "metadata": {
    "deletable": false,
    "editable": false,
    "id": "8e911990",
    "tags": [
     "start_task"
    ]
   },
   "source": [
    "There are two anomalies in the `children` column: -1 and 20. I will delete them"
   ]
  },
  {
   "cell_type": "code",
   "id": "6d5ba289",
   "metadata": {
    "id": "6d5ba289",
    "ExecuteTime": {
     "end_time": "2024-09-30T19:34:29.775239Z",
     "start_time": "2024-09-30T19:34:29.760723Z"
    }
   },
   "source": [
    "data = data[(data['children'] != -1) & (data['children'] != 20)]"
   ],
   "outputs": [],
   "execution_count": 11
  },
  {
   "cell_type": "markdown",
   "id": "18d77455",
   "metadata": {
    "deletable": false,
    "editable": false,
    "id": "18d77455",
    "tags": [
     "start_task"
    ]
   },
   "source": [
    "To check the result, I will display the unique values of the `children` column again."
   ]
  },
  {
   "cell_type": "code",
   "id": "2c5fa92c",
   "metadata": {
    "id": "2c5fa92c",
    "ExecuteTime": {
     "end_time": "2024-09-30T19:34:29.821328Z",
     "start_time": "2024-09-30T19:34:29.804301Z"
    }
   },
   "source": [
    "data['children'].unique()"
   ],
   "outputs": [
    {
     "data": {
      "text/plain": [
       "array([1, 0, 3, 2, 4, 5], dtype=int64)"
      ]
     },
     "execution_count": 12,
     "metadata": {},
     "output_type": "execute_result"
    }
   ],
   "execution_count": 12
  },
  {
   "cell_type": "markdown",
   "id": "0ec07dee",
   "metadata": {
    "deletable": false,
    "editable": false,
    "id": "0ec07dee"
   },
   "source": [
    "### Processing duplicates"
   ]
  },
  {
   "cell_type": "markdown",
   "id": "0fc3ae3f",
   "metadata": {
    "deletable": false,
    "editable": false,
    "id": "0fc3ae3f",
    "tags": [
     "start_task"
    ]
   },
   "source": [
    "I will fill the missing values in the `days_employed` column with the median values for each employment type from the `income_type` column."
   ]
  },
  {
   "cell_type": "code",
   "id": "e2aea7ac",
   "metadata": {
    "id": "e2aea7ac",
    "ExecuteTime": {
     "end_time": "2024-09-30T19:34:33.919713Z",
     "start_time": "2024-09-30T19:34:29.840373Z"
    }
   },
   "source": [
    "def fill_missing_days(row):\n",
    "    if pd.isnull(row['days_employed']):\n",
    "        median_income = data.groupby('income_type')['days_employed'].median()[row['income_type']]\n",
    "        return median_income\n",
    "    else:\n",
    "        return row['days_employed']\n",
    "    \n",
    "data['days_employed'] = data.apply(fill_missing_days, axis=1)"
   ],
   "outputs": [],
   "execution_count": 13
  },
  {
   "cell_type": "markdown",
   "id": "97b0b795",
   "metadata": {
    "deletable": false,
    "editable": false,
    "id": "97b0b795",
    "tags": [
     "start_task"
    ]
   },
   "source": [
    "Make sure all missing values have been filled. I will verify this by displaying the number of missing values for each column using two methods."
   ]
  },
  {
   "cell_type": "code",
   "id": "79632a21",
   "metadata": {
    "id": "79632a21",
    "ExecuteTime": {
     "end_time": "2024-09-30T19:34:33.950261Z",
     "start_time": "2024-09-30T19:34:33.937739Z"
    }
   },
   "source": [
    "data.isna().sum()"
   ],
   "outputs": [
    {
     "data": {
      "text/plain": [
       "children            0\n",
       "days_employed       0\n",
       "dob_years           0\n",
       "education           0\n",
       "education_id        0\n",
       "family_status       0\n",
       "family_status_id    0\n",
       "gender              0\n",
       "income_type         0\n",
       "debt                0\n",
       "total_income        0\n",
       "purpose             0\n",
       "dtype: int64"
      ]
     },
     "execution_count": 14,
     "metadata": {},
     "output_type": "execute_result"
    }
   ],
   "execution_count": 14
  },
  {
   "cell_type": "markdown",
   "id": "bd4aeb20",
   "metadata": {
    "deletable": false,
    "editable": false,
    "id": "bd4aeb20"
   },
   "source": [
    "### Changing data type"
   ]
  },
  {
   "cell_type": "markdown",
   "id": "963bfa58",
   "metadata": {
    "deletable": false,
    "editable": false,
    "id": "963bfa58",
    "tags": [
     "start_task"
    ]
   },
   "source": [
    "Now, I will convert the `total_income` column from a float data type to an integer using the `astype()` method."
   ]
  },
  {
   "cell_type": "code",
   "id": "73da6ea0",
   "metadata": {
    "id": "73da6ea0",
    "ExecuteTime": {
     "end_time": "2024-09-30T19:34:34.027944Z",
     "start_time": "2024-09-30T19:34:34.014907Z"
    }
   },
   "source": [
    "data['total_income'] = data['total_income'].astype('int')"
   ],
   "outputs": [],
   "execution_count": 15
  },
  {
   "cell_type": "markdown",
   "id": "d290239e",
   "metadata": {
    "deletable": false,
    "editable": false,
    "id": "d290239e"
   },
   "source": [
    "### Processing duplicates"
   ]
  },
  {
   "cell_type": "markdown",
   "id": "1b5844fd",
   "metadata": {
    "deletable": false,
    "editable": false,
    "id": "1b5844fd",
    "tags": [
     "start_task"
    ]
   },
   "source": [
    "Here, I will handle the implicit duplicates in the `education` column. There are identical values recorded differently using uppercase and lowercase letters and I will convert all values to lowercase."
   ]
  },
  {
   "cell_type": "code",
   "id": "3f2504b3",
   "metadata": {
    "id": "3f2504b3",
    "ExecuteTime": {
     "end_time": "2024-09-30T19:34:34.136107Z",
     "start_time": "2024-09-30T19:34:34.120591Z"
    }
   },
   "source": [
    "data['education'] = data['education'].str.lower()"
   ],
   "outputs": [],
   "execution_count": 16
  },
  {
   "cell_type": "markdown",
   "id": "4c22acbc",
   "metadata": {
    "deletable": false,
    "editable": false,
    "id": "4c22acbc",
    "tags": [
     "start_task"
    ]
   },
   "source": [
    "Display the number of duplicate rows in the data. If such rows are present, remove them."
   ]
  },
  {
   "cell_type": "code",
   "id": "d34a4325",
   "metadata": {
    "id": "d34a4325",
    "ExecuteTime": {
     "end_time": "2024-09-30T19:34:34.231814Z",
     "start_time": "2024-09-30T19:34:34.189216Z"
    }
   },
   "source": [
    "print(data.duplicated().sum())"
   ],
   "outputs": [
    {
     "name": "stdout",
     "output_type": "stream",
     "text": [
      "71\n"
     ]
    }
   ],
   "execution_count": 17
  },
  {
   "cell_type": "code",
   "id": "6e1a6499",
   "metadata": {
    "id": "6e1a6499",
    "ExecuteTime": {
     "end_time": "2024-09-30T19:34:34.310460Z",
     "start_time": "2024-09-30T19:34:34.278388Z"
    }
   },
   "source": [
    "data = data.drop_duplicates(keep='first')"
   ],
   "outputs": [],
   "execution_count": 18
  },
  {
   "cell_type": "markdown",
   "id": "e5686ccc",
   "metadata": {
    "deletable": false,
    "editable": false,
    "id": "e5686ccc"
   },
   "source": [
    "### Data categorization"
   ]
  },
  {
   "cell_type": "markdown",
   "id": "636e9acd",
   "metadata": {
    "deletable": false,
    "editable": false,
    "id": "636e9acd",
    "tags": [
     "start_task"
    ]
   },
   "source": [
    "Based on the ranges specified below, I will create a column `total_income_category` in the data dataframe with the following categories:\n",
    "\n",
    "- 0–30000 — `'E'`;\n",
    "- 30001–50000 — `'D'`;\n",
    "- 50001–200000 — `'C'`;\n",
    "- 200001–1000000 — `'B'`;\n",
    "- 1000001 и выше — `'A'`."
   ]
  },
  {
   "cell_type": "code",
   "id": "880a77e5",
   "metadata": {
    "id": "880a77e5",
    "ExecuteTime": {
     "end_time": "2024-09-30T19:34:34.357779Z",
     "start_time": "2024-09-30T19:34:34.345746Z"
    }
   },
   "source": [
    "def categorize_income(row):\n",
    "    total_income = row['total_income']\n",
    "    if total_income <= 30000:\n",
    "        return 'E'\n",
    "    elif total_income <= 50000:\n",
    "        return 'D'\n",
    "    elif total_income <= 200000:\n",
    "        return 'C'\n",
    "    elif total_income <= 1000000:\n",
    "        return 'B'\n",
    "    else:\n",
    "        return 'A'"
   ],
   "outputs": [],
   "execution_count": 19
  },
  {
   "cell_type": "code",
   "id": "6f25f161",
   "metadata": {
    "id": "6f25f161",
    "ExecuteTime": {
     "end_time": "2024-09-30T19:34:34.623606Z",
     "start_time": "2024-09-30T19:34:34.391356Z"
    }
   },
   "source": [
    "data['total_income_category'] = data.apply(categorize_income, axis=1)"
   ],
   "outputs": [],
   "execution_count": 20
  },
  {
   "cell_type": "markdown",
   "id": "3363b685",
   "metadata": {
    "deletable": false,
    "editable": false,
    "id": "3363b685",
    "tags": [
     "start_task"
    ]
   },
   "source": [
    "Display the list of unique loan purposes from the purpose column.   "
   ]
  },
  {
   "cell_type": "code",
   "id": "e59f2c15",
   "metadata": {
    "id": "e59f2c15",
    "ExecuteTime": {
     "end_time": "2024-09-30T19:34:34.654862Z",
     "start_time": "2024-09-30T19:34:34.642652Z"
    }
   },
   "source": [
    "data['purpose'].unique()"
   ],
   "outputs": [
    {
     "data": {
      "text/plain": [
       "array(['покупка жилья', 'приобретение автомобиля',\n",
       "       'дополнительное образование', 'сыграть свадьбу',\n",
       "       'операции с жильем', 'образование', 'на проведение свадьбы',\n",
       "       'покупка жилья для семьи', 'покупка недвижимости',\n",
       "       'покупка коммерческой недвижимости', 'покупка жилой недвижимости',\n",
       "       'строительство собственной недвижимости', 'недвижимость',\n",
       "       'строительство недвижимости', 'на покупку подержанного автомобиля',\n",
       "       'на покупку своего автомобиля',\n",
       "       'операции с коммерческой недвижимостью',\n",
       "       'строительство жилой недвижимости', 'жилье',\n",
       "       'операции со своей недвижимостью', 'автомобили',\n",
       "       'заняться образованием', 'сделка с подержанным автомобилем',\n",
       "       'получение образования', 'автомобиль', 'свадьба',\n",
       "       'получение дополнительного образования', 'покупка своего жилья',\n",
       "       'операции с недвижимостью', 'получение высшего образования',\n",
       "       'свой автомобиль', 'сделка с автомобилем',\n",
       "       'профильное образование', 'высшее образование',\n",
       "       'покупка жилья для сдачи', 'на покупку автомобиля', 'ремонт жилью',\n",
       "       'заняться высшим образованием'], dtype=object)"
      ]
     },
     "execution_count": 21,
     "metadata": {},
     "output_type": "execute_result"
    }
   ],
   "execution_count": 21
  },
  {
   "cell_type": "markdown",
   "id": "bb33e847",
   "metadata": {
    "deletable": false,
    "editable": false,
    "id": "bb33e847",
    "tags": [
     "start_task"
    ]
   },
   "source": [
    "\n",
    "Now, I will create a function that, based on the data from the purpose column, will form a new column purpose_category with the following categories:\n",
    "\n",
    "- `'operations with a car'`,\n",
    "- `'real estate operations'`,\n",
    "- `'wedding planning'`,\n",
    "- `'getting an education'`."
   ]
  },
  {
   "cell_type": "code",
   "id": "63909b83",
   "metadata": {
    "id": "63909b83",
    "ExecuteTime": {
     "end_time": "2024-09-30T19:34:34.702312Z",
     "start_time": "2024-09-30T19:34:34.689798Z"
    }
   },
   "source": [
    "def categorize_purpose(row):\n",
    "    purpose = row['purpose']\n",
    "    if 'автомобил' in purpose:\n",
    "        return 'operations with a car'\n",
    "    elif 'недвижимост' in purpose or 'жиль' in purpose:\n",
    "        return 'real estate operations'\n",
    "    elif 'свадьб' in purpose:\n",
    "        return 'wedding planning'\n",
    "    else:\n",
    "        return 'getting an education'"
   ],
   "outputs": [],
   "execution_count": 22
  },
  {
   "cell_type": "code",
   "id": "7cb4a81d",
   "metadata": {
    "id": "7cb4a81d",
    "ExecuteTime": {
     "end_time": "2024-09-30T19:34:34.920266Z",
     "start_time": "2024-09-30T19:34:34.750427Z"
    }
   },
   "source": [
    "data['purpose_category'] = data.apply(categorize_purpose, axis=1)"
   ],
   "outputs": [],
   "execution_count": 23
  },
  {
   "cell_type": "markdown",
   "id": "9df92372dae394dc",
   "metadata": {},
   "source": [
    "#### Is there a relationship between the number of children and timely loan repayment?"
   ]
  },
  {
   "cell_type": "code",
   "id": "16ad7b937d4aa42c",
   "metadata": {
    "ExecuteTime": {
     "end_time": "2024-09-30T19:34:34.967397Z",
     "start_time": "2024-09-30T19:34:34.925267Z"
    }
   },
   "source": [
    "import pandas as pd\n",
    "\n",
    "def calculate_debt_percentage(data, index_column='children', value_column='debt'):\n",
    "    pivot_table = pd.pivot_table(data,\n",
    "                                 index=[index_column],\n",
    "                                 values=[value_column],\n",
    "                                 aggfunc=['sum', 'count', 'mean']).reset_index()\n",
    "\n",
    "    pivot_table[('mean', value_column)] = pivot_table[('mean', value_column)] * 100\n",
    "\n",
    "    pivot_table.columns = ['children', 'sum_debt', 'count_debt', 'debt_non_payment_percentage']\n",
    "\n",
    "    return pivot_table\n",
    "\n",
    "result = calculate_debt_percentage(data)\n",
    "print(result)"
   ],
   "outputs": [
    {
     "name": "stdout",
     "output_type": "stream",
     "text": [
      "   children  sum_debt  count_debt  debt_non_payment_percentage\n",
      "0         0      1063       14091                     7.543822\n",
      "1         1       444        4808                     9.234609\n",
      "2         2       194        2052                     9.454191\n",
      "3         3        27         330                     8.181818\n",
      "4         4         4          41                     9.756098\n",
      "5         5         0           9                     0.000000\n"
     ]
    }
   ],
   "execution_count": 24
  },
  {
   "cell_type": "markdown",
   "id": "7e073ef5bcbae938",
   "metadata": {},
   "source": [
    "Based on the table, it is evident that people without children are the most creditworthy, with the share of debtors among them being 7.5%. People with 1 or 2 children are less likely to repay the loan, with their non-repayment rate being 9.2% and 9.4%, respectively. The remaining groups cannot be analyzed correctly as their sample size is too small."
   ]
  },
  {
   "cell_type": "markdown",
   "id": "21e392a167750598",
   "metadata": {},
   "source": [
    "#### Is there a relationship between marital status and timely loan repayment?"
   ]
  },
  {
   "cell_type": "code",
   "id": "a1aadf0d4b00554c",
   "metadata": {
    "ExecuteTime": {
     "end_time": "2024-09-30T19:35:14.151765Z",
     "start_time": "2024-09-30T19:35:14.122221Z"
    }
   },
   "source": [
    "result = calculate_debt_percentage(data, 'family_status')\n",
    "print(result)"
   ],
   "outputs": [
    {
     "name": "stdout",
     "output_type": "stream",
     "text": [
      "   children  sum_debt  count_debt  debt_non_payment_percentage\n",
      "0     civil       385        4134                     9.313014\n",
      "1  divorced        84        1189                     7.064760\n",
      "2   married       927       12261                     7.560558\n",
      "3    single       273        2796                     9.763948\n",
      "4     widow        63         951                     6.624606\n"
     ]
    }
   ],
   "execution_count": 28
  },
  {
   "cell_type": "markdown",
   "id": "bf96e4463379fb2f",
   "metadata": {},
   "source": [
    "Analyzing the table, we can conclude that widowed individuals are the most reliable in repaying loans, with a debtor rate of 6.6%. They are followed by divorced individuals, with a rate of 7%. Married people and those in a civil partnership have lower creditworthiness, with rates of 7.5% and 9.3%, respectively. The least reliable in repaying loans are single individuals, with a debtor rate of 9.7%."
   ]
  },
  {
   "cell_type": "markdown",
   "id": "90476203322a2251",
   "metadata": {},
   "source": [
    "#### Is there a relationship between income level and timely loan repayment?"
   ]
  },
  {
   "cell_type": "code",
   "id": "2caa2514e11e5439",
   "metadata": {
    "ExecuteTime": {
     "end_time": "2024-09-30T19:35:40.927919Z",
     "start_time": "2024-09-30T19:35:40.904176Z"
    }
   },
   "source": [
    "result = calculate_debt_percentage(data, 'total_income_category')\n",
    "print(result)"
   ],
   "outputs": [
    {
     "name": "stdout",
     "output_type": "stream",
     "text": [
      "  children  sum_debt  count_debt  debt_non_payment_percentage\n",
      "0        A         2          25                     8.000000\n",
      "1        B       354        5014                     7.060231\n",
      "2        C      1353       15921                     8.498210\n",
      "3        D        21         349                     6.017192\n",
      "4        E         2          22                     9.090909\n"
     ]
    }
   ],
   "execution_count": 29
  },
  {
   "cell_type": "markdown",
   "id": "f610f906d54e6429",
   "metadata": {},
   "source": [
    "Among all income categories, only two can be analyzed – B and C, as the sample size for the others is quite small. Among people with income type B, 7% did not repay their loans; their income ranges from 200,001 to 1,000,000. Among those with income type C (50,001–200,000), 8.5% did not repay their loans. These proportions make sense, as a higher income level means a greater likelihood of loan repayment, while those in the low and high-income categories either do not receive/take loans or do not need them."
   ]
  },
  {
   "cell_type": "markdown",
   "id": "2330fd785b00750",
   "metadata": {},
   "source": [
    "#### How do different loan purposes affect timely repayment?"
   ]
  },
  {
   "cell_type": "code",
   "id": "2c807590bc17df2f",
   "metadata": {
    "ExecuteTime": {
     "end_time": "2024-09-30T19:35:57.376491Z",
     "start_time": "2024-09-30T19:35:57.338002Z"
    }
   },
   "source": [
    "result = calculate_debt_percentage(data, 'purpose_category')\n",
    "print(result)"
   ],
   "outputs": [
    {
     "name": "stdout",
     "output_type": "stream",
     "text": [
      "                 children  sum_debt  count_debt  debt_non_payment_percentage\n",
      "0    getting an education       369        3988                     9.252758\n",
      "1   operations with a car       400        4279                     9.347978\n",
      "2  real estate operations       780       10751                     7.255139\n",
      "3        wedding planning       183        2313                     7.911803\n"
     ]
    }
   ],
   "execution_count": 31
  },
  {
   "cell_type": "markdown",
   "id": "9aec6a8f9297bcee",
   "metadata": {},
   "source": [
    "In this table, we can see that people who take out loans for real estate or for a wedding are more likely to repay them, with debtor rates of 7.2% and 7.9%, respectively. Loans for education and car-related operations are less likely to be repaid, with debtor rates of 9.25% and 9.34%, respectively."
   ]
  },
  {
   "cell_type": "markdown",
   "id": "cc9bd227b838fbe4",
   "metadata": {},
   "source": [
    "#### Possible reasons for missing values in the original data.\n"
   ]
  },
  {
   "cell_type": "markdown",
   "id": "fcd5853c77a333c7",
   "metadata": {},
   "source": [
    "Most likely, this is due to human factors. It's also possible that the `total_income` and `days_employed` columns were incorrectly recorded by the system, as they might have been optional in the form, or the person was unemployed. It can be noted that the number of missing cells in both columns is 2,174, which likely indicates that errors were made at some stage of data collection by the system."
   ]
  },
  {
   "cell_type": "markdown",
   "id": "bdae9f4d2af17149",
   "metadata": {},
   "source": [
    "#### Why filling in missing values with the median is the best solution for quantitative variables?"
   ]
  },
  {
   "cell_type": "markdown",
   "id": "ec0bf04ba54c71af",
   "metadata": {},
   "source": [
    "This approach is more representative because the mean can be significantly 'skewed' by individuals who earn excessively high amounts or have an unusually large number of workdays."
   ]
  },
  {
   "cell_type": "markdown",
   "id": "4aac6c3a04b99ee9",
   "metadata": {},
   "source": [
    "### Conclusion"
   ]
  },
  {
   "cell_type": "markdown",
   "id": "c1f74d47ffc4fc94",
   "metadata": {},
   "source": [
    "After data preprocessing (removing missing values, handling anomalous values, dealing with duplicates, and categorizing data), certain conclusions can be drawn from the study."
   ]
  },
  {
   "cell_type": "markdown",
   "id": "bb5f515c5e3e869e",
   "metadata": {},
   "source": [
    "Firstly, **people without children are the best at repaying loans**, with the share of debtors in their category being 7.5%. They are followed by people with 1 or 2 children, with shares of 9.2% and 9.4%, respectively. The sample size of people with fewer children was too small to draw any conclusions."
   ]
  },
  {
   "cell_type": "markdown",
   "id": "f2c0a560b23b86bc",
   "metadata": {},
   "source": [
    "Secondly, marital status can also affect loan repayment. **Widowed individuals are most likely to repay loans**, with their debtor rate being 6.6%. They are followed by divorced individuals with a rate of 7%. Married people and those in a civil partnership have lower creditworthiness, with rates of 7.5% and 9.3%, respectively."
   ]
  },
  {
   "cell_type": "markdown",
   "id": "5f4148bb4ca5592a",
   "metadata": {},
   "source": [
    "Thirdly, income can have a direct impact on whether a loan will be repaid or not. Based on the analysis, it can be concluded that people with extremely high or low incomes are less likely to take out a loan (as indicated by the low sample size). People with an income from 50,001 to 200,000 have a debtor rate of 8.5%, while those with an income from 200,000 to 1,000,000 have a rate of 7%. These rates are logical – **the higher the income, the greater the client's creditworthiness.**"
   ]
  },
  {
   "cell_type": "markdown",
   "id": "f125defc732540e",
   "metadata": {},
   "source": [
    "Finally, the purpose of the loan can also be a contributing factor in \"predicting\" loan repayment. Loans for real estate and weddings have debtor rates of 7.2% and 7.9%, respectively. Loans for education and car-related operations have higher debtor rates, with shares of 9.25% and 9.34%, respectively."
   ]
  },
  {
   "cell_type": "markdown",
   "id": "23ae541a296c015c",
   "metadata": {},
   "source": [
    "Thus, people without children or with 1-2 children, as well as those with an income ranging from 200,001 to 1,000,000, have a better credit history, and widowed or divorced individuals are more likely to repay loans on time. Loans for real estate or weddings are most likely to be repaid, while loans for education or a car are associated with a higher probability of delinquency."
   ]
  },
  {
   "cell_type": "markdown",
   "id": "83debeaeff86239c",
   "metadata": {},
   "source": [
    "### **Ideal Client Profile:**\n",
    "- **Children:** No children or has 1-2 children.\n",
    "- **Income:** Has an above average income\n",
    "- **Marital Status:** Widowed or divorced.\n",
    "- **Loan Purpose:** Takes loans for real estate or wedding purposes.\n",
    "\n",
    "This profile suggests a higher likelihood of repaying loans on time, making them a desirable and reliable client for lenders.\n",
    "\n",
    "### **Undesirable Client Profile:**\n",
    "- **Children:** Likely has more than 2 children.\n",
    "- **Income:** Has a below average income.\n",
    "- **Marital Status:** Single, in a civil partnership, or married\n",
    "- **Loan Purpose:** Takes loans for education or car-related operations.\n",
    "\n",
    "This profile indicates a higher risk of not repaying loans on time, making them less desirable for lenders.\n"
   ]
  }
 ],
 "metadata": {
  "ExecuteTimeLog": [
   {
    "duration": 49,
    "start_time": "2024-09-16T03:50:50.582Z"
   },
   {
    "duration": 461,
    "start_time": "2024-09-16T03:50:59.437Z"
   },
   {
    "duration": 84,
    "start_time": "2024-09-16T03:51:00.521Z"
   },
   {
    "duration": 24,
    "start_time": "2024-09-16T03:51:02.368Z"
   },
   {
    "duration": 25,
    "start_time": "2024-09-16T04:40:06.236Z"
   },
   {
    "duration": 49,
    "start_time": "2024-09-16T22:05:24.898Z"
   },
   {
    "duration": 7,
    "start_time": "2024-09-16T22:05:34.143Z"
   },
   {
    "duration": 419,
    "start_time": "2024-09-16T22:05:48.731Z"
   },
   {
    "duration": 139,
    "start_time": "2024-09-16T22:05:49.152Z"
   },
   {
    "duration": 23,
    "start_time": "2024-09-16T22:05:49.293Z"
   },
   {
    "duration": 16,
    "start_time": "2024-09-16T22:05:49.317Z"
   },
   {
    "duration": 10,
    "start_time": "2024-09-16T22:05:49.335Z"
   },
   {
    "duration": 2,
    "start_time": "2024-09-16T22:05:49.347Z"
   },
   {
    "duration": 4,
    "start_time": "2024-09-16T22:05:49.350Z"
   },
   {
    "duration": 3,
    "start_time": "2024-09-16T22:05:49.355Z"
   },
   {
    "duration": 4,
    "start_time": "2024-09-16T22:05:49.360Z"
   },
   {
    "duration": 4,
    "start_time": "2024-09-16T22:05:49.365Z"
   },
   {
    "duration": 5,
    "start_time": "2024-09-16T22:05:49.370Z"
   },
   {
    "duration": 4,
    "start_time": "2024-09-16T22:05:49.376Z"
   },
   {
    "duration": 4,
    "start_time": "2024-09-16T22:05:49.382Z"
   },
   {
    "duration": 3,
    "start_time": "2024-09-16T22:05:49.420Z"
   },
   {
    "duration": 4,
    "start_time": "2024-09-16T22:05:49.424Z"
   },
   {
    "duration": 5,
    "start_time": "2024-09-16T22:05:49.429Z"
   },
   {
    "duration": 5,
    "start_time": "2024-09-16T22:05:49.436Z"
   },
   {
    "duration": 5,
    "start_time": "2024-09-16T22:05:49.442Z"
   },
   {
    "duration": 3,
    "start_time": "2024-09-16T22:05:49.448Z"
   },
   {
    "duration": 10,
    "start_time": "2024-09-16T22:05:49.453Z"
   },
   {
    "duration": 3,
    "start_time": "2024-09-16T22:05:49.465Z"
   },
   {
    "duration": 4,
    "start_time": "2024-09-16T22:05:49.470Z"
   },
   {
    "duration": 75,
    "start_time": "2024-09-16T22:07:56.859Z"
   },
   {
    "duration": 6,
    "start_time": "2024-09-16T22:12:02.360Z"
   },
   {
    "duration": 448,
    "start_time": "2024-09-16T22:39:57.586Z"
   },
   {
    "duration": 81,
    "start_time": "2024-09-16T22:39:58.036Z"
   },
   {
    "duration": 24,
    "start_time": "2024-09-16T22:39:58.119Z"
   },
   {
    "duration": 17,
    "start_time": "2024-09-16T22:39:58.145Z"
   },
   {
    "duration": 11,
    "start_time": "2024-09-16T22:39:58.165Z"
   },
   {
    "duration": 56594,
    "start_time": "2024-09-16T22:39:58.177Z"
   },
   {
    "duration": 3,
    "start_time": "2024-09-16T22:40:54.772Z"
   },
   {
    "duration": 12,
    "start_time": "2024-09-16T22:40:54.776Z"
   },
   {
    "duration": 8,
    "start_time": "2024-09-16T22:40:54.789Z"
   },
   {
    "duration": 5,
    "start_time": "2024-09-16T22:40:54.798Z"
   },
   {
    "duration": 6,
    "start_time": "2024-09-16T22:40:54.805Z"
   },
   {
    "duration": 4,
    "start_time": "2024-09-16T22:40:54.813Z"
   },
   {
    "duration": 14,
    "start_time": "2024-09-16T22:40:54.820Z"
   },
   {
    "duration": 3,
    "start_time": "2024-09-16T22:40:54.836Z"
   },
   {
    "duration": 47,
    "start_time": "2024-09-16T22:40:54.841Z"
   },
   {
    "duration": 27,
    "start_time": "2024-09-16T22:40:54.890Z"
   },
   {
    "duration": 3,
    "start_time": "2024-09-16T22:40:54.919Z"
   },
   {
    "duration": 6,
    "start_time": "2024-09-16T22:40:54.923Z"
   },
   {
    "duration": 14,
    "start_time": "2024-09-16T22:40:54.930Z"
   },
   {
    "duration": 19,
    "start_time": "2024-09-16T22:40:54.945Z"
   },
   {
    "duration": 6,
    "start_time": "2024-09-16T22:40:54.966Z"
   },
   {
    "duration": 9,
    "start_time": "2024-09-16T22:40:54.974Z"
   },
   {
    "duration": 65,
    "start_time": "2024-09-16T22:40:54.984Z"
   },
   {
    "duration": 406,
    "start_time": "2024-09-16T22:42:52.536Z"
   },
   {
    "duration": 80,
    "start_time": "2024-09-16T22:42:52.944Z"
   },
   {
    "duration": 22,
    "start_time": "2024-09-16T22:42:53.025Z"
   },
   {
    "duration": 15,
    "start_time": "2024-09-16T22:42:53.049Z"
   },
   {
    "duration": 11,
    "start_time": "2024-09-16T22:42:53.066Z"
   },
   {
    "duration": 420,
    "start_time": "2024-09-16T22:43:15.213Z"
   },
   {
    "duration": 81,
    "start_time": "2024-09-16T22:43:17.399Z"
   },
   {
    "duration": 75,
    "start_time": "2024-09-16T22:43:20.749Z"
   },
   {
    "duration": 412,
    "start_time": "2024-09-16T22:43:23.920Z"
   },
   {
    "duration": 80,
    "start_time": "2024-09-16T22:43:24.334Z"
   },
   {
    "duration": 23,
    "start_time": "2024-09-16T22:43:24.415Z"
   },
   {
    "duration": 18,
    "start_time": "2024-09-16T22:43:24.440Z"
   },
   {
    "duration": 16,
    "start_time": "2024-09-16T22:43:24.460Z"
   },
   {
    "duration": 63407,
    "start_time": "2024-09-16T22:45:18.737Z"
   },
   {
    "duration": 6,
    "start_time": "2024-09-17T01:19:07.749Z"
   },
   {
    "duration": 3,
    "start_time": "2024-09-17T01:19:21.766Z"
   },
   {
    "duration": 7,
    "start_time": "2024-09-17T01:23:28.549Z"
   },
   {
    "duration": 8,
    "start_time": "2024-09-17T01:23:32.777Z"
   },
   {
    "duration": 5,
    "start_time": "2024-09-17T01:25:06.685Z"
   },
   {
    "duration": 9,
    "start_time": "2024-09-17T03:10:31.952Z"
   },
   {
    "duration": 52,
    "start_time": "2024-09-17T03:11:06.592Z"
   },
   {
    "duration": 6,
    "start_time": "2024-09-17T03:11:14.915Z"
   },
   {
    "duration": 411,
    "start_time": "2024-09-17T03:11:19.859Z"
   },
   {
    "duration": 145,
    "start_time": "2024-09-17T03:11:20.272Z"
   },
   {
    "duration": 26,
    "start_time": "2024-09-17T03:11:20.419Z"
   },
   {
    "duration": 17,
    "start_time": "2024-09-17T03:11:20.446Z"
   },
   {
    "duration": 15,
    "start_time": "2024-09-17T03:11:20.466Z"
   },
   {
    "duration": 5240,
    "start_time": "2024-09-17T03:11:20.482Z"
   },
   {
    "duration": 3,
    "start_time": "2024-09-17T03:11:25.724Z"
   },
   {
    "duration": 22,
    "start_time": "2024-09-17T03:11:25.728Z"
   },
   {
    "duration": 5,
    "start_time": "2024-09-17T03:11:25.751Z"
   },
   {
    "duration": 16,
    "start_time": "2024-09-17T03:11:25.757Z"
   },
   {
    "duration": 4,
    "start_time": "2024-09-17T03:11:25.775Z"
   },
   {
    "duration": 2,
    "start_time": "2024-09-17T03:11:30.905Z"
   },
   {
    "duration": 30,
    "start_time": "2024-09-17T03:11:30.910Z"
   },
   {
    "duration": 46,
    "start_time": "2024-09-17T03:11:30.941Z"
   },
   {
    "duration": 48,
    "start_time": "2024-09-17T03:11:30.989Z"
   },
   {
    "duration": 3,
    "start_time": "2024-09-17T03:11:31.038Z"
   },
   {
    "duration": 3,
    "start_time": "2024-09-17T03:11:31.043Z"
   },
   {
    "duration": 3,
    "start_time": "2024-09-17T03:11:31.047Z"
   },
   {
    "duration": 4,
    "start_time": "2024-09-17T03:11:31.051Z"
   },
   {
    "duration": 12,
    "start_time": "2024-09-17T03:11:31.056Z"
   },
   {
    "duration": 20,
    "start_time": "2024-09-17T03:11:31.070Z"
   },
   {
    "duration": 231,
    "start_time": "2024-09-17T03:11:31.091Z"
   },
   {
    "duration": 197,
    "start_time": "2024-09-17T03:11:31.945Z"
   },
   {
    "duration": 48,
    "start_time": "2024-09-18T00:53:34.011Z"
   },
   {
    "duration": 405,
    "start_time": "2024-09-18T00:53:40.556Z"
   },
   {
    "duration": 138,
    "start_time": "2024-09-18T00:53:40.963Z"
   },
   {
    "duration": 23,
    "start_time": "2024-09-18T00:53:41.103Z"
   },
   {
    "duration": 16,
    "start_time": "2024-09-18T00:53:41.129Z"
   },
   {
    "duration": 14,
    "start_time": "2024-09-18T00:53:41.147Z"
   },
   {
    "duration": 5165,
    "start_time": "2024-09-18T00:53:41.162Z"
   },
   {
    "duration": 3,
    "start_time": "2024-09-18T00:53:46.329Z"
   },
   {
    "duration": 34,
    "start_time": "2024-09-18T00:53:46.334Z"
   },
   {
    "duration": 11,
    "start_time": "2024-09-18T00:53:46.370Z"
   },
   {
    "duration": 6,
    "start_time": "2024-09-18T00:53:46.385Z"
   },
   {
    "duration": 6,
    "start_time": "2024-09-18T00:53:46.393Z"
   },
   {
    "duration": 5303,
    "start_time": "2024-09-18T00:53:46.400Z"
   },
   {
    "duration": 10,
    "start_time": "2024-09-18T00:53:51.705Z"
   },
   {
    "duration": 8,
    "start_time": "2024-09-18T00:53:51.717Z"
   },
   {
    "duration": 3,
    "start_time": "2024-09-18T00:53:51.769Z"
   },
   {
    "duration": 3,
    "start_time": "2024-09-18T00:53:51.773Z"
   },
   {
    "duration": 3,
    "start_time": "2024-09-18T00:53:51.778Z"
   },
   {
    "duration": 2,
    "start_time": "2024-09-18T00:53:51.783Z"
   },
   {
    "duration": 4,
    "start_time": "2024-09-18T00:53:51.787Z"
   },
   {
    "duration": 10,
    "start_time": "2024-09-18T00:53:51.793Z"
   },
   {
    "duration": 33,
    "start_time": "2024-09-18T00:53:51.827Z"
   },
   {
    "duration": 30,
    "start_time": "2024-09-18T00:53:51.862Z"
   },
   {
    "duration": 425,
    "start_time": "2024-09-26T19:21:56.437Z"
   },
   {
    "duration": 104,
    "start_time": "2024-09-26T19:21:56.864Z"
   },
   {
    "duration": 0,
    "start_time": "2024-09-26T19:21:56.970Z"
   },
   {
    "duration": 0,
    "start_time": "2024-09-26T19:21:56.971Z"
   },
   {
    "duration": 0,
    "start_time": "2024-09-26T19:21:56.972Z"
   },
   {
    "duration": 0,
    "start_time": "2024-09-26T19:21:56.973Z"
   },
   {
    "duration": 1,
    "start_time": "2024-09-26T19:21:56.974Z"
   },
   {
    "duration": 0,
    "start_time": "2024-09-26T19:21:56.975Z"
   },
   {
    "duration": 0,
    "start_time": "2024-09-26T19:21:56.976Z"
   },
   {
    "duration": 0,
    "start_time": "2024-09-26T19:21:56.977Z"
   },
   {
    "duration": 0,
    "start_time": "2024-09-26T19:21:56.978Z"
   },
   {
    "duration": 0,
    "start_time": "2024-09-26T19:21:56.979Z"
   },
   {
    "duration": 0,
    "start_time": "2024-09-26T19:21:56.980Z"
   },
   {
    "duration": 0,
    "start_time": "2024-09-26T19:21:56.981Z"
   },
   {
    "duration": 0,
    "start_time": "2024-09-26T19:21:56.982Z"
   },
   {
    "duration": 0,
    "start_time": "2024-09-26T19:21:56.983Z"
   },
   {
    "duration": 0,
    "start_time": "2024-09-26T19:21:56.984Z"
   },
   {
    "duration": 0,
    "start_time": "2024-09-26T19:21:56.985Z"
   },
   {
    "duration": 0,
    "start_time": "2024-09-26T19:21:56.986Z"
   },
   {
    "duration": 0,
    "start_time": "2024-09-26T19:21:56.987Z"
   },
   {
    "duration": 0,
    "start_time": "2024-09-26T19:21:56.989Z"
   },
   {
    "duration": 0,
    "start_time": "2024-09-26T19:21:57.021Z"
   },
   {
    "duration": 0,
    "start_time": "2024-09-26T19:21:57.023Z"
   },
   {
    "duration": 0,
    "start_time": "2024-09-26T19:21:57.024Z"
   },
   {
    "duration": 0,
    "start_time": "2024-09-26T19:21:57.026Z"
   },
   {
    "duration": 0,
    "start_time": "2024-09-26T19:21:57.027Z"
   },
   {
    "duration": 105,
    "start_time": "2024-09-26T19:22:12.630Z"
   }
  ],
  "colab": {
   "provenance": []
  },
  "kernelspec": {
   "display_name": "Python 3 (ipykernel)",
   "language": "python",
   "name": "python3"
  },
  "language_info": {
   "codemirror_mode": {
    "name": "ipython",
    "version": 3
   },
   "file_extension": ".py",
   "mimetype": "text/x-python",
   "name": "python",
   "nbconvert_exporter": "python",
   "pygments_lexer": "ipython3",
   "version": "3.7.8"
  },
  "toc": {
   "base_numbering": 1,
   "nav_menu": {},
   "number_sections": true,
   "sideBar": true,
   "skip_h1_title": true,
   "title_cell": "Table of Contents",
   "title_sidebar": "Contents",
   "toc_cell": false,
   "toc_position": {},
   "toc_section_display": true,
   "toc_window_display": false
  }
 },
 "nbformat": 4,
 "nbformat_minor": 5
}
