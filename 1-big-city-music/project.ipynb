{
 "cells": [
  {
   "metadata": {},
   "cell_type": "markdown",
   "source": [
    "Research: Music of Big Cities\n",
    "\n",
    "The Yandex.Music service provides data on music listening by users in Moscow and Saint Petersburg.\n",
    "\n",
    "Task: Compare the genres and features of music listening among the residents of the two cities."
   ]
  },
  {
   "metadata": {},
   "cell_type": "markdown",
   "source": [
    "# Table of Contents\n",
    "\n",
    "* [Stage 1. Data Acquisition](#stage-1-data-acquisition)\n",
    "    * [Importing Libraries](#importing-libraries)\n",
    "* [Stage 2. Data Preprocessing](#stage-2-data-preprocessing)\n",
    "* [Stage 3. Data Analysis](#stage-3-data-analysis)\n",
    "    * [Do people in different cities really listen to music differently?](#do-people-in-different-cities-really-listen-to-music-differently)\n",
    "    * [Monday morning and Friday evening — different music or the same?](#monday-morning-and-friday-evening--different-music-or-the-same)\n",
    "    * [Moscow and Saint Petersburg — two different capitals, two different music directions. True?](#moscow-and-saint-petersburg--two-different-capitals-two-different-music-directions-true)\n",
    "* [Stage 4. Research Results](#stage-4-research-results)"
   ]
  },
  {
   "metadata": {},
   "cell_type": "markdown",
   "source": "# Stage 1. Data Acquisition"
  },
  {
   "metadata": {},
   "cell_type": "markdown",
   "source": "We will examine the data provided by the service for the project."
  },
  {
   "metadata": {},
   "cell_type": "markdown",
   "source": "## Importing Libraries"
  },
  {
   "cell_type": "code",
   "execution_count": 1,
   "metadata": {
    "colab": {},
    "colab_type": "code",
    "deletable": false,
    "id": "HirRov5vZ3MT"
   },
   "outputs": [],
   "source": [
    "import pandas as pd"
   ]
  },
  {
   "metadata": {},
   "cell_type": "raw",
   "source": "We will read the file *music_project.csv* and save it in the variable *df*."
  },
  {
   "cell_type": "code",
   "execution_count": 2,
   "metadata": {
    "colab": {},
    "colab_type": "code",
    "deletable": false,
    "id": "NB6j931yS4hy"
   },
   "outputs": [],
   "source": [
    "df = pd.read_csv('/datasets/music_project.csv')"
   ]
  },
  {
   "metadata": {},
   "cell_type": "raw",
   "source": "Retrieving the first 10 rows of the table."
  },
  {
   "cell_type": "code",
   "execution_count": 3,
   "metadata": {
    "colab": {},
    "colab_type": "code",
    "deletable": false,
    "id": "DY5i8tgXVDGj"
   },
   "outputs": [
    {
     "data": {
      "text/html": [
       "<div>\n",
       "<style scoped>\n",
       "    .dataframe tbody tr th:only-of-type {\n",
       "        vertical-align: middle;\n",
       "    }\n",
       "\n",
       "    .dataframe tbody tr th {\n",
       "        vertical-align: top;\n",
       "    }\n",
       "\n",
       "    .dataframe thead th {\n",
       "        text-align: right;\n",
       "    }\n",
       "</style>\n",
       "<table border=\"1\" class=\"dataframe\">\n",
       "  <thead>\n",
       "    <tr style=\"text-align: right;\">\n",
       "      <th></th>\n",
       "      <th>userID</th>\n",
       "      <th>Track</th>\n",
       "      <th>artist</th>\n",
       "      <th>genre</th>\n",
       "      <th>City</th>\n",
       "      <th>time</th>\n",
       "      <th>Day</th>\n",
       "    </tr>\n",
       "  </thead>\n",
       "  <tbody>\n",
       "    <tr>\n",
       "      <td>0</td>\n",
       "      <td>FFB692EC</td>\n",
       "      <td>Kamigata To Boots</td>\n",
       "      <td>The Mass Missile</td>\n",
       "      <td>rock</td>\n",
       "      <td>Saint-Petersburg</td>\n",
       "      <td>20:28:33</td>\n",
       "      <td>Wednesday</td>\n",
       "    </tr>\n",
       "    <tr>\n",
       "      <td>1</td>\n",
       "      <td>55204538</td>\n",
       "      <td>Delayed Because of Accident</td>\n",
       "      <td>Andreas Rönnberg</td>\n",
       "      <td>rock</td>\n",
       "      <td>Moscow</td>\n",
       "      <td>14:07:09</td>\n",
       "      <td>Friday</td>\n",
       "    </tr>\n",
       "    <tr>\n",
       "      <td>2</td>\n",
       "      <td>20EC38</td>\n",
       "      <td>Funiculì funiculà</td>\n",
       "      <td>Mario Lanza</td>\n",
       "      <td>pop</td>\n",
       "      <td>Saint-Petersburg</td>\n",
       "      <td>20:58:07</td>\n",
       "      <td>Wednesday</td>\n",
       "    </tr>\n",
       "    <tr>\n",
       "      <td>3</td>\n",
       "      <td>A3DD03C9</td>\n",
       "      <td>Dragons in the Sunset</td>\n",
       "      <td>Fire + Ice</td>\n",
       "      <td>folk</td>\n",
       "      <td>Saint-Petersburg</td>\n",
       "      <td>08:37:09</td>\n",
       "      <td>Monday</td>\n",
       "    </tr>\n",
       "    <tr>\n",
       "      <td>4</td>\n",
       "      <td>E2DC1FAE</td>\n",
       "      <td>Soul People</td>\n",
       "      <td>Space Echo</td>\n",
       "      <td>dance</td>\n",
       "      <td>Moscow</td>\n",
       "      <td>08:34:34</td>\n",
       "      <td>Monday</td>\n",
       "    </tr>\n",
       "    <tr>\n",
       "      <td>5</td>\n",
       "      <td>842029A1</td>\n",
       "      <td>Преданная</td>\n",
       "      <td>IMPERVTOR</td>\n",
       "      <td>rusrap</td>\n",
       "      <td>Saint-Petersburg</td>\n",
       "      <td>13:09:41</td>\n",
       "      <td>Friday</td>\n",
       "    </tr>\n",
       "    <tr>\n",
       "      <td>6</td>\n",
       "      <td>4CB90AA5</td>\n",
       "      <td>True</td>\n",
       "      <td>Roman Messer</td>\n",
       "      <td>dance</td>\n",
       "      <td>Moscow</td>\n",
       "      <td>13:00:07</td>\n",
       "      <td>Wednesday</td>\n",
       "    </tr>\n",
       "    <tr>\n",
       "      <td>7</td>\n",
       "      <td>F03E1C1F</td>\n",
       "      <td>Feeling This Way</td>\n",
       "      <td>Polina Griffith</td>\n",
       "      <td>dance</td>\n",
       "      <td>Moscow</td>\n",
       "      <td>20:47:49</td>\n",
       "      <td>Wednesday</td>\n",
       "    </tr>\n",
       "    <tr>\n",
       "      <td>8</td>\n",
       "      <td>8FA1D3BE</td>\n",
       "      <td>И вновь продолжается бой</td>\n",
       "      <td>NaN</td>\n",
       "      <td>ruspop</td>\n",
       "      <td>Moscow</td>\n",
       "      <td>09:17:40</td>\n",
       "      <td>Friday</td>\n",
       "    </tr>\n",
       "    <tr>\n",
       "      <td>9</td>\n",
       "      <td>E772D5C0</td>\n",
       "      <td>Pessimist</td>\n",
       "      <td>NaN</td>\n",
       "      <td>dance</td>\n",
       "      <td>Saint-Petersburg</td>\n",
       "      <td>21:20:49</td>\n",
       "      <td>Wednesday</td>\n",
       "    </tr>\n",
       "  </tbody>\n",
       "</table>\n",
       "</div>"
      ],
      "text/plain": [
       "     userID                        Track            artist   genre  \\\n",
       "0  FFB692EC            Kamigata To Boots  The Mass Missile    rock   \n",
       "1  55204538  Delayed Because of Accident  Andreas Rönnberg    rock   \n",
       "2    20EC38            Funiculì funiculà       Mario Lanza     pop   \n",
       "3  A3DD03C9        Dragons in the Sunset        Fire + Ice    folk   \n",
       "4  E2DC1FAE                  Soul People        Space Echo   dance   \n",
       "5  842029A1                    Преданная         IMPERVTOR  rusrap   \n",
       "6  4CB90AA5                         True      Roman Messer   dance   \n",
       "7  F03E1C1F             Feeling This Way   Polina Griffith   dance   \n",
       "8  8FA1D3BE     И вновь продолжается бой               NaN  ruspop   \n",
       "9  E772D5C0                    Pessimist               NaN   dance   \n",
       "\n",
       "             City        time        Day  \n",
       "0  Saint-Petersburg  20:28:33  Wednesday  \n",
       "1            Moscow  14:07:09     Friday  \n",
       "2  Saint-Petersburg  20:58:07  Wednesday  \n",
       "3  Saint-Petersburg  08:37:09     Monday  \n",
       "4            Moscow  08:34:34     Monday  \n",
       "5  Saint-Petersburg  13:09:41     Friday  \n",
       "6            Moscow  13:00:07  Wednesday  \n",
       "7            Moscow  20:47:49  Wednesday  \n",
       "8            Moscow  09:17:40     Friday  \n",
       "9  Saint-Petersburg  21:20:49  Wednesday  "
      ]
     },
     "execution_count": 3,
     "metadata": {},
     "output_type": "execute_result"
    }
   ],
   "source": [
    "df.head(10)"
   ]
  },
  {
   "metadata": {},
   "cell_type": "markdown",
   "source": "General information about the data in the *df* table."
  },
  {
   "cell_type": "code",
   "execution_count": 4,
   "metadata": {
    "colab": {},
    "colab_type": "code",
    "deletable": false,
    "id": "K7t8OdZsYN2y"
   },
   "outputs": [
    {
     "name": "stdout",
     "output_type": "stream",
     "text": [
      "<class 'pandas.core.frame.DataFrame'>\n",
      "RangeIndex: 65079 entries, 0 to 65078\n",
      "Data columns (total 7 columns):\n",
      "  userID    65079 non-null object\n",
      "Track       63848 non-null object\n",
      "artist      57876 non-null object\n",
      "genre       63881 non-null object\n",
      "  City      65079 non-null object\n",
      "time        65079 non-null object\n",
      "Day         65079 non-null object\n",
      "dtypes: object(7)\n",
      "memory usage: 3.5+ MB\n"
     ]
    }
   ],
   "source": [
    "df.info()"
   ]
  },
  {
   "metadata": {},
   "cell_type": "markdown",
   "source": [
    "Let's examine the obtained information in more detail.\n",
    "\n",
    "There are a total of 7 columns in the table, and each column has a data type of `object`.\n",
    "\n",
    "Let's delve into the columns in *df* and the information they contain:\n",
    "\n",
    "* `userID` — user identifier;\n",
    "* `Track` — track title;\n",
    "* `artist` — artist name;\n",
    "* `genre` — genre name;\n",
    "* `City` — the city where the listening took place;\n",
    "* `time` — the time when the user listened to the track;\n",
    "* `Day` — day of the week.\n",
    "\n",
    "The number of entries in the columns varies. This indicates that there are missing values in the data."
   ]
  },
  {
   "metadata": {},
   "cell_type": "markdown",
   "source": "**Conclusion**"
  },
  {
   "metadata": {},
   "cell_type": "markdown",
   "source": "Each row of the table contains information about compositions of a certain genre in a specific performance that users listened to in one of the cities at a specific time and day of the week. There are two problems that need to be addressed: missing values and poor column names. For testing the working hypotheses, the columns *time*, *Day*, and *City* are particularly valuable. Data from the *genre* column will help identify the most popular genres."
  },
  {
   "metadata": {},
   "cell_type": "markdown",
   "source": "# Stage 2. Data Preprocessing"
  },
  {
   "metadata": {},
   "cell_type": "markdown",
   "source": "We will eliminate missing values, rename columns, and also check the data for duplicates."
  },
  {
   "metadata": {},
   "cell_type": "markdown",
   "source": "We obtain the list of column names. What problem is observed—besides those already mentioned earlier?"
  },
  {
   "cell_type": "code",
   "execution_count": 5,
   "metadata": {
    "colab": {},
    "colab_type": "code",
    "deletable": false,
    "id": "Tag65F_Uitsx"
   },
   "outputs": [
    {
     "data": {
      "text/plain": [
       "Index(['  userID', 'Track', 'artist', 'genre', '  City  ', 'time', 'Day'], dtype='object')"
      ]
     },
     "execution_count": 5,
     "metadata": {},
     "output_type": "execute_result"
    }
   ],
   "source": [
    "df.columns"
   ]
  },
  {
   "metadata": {},
   "cell_type": "markdown",
   "source": "The column names contain spaces, which may make it difficult to access the data."
  },
  {
   "metadata": {},
   "cell_type": "markdown",
   "source": "Let's rename the columns for easier use in future work. Check the result."
  },
  {
   "cell_type": "code",
   "execution_count": 6,
   "metadata": {
    "colab": {},
    "colab_type": "code",
    "deletable": false,
    "id": "XintVfCniw2-"
   },
   "outputs": [],
   "source": [
    "df.set_axis(['user_id', 'track_name', 'artist_name', 'genre_name', 'city', 'time', 'weekday'], axis='columns', inplace=True)"
   ]
  },
  {
   "cell_type": "code",
   "execution_count": 7,
   "metadata": {
    "colab": {},
    "colab_type": "code",
    "deletable": false,
    "id": "ozQL91G4izdp"
   },
   "outputs": [
    {
     "data": {
      "text/plain": [
       "Index(['user_id', 'track_name', 'artist_name', 'genre_name', 'city', 'time',\n",
       "       'weekday'],\n",
       "      dtype='object')"
      ]
     },
     "execution_count": 7,
     "metadata": {},
     "output_type": "execute_result"
    }
   ],
   "source": [
    "df.columns"
   ]
  },
  {
   "metadata": {},
   "cell_type": "markdown",
   "source": "Let's check the data for missing values by calling a set of methods to sum the missing values."
  },
  {
   "cell_type": "code",
   "execution_count": 8,
   "metadata": {
    "colab": {},
    "colab_type": "code",
    "deletable": false,
    "id": "BZh9yLHhjy_R"
   },
   "outputs": [
    {
     "data": {
      "text/plain": [
       "user_id           0\n",
       "track_name     1231\n",
       "artist_name    7203\n",
       "genre_name     1198\n",
       "city              0\n",
       "time              0\n",
       "weekday           0\n",
       "dtype: int64"
      ]
     },
     "execution_count": 8,
     "metadata": {},
     "output_type": "execute_result"
    }
   ],
   "source": [
    "df.isnull().sum()"
   ]
  },
  {
   "metadata": {},
   "cell_type": "markdown",
   "source": "Missing values indicate that for some tracks, not all information is available. The reasons could vary: for instance, a specific performer of a folk song might not be named. Worse, there could be issues with data recording. Each case needs to be examined individually to identify the cause."
  },
  {
   "metadata": {},
   "cell_type": "markdown",
   "source": "Replace the missing values in the columns with track name and artist with the string 'unknown'. After this operation, ensure the table no longer contains missing values"
  },
  {
   "cell_type": "code",
   "execution_count": 9,
   "metadata": {
    "colab": {},
    "colab_type": "code",
    "deletable": false,
    "id": "EO8zFcJPlbvV"
   },
   "outputs": [],
   "source": [
    "df['track_name'] = df['track_name'].fillna('unknown')"
   ]
  },
  {
   "cell_type": "code",
   "execution_count": 10,
   "metadata": {
    "colab": {},
    "colab_type": "code",
    "deletable": false,
    "id": "3hsNZcLST0UW"
   },
   "outputs": [],
   "source": [
    "df['artist_name'] = df['artist_name'].fillna('unknown')"
   ]
  },
  {
   "cell_type": "code",
   "execution_count": 11,
   "metadata": {
    "colab": {},
    "colab_type": "code",
    "deletable": false,
    "id": "Ua-Z8TAblgzC"
   },
   "outputs": [
    {
     "data": {
      "text/plain": [
       "user_id           0\n",
       "track_name        0\n",
       "artist_name       0\n",
       "genre_name     1198\n",
       "city              0\n",
       "time              0\n",
       "weekday           0\n",
       "dtype: int64"
      ]
     },
     "execution_count": 11,
     "metadata": {},
     "output_type": "execute_result"
    }
   ],
   "source": [
    "df.isnull().sum()"
   ]
  },
  {
   "metadata": {},
   "cell_type": "markdown",
   "source": "Remove empty values in the genre column; ensure there are no more left."
  },
  {
   "cell_type": "code",
   "execution_count": 12,
   "metadata": {
    "colab": {},
    "colab_type": "code",
    "deletable": false,
    "id": "TIpk7lwtnZkZ"
   },
   "outputs": [],
   "source": [
    "df.dropna(subset=['genre_name'], inplace=True)"
   ]
  },
  {
   "cell_type": "code",
   "execution_count": 13,
   "metadata": {
    "colab": {},
    "colab_type": "code",
    "deletable": false,
    "id": "-1CT-CCZnzTA"
   },
   "outputs": [
    {
     "data": {
      "text/plain": [
       "user_id        0\n",
       "track_name     0\n",
       "artist_name    0\n",
       "genre_name     0\n",
       "city           0\n",
       "time           0\n",
       "weekday        0\n",
       "dtype: int64"
      ]
     },
     "execution_count": 13,
     "metadata": {},
     "output_type": "execute_result"
    }
   ],
   "source": [
    "df.isnull().sum()"
   ]
  },
  {
   "metadata": {},
   "cell_type": "markdown",
   "source": "It is necessary to check for duplicates. If any are found, remove them, and verify that all have been removed."
  },
  {
   "cell_type": "code",
   "execution_count": 14,
   "metadata": {
    "colab": {},
    "colab_type": "code",
    "deletable": false,
    "id": "VRVI_B0RqIgT"
   },
   "outputs": [
    {
     "data": {
      "text/plain": [
       "3755"
      ]
     },
     "execution_count": 14,
     "metadata": {},
     "output_type": "execute_result"
    }
   ],
   "source": [
    "df.duplicated().sum()"
   ]
  },
  {
   "cell_type": "code",
   "execution_count": 15,
   "metadata": {
    "colab": {},
    "colab_type": "code",
    "deletable": false,
    "id": "nSYF38OeqZn-"
   },
   "outputs": [],
   "source": [
    "df = df.drop_duplicates().reset_index(drop=True)"
   ]
  },
  {
   "cell_type": "code",
   "execution_count": 16,
   "metadata": {
    "colab": {},
    "colab_type": "code",
    "deletable": false,
    "id": "O-RfjmkCqIgV"
   },
   "outputs": [
    {
     "data": {
      "text/plain": [
       "0"
      ]
     },
     "execution_count": 16,
     "metadata": {},
     "output_type": "execute_result"
    }
   ],
   "source": [
    "df.duplicated().sum()"
   ]
  },
  {
   "metadata": {},
   "cell_type": "markdown",
   "source": "Duplicates may have appeared due to a data recording error. It is worth paying attention and understanding the reasons for the occurrence of such 'information noise'."
  },
  {
   "metadata": {},
   "cell_type": "markdown",
   "source": [
    "Save the list of unique values from the genre column in the variable genres_list.\n",
    "\n",
    "Declare a function find_genre() to search for implicit duplicates in the genre column. For example, when the name of the same genre is written in different ways."
   ]
  },
  {
   "cell_type": "code",
   "execution_count": 17,
   "metadata": {
    "colab": {},
    "colab_type": "code",
    "deletable": false,
    "id": "FfaTfKAN-PCx"
   },
   "outputs": [],
   "source": [
    "genres_list = df['genre_name'].unique()"
   ]
  },
  {
   "cell_type": "code",
   "execution_count": 18,
   "metadata": {
    "colab": {},
    "colab_type": "code",
    "deletable": false,
    "id": "TA_k-VLi-S0R"
   },
   "outputs": [],
   "source": [
    "def find_genre(genre_name):\n",
    "    counter = 0\n",
    "    \n",
    "    for genre in genres_list:\n",
    "        if genre == genre_name:\n",
    "            counter += 1\n",
    "    \n",
    "    return counter"
   ]
  },
  {
   "metadata": {},
   "cell_type": "markdown",
   "source": [
    "Call the *find_genre()* function to search for different variants of the genre name 'hip-hop' in the table.\n",
    "\n",
    "The correct name is *hiphop*. Let's search for other variants:\n",
    "\n",
    "* hip\n",
    "* hop\n",
    "* hip-hop\n"
   ]
  },
  {
   "cell_type": "code",
   "execution_count": 19,
   "metadata": {
    "colab": {},
    "colab_type": "code",
    "deletable": false,
    "id": "YrwqExZS-dyQ"
   },
   "outputs": [
    {
     "data": {
      "text/plain": [
       "1"
      ]
     },
     "execution_count": 19,
     "metadata": {},
     "output_type": "execute_result"
    }
   ],
   "source": [
    "find_genre('hip')"
   ]
  },
  {
   "cell_type": "code",
   "execution_count": 20,
   "metadata": {
    "colab": {},
    "colab_type": "code",
    "deletable": false,
    "id": "ZoL4EEcR-dyU"
   },
   "outputs": [
    {
     "data": {
      "text/plain": [
       "0"
      ]
     },
     "execution_count": 20,
     "metadata": {},
     "output_type": "execute_result"
    }
   ],
   "source": [
    "find_genre('hop')"
   ]
  },
  {
   "cell_type": "code",
   "execution_count": 21,
   "metadata": {
    "colab": {},
    "colab_type": "code",
    "deletable": false,
    "id": "MFowmiug-qZD"
   },
   "outputs": [
    {
     "data": {
      "text/plain": [
       "0"
      ]
     },
     "execution_count": 21,
     "metadata": {},
     "output_type": "execute_result"
    }
   ],
   "source": [
    "find_genre('hip-hop')"
   ]
  },
  {
   "metadata": {},
   "cell_type": "markdown",
   "source": [
    "Declare a function find_hip_hop(), which replaces the incorrect names of this genre in the 'genre_name' column with 'hiphop' and verifies the success of the replacement.\n",
    "\n",
    "This will correct all the spelling variants identified during the check."
   ]
  },
  {
   "cell_type": "code",
   "execution_count": 22,
   "metadata": {
    "colab": {},
    "colab_type": "code",
    "deletable": false,
    "id": "31xlzL_c_FgB"
   },
   "outputs": [],
   "source": [
    "def find_hip_hop(df, wrong):\n",
    "    df['genre_name'] = df['genre_name'].replace(wrong, 'hiphop')\n",
    "    return df['genre_name'][df['genre_name'] == wrong].count()"
   ]
  },
  {
   "cell_type": "code",
   "execution_count": 23,
   "metadata": {
    "colab": {},
    "colab_type": "code",
    "deletable": false,
    "id": "ZFXMV2qW_FgE"
   },
   "outputs": [
    {
     "data": {
      "text/plain": [
       "0"
      ]
     },
     "execution_count": 23,
     "metadata": {},
     "output_type": "execute_result"
    }
   ],
   "source": [
    "find_hip_hop(df, 'hip')"
   ]
  },
  {
   "metadata": {},
   "cell_type": "markdown",
   "source": "Get general information about the data. Ensure that the cleaning was successful."
  },
  {
   "cell_type": "code",
   "execution_count": 24,
   "metadata": {
    "colab": {},
    "colab_type": "code",
    "deletable": false,
    "id": "-yyvdzHA_uJm"
   },
   "outputs": [
    {
     "name": "stdout",
     "output_type": "stream",
     "text": [
      "<class 'pandas.core.frame.DataFrame'>\n",
      "RangeIndex: 60126 entries, 0 to 60125\n",
      "Data columns (total 7 columns):\n",
      "user_id        60126 non-null object\n",
      "track_name     60126 non-null object\n",
      "artist_name    60126 non-null object\n",
      "genre_name     60126 non-null object\n",
      "city           60126 non-null object\n",
      "time           60126 non-null object\n",
      "weekday        60126 non-null object\n",
      "dtypes: object(7)\n",
      "memory usage: 3.2+ MB\n"
     ]
    }
   ],
   "source": [
    "df.info()"
   ]
  },
  {
   "metadata": {},
   "cell_type": "markdown",
   "source": "**Conclusion**"
  },
  {
   "metadata": {},
   "cell_type": "markdown",
   "source": "During the preprocessing stage, the data revealed not only missing values and issues with column names, but also various types of duplicates. Removing them will allow for more accurate analysis. Since it is important to preserve genre information for analysis, we didn't just remove all missing values, but also filled in missing artist names and track titles. The column names are now correct and convenient for further work."
  },
  {
   "metadata": {},
   "cell_type": "markdown",
   "source": "# Stage 3. Data Analysis"
  },
  {
   "metadata": {},
   "cell_type": "markdown",
   "source": "## Do people in different cities really listen to music differently?"
  },
  {
   "metadata": {},
   "cell_type": "markdown",
   "source": [
    "A hypothesis was proposed that users in Moscow and St. Petersburg listen to music differently. We will test this assumption using data from three days of the week—Monday, Wednesday, and Friday.\n",
    "\n",
    "For each city, determine the number of tracks listened to on these days with a known genre, and compare the results."
   ]
  },
  {
   "metadata": {},
   "cell_type": "markdown",
   "source": "Group the data by city and use the count() method to count the tracks for which the genre is known."
  },
  {
   "cell_type": "code",
   "execution_count": 25,
   "metadata": {
    "colab": {},
    "colab_type": "code",
    "deletable": false,
    "id": "AtH_pP1i_0m1"
   },
   "outputs": [
    {
     "data": {
      "text/plain": [
       "city\n",
       "Moscow              41892\n",
       "Saint-Petersburg    18234\n",
       "Name: genre_name, dtype: int64"
      ]
     },
     "execution_count": 25,
     "metadata": {},
     "output_type": "execute_result"
    }
   ],
   "source": "df.groupby('city')['genre_name'].count()"
  },
  {
   "metadata": {},
   "cell_type": "markdown",
   "source": "In Moscow, there are more listens than in St. Petersburg, but that doesn't necessarily mean Moscow is more active. Yandex.Music generally has more users in Moscow, so the figures are comparable."
  },
  {
   "metadata": {},
   "cell_type": "markdown",
   "source": "Group the data by the day of the week and count the tracks listened to on Monday, Wednesday, and Friday, for which the genre is known."
  },
  {
   "cell_type": "code",
   "execution_count": 26,
   "metadata": {
    "colab": {},
    "colab_type": "code",
    "deletable": false,
    "id": "A8E_Tb2b_3un"
   },
   "outputs": [
    {
     "data": {
      "text/plain": [
       "weekday\n",
       "Friday       21482\n",
       "Monday       20866\n",
       "Wednesday    17778\n",
       "Name: genre_name, dtype: int64"
      ]
     },
     "execution_count": 26,
     "metadata": {},
     "output_type": "execute_result"
    }
   ],
   "source": "df.groupby('weekday')['genre_name'].count()"
  },
  {
   "metadata": {},
   "cell_type": "markdown",
   "source": "Monday and Friday are prime times for music, while on Wednesdays, users are slightly more engaged with work."
  },
  {
   "metadata": {},
   "cell_type": "markdown",
   "source": "Create a function number_tracks() that takes a table, day of the week, and city name as parameters, and returns the number of tracks listened to, for which the genre is known. Check the number of tracks listened to for each city on Monday, then on Wednesday and Friday."
  },
  {
   "cell_type": "code",
   "execution_count": 27,
   "metadata": {
    "colab": {},
    "colab_type": "code",
    "deletable": false,
    "id": "4SqpGSi5_7hA"
   },
   "outputs": [],
   "source": [
    "def number_tracks(df, day, city):\n",
    "    track_list = df[(df['weekday'] == day) & (df['city'] == city)]\n",
    "    track_list_count = track_list['genre_name'].count()\n",
    "    return track_list_count\n",
    "    "
   ]
  },
  {
   "cell_type": "code",
   "execution_count": 28,
   "metadata": {
    "deletable": false
   },
   "outputs": [
    {
     "data": {
      "text/plain": [
       "15347"
      ]
     },
     "execution_count": 28,
     "metadata": {},
     "output_type": "execute_result"
    }
   ],
   "source": "number_tracks(df, 'Monday', 'Moscow')"
  },
  {
   "cell_type": "code",
   "execution_count": 29,
   "metadata": {
    "deletable": false
   },
   "outputs": [
    {
     "data": {
      "text/plain": [
       "5519"
      ]
     },
     "execution_count": 29,
     "metadata": {},
     "output_type": "execute_result"
    }
   ],
   "source": "number_tracks(df, 'Monday', 'Saint-Petersburg')"
  },
  {
   "cell_type": "code",
   "execution_count": 30,
   "metadata": {
    "deletable": false
   },
   "outputs": [
    {
     "data": {
      "text/plain": [
       "10865"
      ]
     },
     "execution_count": 30,
     "metadata": {},
     "output_type": "execute_result"
    }
   ],
   "source": "number_tracks(df, 'Wednesday', 'Moscow')"
  },
  {
   "cell_type": "code",
   "execution_count": 31,
   "metadata": {
    "deletable": false
   },
   "outputs": [
    {
     "data": {
      "text/plain": [
       "6913"
      ]
     },
     "execution_count": 31,
     "metadata": {},
     "output_type": "execute_result"
    }
   ],
   "source": "number_tracks(df, 'Wednesday', 'Saint-Petersburg')"
  },
  {
   "cell_type": "code",
   "execution_count": 32,
   "metadata": {
    "deletable": false
   },
   "outputs": [
    {
     "data": {
      "text/plain": [
       "15680"
      ]
     },
     "execution_count": 32,
     "metadata": {},
     "output_type": "execute_result"
    }
   ],
   "source": "number_tracks(df, 'Friday', 'Moscow')"
  },
  {
   "cell_type": "code",
   "execution_count": 33,
   "metadata": {
    "deletable": false
   },
   "outputs": [
    {
     "data": {
      "text/plain": [
       "5802"
      ]
     },
     "execution_count": 33,
     "metadata": {},
     "output_type": "execute_result"
    }
   ],
   "source": "number_tracks(df, 'Friday', 'Saint-Petersburg')"
  },
  {
   "metadata": {},
   "cell_type": "markdown",
   "source": "Combine the obtained information into a single table where the column names are ['city', 'monday', 'wednesday', 'friday'].\n"
  },
  {
   "cell_type": "code",
   "execution_count": 34,
   "metadata": {
    "deletable": false
   },
   "outputs": [],
   "source": [
    "table = pd.DataFrame(data=[\n",
    "    ['Moscow', number_tracks(df, 'Monday', 'Moscow'), number_tracks(df, 'Wednesday', 'Moscow'), number_tracks(df, 'Friday', 'Moscow')],\n",
    "    ['Saint-Petersburg', number_tracks(df, 'Monday', 'Saint-Petersburg'), number_tracks(df, 'Wednesday', 'Saint-Petersburg'), number_tracks(df, 'Friday', 'Saint-Petersburg')]\n",
    "], columns=['city', 'monday', 'wednesday', 'friday'])"
   ]
  },
  {
   "cell_type": "code",
   "execution_count": 35,
   "metadata": {},
   "outputs": [
    {
     "data": {
      "text/html": [
       "<div>\n",
       "<style scoped>\n",
       "    .dataframe tbody tr th:only-of-type {\n",
       "        vertical-align: middle;\n",
       "    }\n",
       "\n",
       "    .dataframe tbody tr th {\n",
       "        vertical-align: top;\n",
       "    }\n",
       "\n",
       "    .dataframe thead th {\n",
       "        text-align: right;\n",
       "    }\n",
       "</style>\n",
       "<table border=\"1\" class=\"dataframe\">\n",
       "  <thead>\n",
       "    <tr style=\"text-align: right;\">\n",
       "      <th></th>\n",
       "      <th>city</th>\n",
       "      <th>monday</th>\n",
       "      <th>wednesday</th>\n",
       "      <th>friday</th>\n",
       "    </tr>\n",
       "  </thead>\n",
       "  <tbody>\n",
       "    <tr>\n",
       "      <td>0</td>\n",
       "      <td>Moscow</td>\n",
       "      <td>15347</td>\n",
       "      <td>10865</td>\n",
       "      <td>15680</td>\n",
       "    </tr>\n",
       "    <tr>\n",
       "      <td>1</td>\n",
       "      <td>Saint-Petersburg</td>\n",
       "      <td>5519</td>\n",
       "      <td>6913</td>\n",
       "      <td>5802</td>\n",
       "    </tr>\n",
       "  </tbody>\n",
       "</table>\n",
       "</div>"
      ],
      "text/plain": [
       "               city  monday  wednesday  friday\n",
       "0            Moscow   15347      10865   15680\n",
       "1  Saint-Petersburg    5519       6913    5802"
      ]
     },
     "execution_count": 35,
     "metadata": {},
     "output_type": "execute_result"
    }
   ],
   "source": [
    "table"
   ]
  },
  {
   "metadata": {},
   "cell_type": "markdown",
   "source": "**Conclusion**"
  },
  {
   "metadata": {},
   "cell_type": "markdown",
   "source": "The results show that, relative to Wednesday, music listening in St. Petersburg and Moscow follows an \"inverse\" pattern: in Moscow, peaks occur on Monday and Friday, while listening time decreases on Wednesday. In contrast, Wednesday is the day of highest interest in music in St. Petersburg, while Monday and Friday show less interest, with almost equal declines in both days."
  },
  {
   "metadata": {},
   "cell_type": "markdown",
   "source": "## Is the music on Monday morning and Friday evening different, or is it the same?"
  },
  {
   "metadata": {},
   "cell_type": "markdown",
   "source": "We are looking for the answer to the question of which genres dominate in different cities on Monday morning and Friday evening. There is a hypothesis that on Monday morning, users listen to more energizing music (e.g., pop), while on Friday evening, they tend to listen to more dance music (e.g., electronic)."
  },
  {
   "metadata": {},
   "cell_type": "markdown",
   "source": "Retrieve the data tables for Moscow as moscow_general and for St. Petersburg as spb_general."
  },
  {
   "cell_type": "code",
   "execution_count": 36,
   "metadata": {
    "colab": {},
    "colab_type": "code",
    "deletable": false,
    "id": "Pyz1i56nA5IS"
   },
   "outputs": [],
   "source": "moscow_general = df[df['city'] == 'Moscow']"
  },
  {
   "cell_type": "code",
   "execution_count": 37,
   "metadata": {
    "colab": {},
    "colab_type": "code",
    "deletable": false,
    "id": "w3NNN-2hA-al"
   },
   "outputs": [],
   "source": "spb_general = df[df['city'] == 'Saint-Petersburg']"
  },
  {
   "metadata": {},
   "cell_type": "markdown",
   "source": [
    "\n",
    "Create a function genre_weekday() that returns a list of genres for the requested day of the week and time of day, from a specific hour to another."
   ]
  },
  {
   "cell_type": "code",
   "execution_count": 38,
   "metadata": {
    "colab": {},
    "colab_type": "code",
    "deletable": false,
    "id": "JhUdQynHBEYw"
   },
   "outputs": [],
   "source": [
    "def genre_weekday(df, day, time1, time2):\n",
    "    genre_list = df[(df['weekday'] == day) & (df['time'] > time1) & (df['time'] < time2)]\n",
    "    genre_list_sorted = genre_list.groupby('genre_name')['genre_name'].count().sort_values(ascending=False).head(10)\n",
    "    return genre_list_sorted"
   ]
  },
  {
   "metadata": {},
   "cell_type": "markdown",
   "source": "Compare the results obtained from the table for Moscow and St. Petersburg on Monday morning (from 7 to 11) and Friday evening (from 17 to 23)."
  },
  {
   "cell_type": "code",
   "execution_count": 39,
   "metadata": {
    "colab": {},
    "colab_type": "code",
    "deletable": false,
    "id": "kbgeq-55BLEI"
   },
   "outputs": [
    {
     "data": {
      "text/plain": [
       "genre_name\n",
       "pop            781\n",
       "dance          549\n",
       "electronic     480\n",
       "rock           474\n",
       "hiphop         286\n",
       "ruspop         186\n",
       "world          181\n",
       "rusrap         175\n",
       "alternative    164\n",
       "classical      157\n",
       "Name: genre_name, dtype: int64"
      ]
     },
     "execution_count": 39,
     "metadata": {},
     "output_type": "execute_result"
    }
   ],
   "source": "genre_weekday(moscow_general, 'Monday', '07:00:00', '11:00:00')"
  },
  {
   "cell_type": "code",
   "execution_count": 40,
   "metadata": {
    "colab": {},
    "colab_type": "code",
    "deletable": false,
    "id": "XHwa8N2EBRXO"
   },
   "outputs": [
    {
     "data": {
      "text/plain": [
       "genre_name\n",
       "pop            218\n",
       "dance          182\n",
       "rock           162\n",
       "electronic     147\n",
       "hiphop          80\n",
       "ruspop          64\n",
       "alternative     58\n",
       "rusrap          55\n",
       "jazz            44\n",
       "classical       40\n",
       "Name: genre_name, dtype: int64"
      ]
     },
     "execution_count": 40,
     "metadata": {},
     "output_type": "execute_result"
    }
   ],
   "source": "genre_weekday(spb_general, 'Monday', '07:00:00', '11:00:00')"
  },
  {
   "cell_type": "code",
   "execution_count": 41,
   "metadata": {
    "colab": {},
    "colab_type": "code",
    "deletable": false,
    "id": "YvdSbg2jBUeq"
   },
   "outputs": [
    {
     "data": {
      "text/plain": [
       "genre_name\n",
       "pop            713\n",
       "rock           517\n",
       "dance          495\n",
       "electronic     482\n",
       "hiphop         273\n",
       "world          208\n",
       "ruspop         170\n",
       "alternative    163\n",
       "classical      163\n",
       "rusrap         142\n",
       "Name: genre_name, dtype: int64"
      ]
     },
     "execution_count": 41,
     "metadata": {},
     "output_type": "execute_result"
    }
   ],
   "source": "genre_weekday(moscow_general, 'Friday', '17:00:00', '23:00:00')"
  },
  {
   "cell_type": "code",
   "execution_count": 42,
   "metadata": {
    "colab": {},
    "colab_type": "code",
    "deletable": false,
    "id": "Ew3ig4fPBUeu"
   },
   "outputs": [
    {
     "data": {
      "text/plain": [
       "genre_name\n",
       "pop            256\n",
       "rock           216\n",
       "electronic     216\n",
       "dance          210\n",
       "hiphop          97\n",
       "alternative     63\n",
       "jazz            61\n",
       "classical       60\n",
       "rusrap          59\n",
       "world           54\n",
       "Name: genre_name, dtype: int64"
      ]
     },
     "execution_count": 42,
     "metadata": {},
     "output_type": "execute_result"
    }
   ],
   "source": "genre_weekday(spb_general, 'Friday', '17:00:00', '23:00:00')"
  },
  {
   "metadata": {},
   "cell_type": "markdown",
   "source": [
    "The popular genres on Monday morning in both St. Petersburg and Moscow turned out to be similar: as expected, pop music is popular in both cities. However, the bottom of the top 10 differs between the two cities: jazz and Russian rap make it into the top 10 in St. Petersburg, while in Moscow, the *world* genre appears.\n",
    "\n",
    "By the end of the week, the situation remains the same. Pop music still holds the top spot. Again, the difference is only noticeable at the bottom of the top 10, where *world* is also present on Friday evening in St. Petersburg."
   ]
  },
  {
   "metadata": {},
   "cell_type": "markdown",
   "source": "**Conclusion**"
  },
  {
   "metadata": {},
   "cell_type": "markdown",
   "source": "Pop is the undisputed leader, and the top 5 are generally the same in both cities. However, the end of the list is more dynamic: each city highlights more characteristic genres, which indeed shift their positions depending on the day of the week and time."
  },
  {
   "metadata": {},
   "cell_type": "markdown",
   "source": "## Moscow and St. Petersburg—two different capitals, two different directions in music. Is that true?"
  },
  {
   "metadata": {},
   "cell_type": "markdown",
   "source": "Hypothesis: St. Petersburg is rich in rap culture, so this genre is listened to more frequently there, while Moscow is a city of contrasts, but the majority of users tend to listen to pop music."
  },
  {
   "metadata": {},
   "cell_type": "markdown",
   "source": [
    "Group the *moscow_general* table by genre, count the number of tracks in each genre using the *count()* method, sort in descending order, and save the result in the *moscow_genres* table.\n",
    "\n",
    "View the first 10 rows of this new table."
   ]
  },
  {
   "cell_type": "code",
   "execution_count": 43,
   "metadata": {
    "colab": {},
    "colab_type": "code",
    "deletable": false,
    "id": "OohoTcsYBheo"
   },
   "outputs": [],
   "source": "moscow_genres = moscow_general.groupby('genre_name')['genre_name'].count().sort_values(ascending=False)"
  },
  {
   "cell_type": "code",
   "execution_count": 44,
   "metadata": {
    "colab": {},
    "colab_type": "code",
    "deletable": false,
    "id": "h7IhIKDrBher"
   },
   "outputs": [
    {
     "data": {
      "text/plain": [
       "genre_name\n",
       "pop            5892\n",
       "dance          4435\n",
       "rock           3965\n",
       "electronic     3786\n",
       "hiphop         2096\n",
       "classical      1616\n",
       "world          1432\n",
       "alternative    1379\n",
       "ruspop         1372\n",
       "rusrap         1161\n",
       "Name: genre_name, dtype: int64"
      ]
     },
     "execution_count": 44,
     "metadata": {},
     "output_type": "execute_result"
    }
   ],
   "source": "moscow_genres.head(10)"
  },
  {
   "metadata": {},
   "cell_type": "markdown",
   "source": [
    "Group the *spb_general* table by genre, count the number of tracks in each genre using the *count()* method, sort in descending order, and save the result in the *spb_genres* table.\n",
    "\n",
    "View the first 10 rows of this table. Now you can compare the two cities."
   ]
  },
  {
   "cell_type": "code",
   "execution_count": 45,
   "metadata": {
    "colab": {},
    "colab_type": "code",
    "deletable": false,
    "id": "eQrdA85dB1LO"
   },
   "outputs": [],
   "source": "spb_genres = spb_general.groupby('genre_name')['genre_name'].count().sort_values(ascending=False)"
  },
  {
   "cell_type": "code",
   "execution_count": 46,
   "metadata": {
    "colab": {},
    "colab_type": "code",
    "deletable": false,
    "id": "AE-Z-1wCB1LS"
   },
   "outputs": [
    {
     "data": {
      "text/plain": [
       "genre_name\n",
       "pop            2431\n",
       "dance          1932\n",
       "rock           1879\n",
       "electronic     1736\n",
       "hiphop          960\n",
       "alternative     649\n",
       "classical       646\n",
       "rusrap          564\n",
       "ruspop          538\n",
       "world           515\n",
       "Name: genre_name, dtype: int64"
      ]
     },
     "execution_count": 46,
     "metadata": {},
     "output_type": "execute_result"
    }
   ],
   "source": "spb_genres.head(10)"
  },
  {
   "metadata": {},
   "cell_type": "markdown",
   "source": "**Conclusion**"
  },
  {
   "metadata": {},
   "cell_type": "markdown",
   "source": "In Moscow, besides the universally popular pop genre, there is a strong presence of Russian pop music, indicating a broader interest in this genre. Contrary to the hypothesis, rap holds similar positions in both cities."
  },
  {
   "metadata": {},
   "cell_type": "markdown",
   "source": "# Stage 4. Research Results\n"
  },
  {
   "metadata": {},
   "cell_type": "markdown",
   "source": [
    "Working Hypotheses:\n",
    "\n",
    "* Music is listened too differently in Moscow and St. Petersburg.\n",
    "\n",
    "* The top ten most popular genres on Monday morning and Friday evening have distinct differences.\n",
    "\n",
    "* The populations of the two cities prefer different music genres.\n",
    "\n",
    "**General Results**\n",
    "\n",
    "Moscow and St. Petersburg share similar tastes, with pop music being dominant in both cities. There is no significant variation in preferences depending on the day of the week within each city—people consistently listen to what they enjoy. However, between the cities, there is a mirrored pattern in terms of listening behavior during the week: Moscow listens more on Monday and Friday, while St. Petersburg listens more on Wednesday and less on Monday and Friday.\n",
    "\n",
    "As a result, the first and second hypotheses are confirmed, while the third hypothesis is not."
   ]
  }
 ],
 "metadata": {
  "ExecuteTimeLog": [
   {
    "duration": 566,
    "start_time": "2021-07-26T22:02:32.981Z"
   },
   {
    "duration": 132,
    "start_time": "2021-07-26T22:02:34.329Z"
   },
   {
    "duration": 17,
    "start_time": "2021-07-26T22:02:35.387Z"
   },
   {
    "duration": 25,
    "start_time": "2021-07-26T22:02:37.835Z"
   },
   {
    "duration": 577,
    "start_time": "2021-07-26T22:05:28.376Z"
   },
   {
    "duration": 141,
    "start_time": "2021-07-26T22:05:28.955Z"
   },
   {
    "duration": 16,
    "start_time": "2021-07-26T22:05:29.166Z"
   },
   {
    "duration": 24,
    "start_time": "2021-07-26T22:05:29.514Z"
   },
   {
    "duration": 5,
    "start_time": "2021-07-26T22:05:30.576Z"
   },
   {
    "duration": 4,
    "start_time": "2021-07-26T22:05:31.063Z"
   },
   {
    "duration": 3,
    "start_time": "2021-07-26T22:05:31.227Z"
   },
   {
    "duration": 23,
    "start_time": "2021-07-26T22:05:31.553Z"
   },
   {
    "duration": 9,
    "start_time": "2021-07-26T22:05:32.036Z"
   },
   {
    "duration": 9,
    "start_time": "2021-07-26T22:05:32.215Z"
   },
   {
    "duration": 22,
    "start_time": "2021-07-26T22:05:32.385Z"
   },
   {
    "duration": 16,
    "start_time": "2021-07-26T22:05:32.725Z"
   },
   {
    "duration": 23,
    "start_time": "2021-07-26T22:05:32.902Z"
   },
   {
    "duration": 59,
    "start_time": "2021-07-26T22:05:33.219Z"
   },
   {
    "duration": 69,
    "start_time": "2021-07-26T22:05:33.397Z"
   },
   {
    "duration": 51,
    "start_time": "2021-07-26T22:05:33.567Z"
   },
   {
    "duration": 5,
    "start_time": "2021-07-26T22:05:35.004Z"
   },
   {
    "duration": 3,
    "start_time": "2021-07-26T22:05:35.673Z"
   },
   {
    "duration": 4,
    "start_time": "2021-07-26T22:05:36.714Z"
   },
   {
    "duration": 3,
    "start_time": "2021-07-26T22:05:37.193Z"
   },
   {
    "duration": 4,
    "start_time": "2021-07-26T22:05:37.680Z"
   },
   {
    "duration": 3,
    "start_time": "2021-07-26T22:05:38.628Z"
   },
   {
    "duration": 11,
    "start_time": "2021-07-26T22:05:39.090Z"
   },
   {
    "duration": 24,
    "start_time": "2021-07-26T22:05:40.007Z"
   },
   {
    "duration": 10,
    "start_time": "2021-07-26T22:05:42.642Z"
   },
   {
    "duration": 11,
    "start_time": "2021-07-26T22:05:44.135Z"
   },
   {
    "duration": 3,
    "start_time": "2021-07-26T22:05:45.571Z"
   },
   {
    "duration": 15,
    "start_time": "2021-07-26T22:05:46.219Z"
   },
   {
    "duration": 13,
    "start_time": "2021-07-26T22:05:46.847Z"
   },
   {
    "duration": 14,
    "start_time": "2021-07-26T22:05:47.436Z"
   },
   {
    "duration": 14,
    "start_time": "2021-07-26T22:05:48.020Z"
   },
   {
    "duration": 16,
    "start_time": "2021-07-26T22:05:48.645Z"
   },
   {
    "duration": 13,
    "start_time": "2021-07-26T22:05:49.115Z"
   },
   {
    "duration": 60,
    "start_time": "2021-07-26T22:05:50.151Z"
   },
   {
    "duration": 12,
    "start_time": "2021-07-26T22:05:52.759Z"
   },
   {
    "duration": 13,
    "start_time": "2021-07-26T22:05:53.218Z"
   },
   {
    "duration": 4,
    "start_time": "2021-07-26T22:05:54.289Z"
   },
   {
    "duration": 16,
    "start_time": "2021-07-26T22:05:55.691Z"
   },
   {
    "duration": 14,
    "start_time": "2021-07-26T22:05:56.825Z"
   },
   {
    "duration": 17,
    "start_time": "2021-07-26T22:05:57.516Z"
   },
   {
    "duration": 12,
    "start_time": "2021-07-26T22:05:58.375Z"
   },
   {
    "duration": 9,
    "start_time": "2021-07-26T22:06:08.130Z"
   },
   {
    "duration": 5,
    "start_time": "2021-07-26T22:06:08.534Z"
   },
   {
    "duration": 7,
    "start_time": "2021-07-26T22:06:09.987Z"
   },
   {
    "duration": 5,
    "start_time": "2021-07-26T22:06:10.435Z"
   },
   {
    "duration": 8,
    "start_time": "2021-07-26T22:14:32.064Z"
   },
   {
    "duration": 549,
    "start_time": "2021-07-26T22:16:01.703Z"
   },
   {
    "duration": 133,
    "start_time": "2021-07-26T22:16:02.254Z"
   },
   {
    "duration": 16,
    "start_time": "2021-07-26T22:16:02.389Z"
   },
   {
    "duration": 26,
    "start_time": "2021-07-26T22:16:02.407Z"
   },
   {
    "duration": 4,
    "start_time": "2021-07-26T22:16:02.434Z"
   },
   {
    "duration": 3,
    "start_time": "2021-07-26T22:16:02.440Z"
   },
   {
    "duration": 5,
    "start_time": "2021-07-26T22:16:02.445Z"
   },
   {
    "duration": 53,
    "start_time": "2021-07-26T22:16:02.453Z"
   },
   {
    "duration": 22,
    "start_time": "2021-07-26T22:16:02.509Z"
   },
   {
    "duration": 23,
    "start_time": "2021-07-26T22:16:02.533Z"
   },
   {
    "duration": 25,
    "start_time": "2021-07-26T22:16:02.558Z"
   },
   {
    "duration": 27,
    "start_time": "2021-07-26T22:16:02.584Z"
   },
   {
    "duration": 22,
    "start_time": "2021-07-26T22:16:02.612Z"
   },
   {
    "duration": 80,
    "start_time": "2021-07-26T22:16:02.636Z"
   },
   {
    "duration": 76,
    "start_time": "2021-07-26T22:16:02.717Z"
   },
   {
    "duration": 50,
    "start_time": "2021-07-26T22:16:02.795Z"
   },
   {
    "duration": 4,
    "start_time": "2021-07-26T22:16:02.847Z"
   },
   {
    "duration": 5,
    "start_time": "2021-07-26T22:16:02.853Z"
   },
   {
    "duration": 5,
    "start_time": "2021-07-26T22:16:02.860Z"
   },
   {
    "duration": 22,
    "start_time": "2021-07-26T22:16:02.866Z"
   },
   {
    "duration": 5,
    "start_time": "2021-07-26T22:16:02.889Z"
   },
   {
    "duration": 4,
    "start_time": "2021-07-26T22:16:02.896Z"
   },
   {
    "duration": 10,
    "start_time": "2021-07-26T22:16:02.903Z"
   },
   {
    "duration": 21,
    "start_time": "2021-07-26T22:16:02.915Z"
   },
   {
    "duration": 10,
    "start_time": "2021-07-26T22:16:02.938Z"
   },
   {
    "duration": 41,
    "start_time": "2021-07-26T22:16:02.949Z"
   },
   {
    "duration": 3,
    "start_time": "2021-07-26T22:16:02.992Z"
   },
   {
    "duration": 18,
    "start_time": "2021-07-26T22:16:02.996Z"
   },
   {
    "duration": 13,
    "start_time": "2021-07-26T22:16:03.016Z"
   },
   {
    "duration": 21,
    "start_time": "2021-07-26T22:16:03.031Z"
   },
   {
    "duration": 36,
    "start_time": "2021-07-26T22:16:03.054Z"
   },
   {
    "duration": 14,
    "start_time": "2021-07-26T22:16:03.092Z"
   },
   {
    "duration": 13,
    "start_time": "2021-07-26T22:16:03.107Z"
   },
   {
    "duration": 81,
    "start_time": "2021-07-26T22:16:03.122Z"
   },
   {
    "duration": 6,
    "start_time": "2021-07-26T22:16:03.204Z"
   },
   {
    "duration": 12,
    "start_time": "2021-07-26T22:16:03.212Z"
   },
   {
    "duration": 9,
    "start_time": "2021-07-26T22:16:03.225Z"
   },
   {
    "duration": 4,
    "start_time": "2021-07-26T22:16:03.235Z"
   },
   {
    "duration": 20,
    "start_time": "2021-07-26T22:16:03.240Z"
   },
   {
    "duration": 12,
    "start_time": "2021-07-26T22:16:03.284Z"
   },
   {
    "duration": 16,
    "start_time": "2021-07-26T22:16:03.298Z"
   },
   {
    "duration": 11,
    "start_time": "2021-07-26T22:16:03.315Z"
   },
   {
    "duration": 8,
    "start_time": "2021-07-26T22:16:03.327Z"
   },
   {
    "duration": 4,
    "start_time": "2021-07-26T22:16:03.337Z"
   },
   {
    "duration": 42,
    "start_time": "2021-07-26T22:16:03.343Z"
   },
   {
    "duration": 5,
    "start_time": "2021-07-26T22:16:03.386Z"
   }
  ],
  "kernelspec": {
   "display_name": "Python 3 (ipykernel)",
   "language": "python",
   "name": "python3"
  },
  "language_info": {
   "codemirror_mode": {
    "name": "ipython",
    "version": 3
   },
   "file_extension": ".py",
   "mimetype": "text/x-python",
   "name": "python",
   "nbconvert_exporter": "python",
   "pygments_lexer": "ipython3",
   "version": "3.9.6"
  },
  "toc": {
   "base_numbering": 1,
   "nav_menu": {},
   "number_sections": true,
   "sideBar": true,
   "skip_h1_title": true,
   "title_cell": "Table of Contents",
   "title_sidebar": "Contents",
   "toc_cell": false,
   "toc_position": {},
   "toc_section_display": true,
   "toc_window_display": false
  }
 },
 "nbformat": 4,
 "nbformat_minor": 4
}
